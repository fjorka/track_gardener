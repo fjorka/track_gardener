{
 "cells": [
  {
   "cell_type": "code",
   "execution_count": 1,
   "id": "5133a5f5",
   "metadata": {},
   "outputs": [],
   "source": [
    "\n",
    "import dask.array as da\n",
    "import yaml\n",
    "\n",
    "from track_gardener.converters.track_array_2_gardener import (\n",
    "    assign_parent_offspring_relationships,\n",
    "    convert_array_segmentations_to_db,\n",
    ")"
   ]
  },
  {
   "cell_type": "code",
   "execution_count": null,
   "id": "bf1a60e6",
   "metadata": {},
   "outputs": [],
   "source": [
    "segm_path = '../example_data/example_conversion/Fluo-N2DL-HeLa-01_segm.zarr/labels'\n",
    "config_path = '../example_data/Fluo-N2DL-HeLa-01_config.yaml'"
   ]
  },
  {
   "cell_type": "code",
   "execution_count": 3,
   "id": "ea693ec7",
   "metadata": {},
   "outputs": [],
   "source": [
    "# read segmentation array\n",
    "segm_array = da.from_zarr(segm_path)"
   ]
  },
  {
   "cell_type": "code",
   "execution_count": 4,
   "id": "14aaf9cc",
   "metadata": {},
   "outputs": [],
   "source": [
    "# read in configuration file\n",
    "with open(config_path) as file:\n",
    "    config = yaml.safe_load(file)"
   ]
  },
  {
   "cell_type": "code",
   "execution_count": 5,
   "id": "db7c514d",
   "metadata": {},
   "outputs": [
    {
     "name": "stderr",
     "output_type": "stream",
     "text": [
      "\u001b[32m2025-07-24 22:54:49.958\u001b[0m | \u001b[1mINFO    \u001b[0m | \u001b[36mtrack_gardener.converters.track_array_2_gardener\u001b[0m:\u001b[36mconvert_labeled_frame_to_cells\u001b[0m:\u001b[36m89\u001b[0m - \u001b[1mFound 2 labeled objects at t=0\u001b[0m\n",
      "\u001b[32m2025-07-24 22:54:50.046\u001b[0m | \u001b[1mINFO    \u001b[0m | \u001b[36mtrack_gardener.converters.track_array_2_gardener\u001b[0m:\u001b[36mconvert_labeled_frame_to_cells\u001b[0m:\u001b[36m89\u001b[0m - \u001b[1mFound 2 labeled objects at t=1\u001b[0m\n",
      "\u001b[32m2025-07-24 22:54:50.105\u001b[0m | \u001b[1mINFO    \u001b[0m | \u001b[36mtrack_gardener.converters.track_array_2_gardener\u001b[0m:\u001b[36mconvert_labeled_frame_to_cells\u001b[0m:\u001b[36m89\u001b[0m - \u001b[1mFound 2 labeled objects at t=2\u001b[0m\n",
      "\u001b[32m2025-07-24 22:54:50.160\u001b[0m | \u001b[1mINFO    \u001b[0m | \u001b[36mtrack_gardener.converters.track_array_2_gardener\u001b[0m:\u001b[36mconvert_labeled_frame_to_cells\u001b[0m:\u001b[36m89\u001b[0m - \u001b[1mFound 3 labeled objects at t=3\u001b[0m\n",
      "\u001b[32m2025-07-24 22:54:50.241\u001b[0m | \u001b[1mINFO    \u001b[0m | \u001b[36mtrack_gardener.converters.track_array_2_gardener\u001b[0m:\u001b[36mconvert_labeled_frame_to_cells\u001b[0m:\u001b[36m89\u001b[0m - \u001b[1mFound 3 labeled objects at t=4\u001b[0m\n",
      "\u001b[32m2025-07-24 22:54:50.327\u001b[0m | \u001b[1mINFO    \u001b[0m | \u001b[36mtrack_gardener.converters.track_array_2_gardener\u001b[0m:\u001b[36mconvert_labeled_frame_to_cells\u001b[0m:\u001b[36m89\u001b[0m - \u001b[1mFound 3 labeled objects at t=5\u001b[0m\n",
      "\u001b[32m2025-07-24 22:54:50.395\u001b[0m | \u001b[1mINFO    \u001b[0m | \u001b[36mtrack_gardener.converters.track_array_2_gardener\u001b[0m:\u001b[36mconvert_labeled_frame_to_cells\u001b[0m:\u001b[36m89\u001b[0m - \u001b[1mFound 4 labeled objects at t=6\u001b[0m\n",
      "\u001b[32m2025-07-24 22:54:50.483\u001b[0m | \u001b[1mINFO    \u001b[0m | \u001b[36mtrack_gardener.converters.track_array_2_gardener\u001b[0m:\u001b[36mconvert_labeled_frame_to_cells\u001b[0m:\u001b[36m89\u001b[0m - \u001b[1mFound 4 labeled objects at t=7\u001b[0m\n",
      "\u001b[32m2025-07-24 22:54:50.578\u001b[0m | \u001b[1mINFO    \u001b[0m | \u001b[36mtrack_gardener.converters.track_array_2_gardener\u001b[0m:\u001b[36mconvert_labeled_frame_to_cells\u001b[0m:\u001b[36m89\u001b[0m - \u001b[1mFound 4 labeled objects at t=8\u001b[0m\n",
      "\u001b[32m2025-07-24 22:54:50.673\u001b[0m | \u001b[1mINFO    \u001b[0m | \u001b[36mtrack_gardener.converters.track_array_2_gardener\u001b[0m:\u001b[36mconvert_labeled_frame_to_cells\u001b[0m:\u001b[36m89\u001b[0m - \u001b[1mFound 4 labeled objects at t=9\u001b[0m\n",
      "\u001b[32m2025-07-24 22:54:50.759\u001b[0m | \u001b[1mINFO    \u001b[0m | \u001b[36mtrack_gardener.converters.track_array_2_gardener\u001b[0m:\u001b[36mconvert_labeled_frame_to_cells\u001b[0m:\u001b[36m89\u001b[0m - \u001b[1mFound 4 labeled objects at t=10\u001b[0m\n",
      "\u001b[32m2025-07-24 22:54:50.848\u001b[0m | \u001b[1mINFO    \u001b[0m | \u001b[36mtrack_gardener.converters.track_array_2_gardener\u001b[0m:\u001b[36mconvert_labeled_frame_to_cells\u001b[0m:\u001b[36m89\u001b[0m - \u001b[1mFound 4 labeled objects at t=11\u001b[0m\n",
      "\u001b[32m2025-07-24 22:54:50.961\u001b[0m | \u001b[1mINFO    \u001b[0m | \u001b[36mtrack_gardener.converters.track_array_2_gardener\u001b[0m:\u001b[36mconvert_labeled_frame_to_cells\u001b[0m:\u001b[36m89\u001b[0m - \u001b[1mFound 4 labeled objects at t=12\u001b[0m\n",
      "\u001b[32m2025-07-24 22:54:51.020\u001b[0m | \u001b[1mINFO    \u001b[0m | \u001b[36mtrack_gardener.converters.track_array_2_gardener\u001b[0m:\u001b[36mconvert_labeled_frame_to_cells\u001b[0m:\u001b[36m89\u001b[0m - \u001b[1mFound 4 labeled objects at t=13\u001b[0m\n",
      "\u001b[32m2025-07-24 22:54:51.071\u001b[0m | \u001b[1mINFO    \u001b[0m | \u001b[36mtrack_gardener.converters.track_array_2_gardener\u001b[0m:\u001b[36mconvert_labeled_frame_to_cells\u001b[0m:\u001b[36m89\u001b[0m - \u001b[1mFound 4 labeled objects at t=14\u001b[0m\n",
      "\u001b[32m2025-07-24 22:54:51.136\u001b[0m | \u001b[1mINFO    \u001b[0m | \u001b[36mtrack_gardener.converters.track_array_2_gardener\u001b[0m:\u001b[36mconvert_labeled_frame_to_cells\u001b[0m:\u001b[36m89\u001b[0m - \u001b[1mFound 4 labeled objects at t=15\u001b[0m\n",
      "\u001b[32m2025-07-24 22:54:51.193\u001b[0m | \u001b[1mINFO    \u001b[0m | \u001b[36mtrack_gardener.converters.track_array_2_gardener\u001b[0m:\u001b[36mconvert_labeled_frame_to_cells\u001b[0m:\u001b[36m89\u001b[0m - \u001b[1mFound 4 labeled objects at t=16\u001b[0m\n",
      "\u001b[32m2025-07-24 22:54:51.269\u001b[0m | \u001b[1mINFO    \u001b[0m | \u001b[36mtrack_gardener.converters.track_array_2_gardener\u001b[0m:\u001b[36mconvert_labeled_frame_to_cells\u001b[0m:\u001b[36m89\u001b[0m - \u001b[1mFound 4 labeled objects at t=17\u001b[0m\n",
      "\u001b[32m2025-07-24 22:54:51.364\u001b[0m | \u001b[1mINFO    \u001b[0m | \u001b[36mtrack_gardener.converters.track_array_2_gardener\u001b[0m:\u001b[36mconvert_labeled_frame_to_cells\u001b[0m:\u001b[36m89\u001b[0m - \u001b[1mFound 4 labeled objects at t=18\u001b[0m\n",
      "\u001b[32m2025-07-24 22:54:51.450\u001b[0m | \u001b[1mINFO    \u001b[0m | \u001b[36mtrack_gardener.converters.track_array_2_gardener\u001b[0m:\u001b[36mconvert_labeled_frame_to_cells\u001b[0m:\u001b[36m89\u001b[0m - \u001b[1mFound 4 labeled objects at t=19\u001b[0m\n",
      "\u001b[32m2025-07-24 22:54:51.525\u001b[0m | \u001b[1mINFO    \u001b[0m | \u001b[36mtrack_gardener.converters.track_array_2_gardener\u001b[0m:\u001b[36mconvert_labeled_frame_to_cells\u001b[0m:\u001b[36m89\u001b[0m - \u001b[1mFound 4 labeled objects at t=20\u001b[0m\n",
      "\u001b[32m2025-07-24 22:54:51.590\u001b[0m | \u001b[1mINFO    \u001b[0m | \u001b[36mtrack_gardener.converters.track_array_2_gardener\u001b[0m:\u001b[36mconvert_labeled_frame_to_cells\u001b[0m:\u001b[36m89\u001b[0m - \u001b[1mFound 4 labeled objects at t=21\u001b[0m\n",
      "\u001b[32m2025-07-24 22:54:51.642\u001b[0m | \u001b[1mINFO    \u001b[0m | \u001b[36mtrack_gardener.converters.track_array_2_gardener\u001b[0m:\u001b[36mconvert_labeled_frame_to_cells\u001b[0m:\u001b[36m89\u001b[0m - \u001b[1mFound 4 labeled objects at t=22\u001b[0m\n",
      "\u001b[32m2025-07-24 22:54:51.712\u001b[0m | \u001b[1mINFO    \u001b[0m | \u001b[36mtrack_gardener.converters.track_array_2_gardener\u001b[0m:\u001b[36mconvert_labeled_frame_to_cells\u001b[0m:\u001b[36m89\u001b[0m - \u001b[1mFound 4 labeled objects at t=23\u001b[0m\n",
      "\u001b[32m2025-07-24 22:54:51.823\u001b[0m | \u001b[1mINFO    \u001b[0m | \u001b[36mtrack_gardener.converters.track_array_2_gardener\u001b[0m:\u001b[36mconvert_labeled_frame_to_cells\u001b[0m:\u001b[36m89\u001b[0m - \u001b[1mFound 4 labeled objects at t=24\u001b[0m\n",
      "\u001b[32m2025-07-24 22:54:51.877\u001b[0m | \u001b[1mINFO    \u001b[0m | \u001b[36mtrack_gardener.converters.track_array_2_gardener\u001b[0m:\u001b[36mconvert_labeled_frame_to_cells\u001b[0m:\u001b[36m89\u001b[0m - \u001b[1mFound 4 labeled objects at t=25\u001b[0m\n",
      "\u001b[32m2025-07-24 22:54:51.940\u001b[0m | \u001b[1mINFO    \u001b[0m | \u001b[36mtrack_gardener.converters.track_array_2_gardener\u001b[0m:\u001b[36mconvert_labeled_frame_to_cells\u001b[0m:\u001b[36m89\u001b[0m - \u001b[1mFound 4 labeled objects at t=26\u001b[0m\n",
      "\u001b[32m2025-07-24 22:54:52.019\u001b[0m | \u001b[1mINFO    \u001b[0m | \u001b[36mtrack_gardener.converters.track_array_2_gardener\u001b[0m:\u001b[36mconvert_labeled_frame_to_cells\u001b[0m:\u001b[36m89\u001b[0m - \u001b[1mFound 4 labeled objects at t=27\u001b[0m\n",
      "\u001b[32m2025-07-24 22:54:52.101\u001b[0m | \u001b[1mINFO    \u001b[0m | \u001b[36mtrack_gardener.converters.track_array_2_gardener\u001b[0m:\u001b[36mconvert_labeled_frame_to_cells\u001b[0m:\u001b[36m89\u001b[0m - \u001b[1mFound 4 labeled objects at t=28\u001b[0m\n",
      "\u001b[32m2025-07-24 22:54:52.161\u001b[0m | \u001b[1mINFO    \u001b[0m | \u001b[36mtrack_gardener.converters.track_array_2_gardener\u001b[0m:\u001b[36mconvert_labeled_frame_to_cells\u001b[0m:\u001b[36m89\u001b[0m - \u001b[1mFound 4 labeled objects at t=29\u001b[0m\n",
      "\u001b[32m2025-07-24 22:54:52.237\u001b[0m | \u001b[1mINFO    \u001b[0m | \u001b[36mtrack_gardener.converters.track_array_2_gardener\u001b[0m:\u001b[36mconvert_labeled_frame_to_cells\u001b[0m:\u001b[36m89\u001b[0m - \u001b[1mFound 4 labeled objects at t=30\u001b[0m\n",
      "\u001b[32m2025-07-24 22:54:52.327\u001b[0m | \u001b[1mINFO    \u001b[0m | \u001b[36mtrack_gardener.converters.track_array_2_gardener\u001b[0m:\u001b[36mconvert_labeled_frame_to_cells\u001b[0m:\u001b[36m89\u001b[0m - \u001b[1mFound 4 labeled objects at t=31\u001b[0m\n",
      "\u001b[32m2025-07-24 22:54:52.406\u001b[0m | \u001b[1mINFO    \u001b[0m | \u001b[36mtrack_gardener.converters.track_array_2_gardener\u001b[0m:\u001b[36mconvert_labeled_frame_to_cells\u001b[0m:\u001b[36m89\u001b[0m - \u001b[1mFound 5 labeled objects at t=32\u001b[0m\n",
      "\u001b[32m2025-07-24 22:54:52.496\u001b[0m | \u001b[1mINFO    \u001b[0m | \u001b[36mtrack_gardener.converters.track_array_2_gardener\u001b[0m:\u001b[36mconvert_labeled_frame_to_cells\u001b[0m:\u001b[36m89\u001b[0m - \u001b[1mFound 6 labeled objects at t=33\u001b[0m\n",
      "\u001b[32m2025-07-24 22:54:52.564\u001b[0m | \u001b[1mINFO    \u001b[0m | \u001b[36mtrack_gardener.converters.track_array_2_gardener\u001b[0m:\u001b[36mconvert_labeled_frame_to_cells\u001b[0m:\u001b[36m89\u001b[0m - \u001b[1mFound 6 labeled objects at t=34\u001b[0m\n",
      "\u001b[32m2025-07-24 22:54:52.639\u001b[0m | \u001b[1mINFO    \u001b[0m | \u001b[36mtrack_gardener.converters.track_array_2_gardener\u001b[0m:\u001b[36mconvert_labeled_frame_to_cells\u001b[0m:\u001b[36m89\u001b[0m - \u001b[1mFound 6 labeled objects at t=35\u001b[0m\n",
      "\u001b[32m2025-07-24 22:54:52.746\u001b[0m | \u001b[1mINFO    \u001b[0m | \u001b[36mtrack_gardener.converters.track_array_2_gardener\u001b[0m:\u001b[36mconvert_labeled_frame_to_cells\u001b[0m:\u001b[36m89\u001b[0m - \u001b[1mFound 6 labeled objects at t=36\u001b[0m\n",
      "\u001b[32m2025-07-24 22:54:52.869\u001b[0m | \u001b[1mINFO    \u001b[0m | \u001b[36mtrack_gardener.converters.track_array_2_gardener\u001b[0m:\u001b[36mconvert_labeled_frame_to_cells\u001b[0m:\u001b[36m89\u001b[0m - \u001b[1mFound 7 labeled objects at t=37\u001b[0m\n",
      "\u001b[32m2025-07-24 22:54:52.999\u001b[0m | \u001b[1mINFO    \u001b[0m | \u001b[36mtrack_gardener.converters.track_array_2_gardener\u001b[0m:\u001b[36mconvert_labeled_frame_to_cells\u001b[0m:\u001b[36m89\u001b[0m - \u001b[1mFound 7 labeled objects at t=38\u001b[0m\n",
      "\u001b[32m2025-07-24 22:54:53.090\u001b[0m | \u001b[1mINFO    \u001b[0m | \u001b[36mtrack_gardener.converters.track_array_2_gardener\u001b[0m:\u001b[36mconvert_labeled_frame_to_cells\u001b[0m:\u001b[36m89\u001b[0m - \u001b[1mFound 7 labeled objects at t=39\u001b[0m\n",
      "\u001b[32m2025-07-24 22:54:53.190\u001b[0m | \u001b[1mINFO    \u001b[0m | \u001b[36mtrack_gardener.converters.track_array_2_gardener\u001b[0m:\u001b[36mconvert_labeled_frame_to_cells\u001b[0m:\u001b[36m89\u001b[0m - \u001b[1mFound 8 labeled objects at t=40\u001b[0m\n",
      "\u001b[32m2025-07-24 22:54:53.342\u001b[0m | \u001b[1mINFO    \u001b[0m | \u001b[36mtrack_gardener.converters.track_array_2_gardener\u001b[0m:\u001b[36mconvert_labeled_frame_to_cells\u001b[0m:\u001b[36m89\u001b[0m - \u001b[1mFound 8 labeled objects at t=41\u001b[0m\n",
      "\u001b[32m2025-07-24 22:54:53.478\u001b[0m | \u001b[1mINFO    \u001b[0m | \u001b[36mtrack_gardener.converters.track_array_2_gardener\u001b[0m:\u001b[36mconvert_labeled_frame_to_cells\u001b[0m:\u001b[36m89\u001b[0m - \u001b[1mFound 8 labeled objects at t=42\u001b[0m\n",
      "\u001b[32m2025-07-24 22:54:53.589\u001b[0m | \u001b[1mINFO    \u001b[0m | \u001b[36mtrack_gardener.converters.track_array_2_gardener\u001b[0m:\u001b[36mconvert_labeled_frame_to_cells\u001b[0m:\u001b[36m89\u001b[0m - \u001b[1mFound 8 labeled objects at t=43\u001b[0m\n",
      "\u001b[32m2025-07-24 22:54:53.711\u001b[0m | \u001b[1mINFO    \u001b[0m | \u001b[36mtrack_gardener.converters.track_array_2_gardener\u001b[0m:\u001b[36mconvert_labeled_frame_to_cells\u001b[0m:\u001b[36m89\u001b[0m - \u001b[1mFound 8 labeled objects at t=44\u001b[0m\n"
     ]
    }
   ],
   "source": [
    "# convert and save to Track Gardener database\n",
    "convert_array_segmentations_to_db(segm_array, config)"
   ]
  },
  {
   "cell_type": "code",
   "execution_count": 6,
   "id": "89fc243b",
   "metadata": {},
   "outputs": [
    {
     "name": "stderr",
     "output_type": "stream",
     "text": [
      "\u001b[32m2025-07-24 22:54:58.774\u001b[0m | \u001b[1mINFO    \u001b[0m | \u001b[36mtrack_gardener.converters.track_array_2_gardener\u001b[0m:\u001b[36massign_parent_offspring_relationships\u001b[0m:\u001b[36m172\u001b[0m - \u001b[1mConnecting to database at D:\\track-gardener\\example_data\\Fluo-N2DL-HeLa-01_sample.db\u001b[0m\n",
      "\u001b[32m2025-07-24 22:54:58.784\u001b[0m | \u001b[1mINFO    \u001b[0m | \u001b[36mtrack_gardener.converters.track_array_2_gardener\u001b[0m:\u001b[36massign_parent_offspring_relationships\u001b[0m:\u001b[36m182\u001b[0m - \u001b[1mFound 12 candidate offspring tracks\u001b[0m\n",
      "\u001b[32m2025-07-24 22:54:58.799\u001b[0m | \u001b[34m\u001b[1mDEBUG   \u001b[0m | \u001b[36mtrack_gardener.converters.track_array_2_gardener\u001b[0m:\u001b[36massign_parent_offspring_relationships\u001b[0m:\u001b[36m235\u001b[0m - \u001b[34m\u001b[1mAssigned parent 204 to child 207 (dist=10.00)\u001b[0m\n",
      "\u001b[32m2025-07-24 22:54:58.807\u001b[0m | \u001b[34m\u001b[1mDEBUG   \u001b[0m | \u001b[36mtrack_gardener.converters.track_array_2_gardener\u001b[0m:\u001b[36massign_parent_offspring_relationships\u001b[0m:\u001b[36m235\u001b[0m - \u001b[34m\u001b[1mAssigned parent 207 to child 208 (dist=20.40)\u001b[0m\n",
      "\u001b[32m2025-07-24 22:54:58.812\u001b[0m | \u001b[34m\u001b[1mDEBUG   \u001b[0m | \u001b[36mtrack_gardener.converters.track_array_2_gardener\u001b[0m:\u001b[36massign_parent_offspring_relationships\u001b[0m:\u001b[36m235\u001b[0m - \u001b[34m\u001b[1mAssigned parent 220 to child 211 (dist=25.00)\u001b[0m\n",
      "\u001b[32m2025-07-24 22:54:58.816\u001b[0m | \u001b[34m\u001b[1mDEBUG   \u001b[0m | \u001b[36mtrack_gardener.converters.track_array_2_gardener\u001b[0m:\u001b[36massign_parent_offspring_relationships\u001b[0m:\u001b[36m235\u001b[0m - \u001b[34m\u001b[1mAssigned parent 220 to child 212 (dist=13.00)\u001b[0m\n",
      "\u001b[32m2025-07-24 22:54:58.820\u001b[0m | \u001b[34m\u001b[1mDEBUG   \u001b[0m | \u001b[36mtrack_gardener.converters.track_array_2_gardener\u001b[0m:\u001b[36massign_parent_offspring_relationships\u001b[0m:\u001b[36m235\u001b[0m - \u001b[34m\u001b[1mAssigned parent 204 to child 220 (dist=23.09)\u001b[0m\n",
      "\u001b[32m2025-07-24 22:54:58.824\u001b[0m | \u001b[34m\u001b[1mDEBUG   \u001b[0m | \u001b[36mtrack_gardener.converters.track_array_2_gardener\u001b[0m:\u001b[36massign_parent_offspring_relationships\u001b[0m:\u001b[36m235\u001b[0m - \u001b[34m\u001b[1mAssigned parent 207 to child 221 (dist=17.12)\u001b[0m\n",
      "\u001b[32m2025-07-24 22:54:58.831\u001b[0m | \u001b[34m\u001b[1mDEBUG   \u001b[0m | \u001b[36mtrack_gardener.converters.track_array_2_gardener\u001b[0m:\u001b[36massign_parent_offspring_relationships\u001b[0m:\u001b[36m235\u001b[0m - \u001b[34m\u001b[1mAssigned parent 225 to child 227 (dist=20.62)\u001b[0m\n",
      "\u001b[32m2025-07-24 22:54:58.837\u001b[0m | \u001b[34m\u001b[1mDEBUG   \u001b[0m | \u001b[36mtrack_gardener.converters.track_array_2_gardener\u001b[0m:\u001b[36massign_parent_offspring_relationships\u001b[0m:\u001b[36m235\u001b[0m - \u001b[34m\u001b[1mAssigned parent 225 to child 228 (dist=15.81)\u001b[0m\n",
      "\u001b[32m2025-07-24 22:54:58.843\u001b[0m | \u001b[34m\u001b[1mDEBUG   \u001b[0m | \u001b[36mtrack_gardener.converters.track_array_2_gardener\u001b[0m:\u001b[36massign_parent_offspring_relationships\u001b[0m:\u001b[36m235\u001b[0m - \u001b[34m\u001b[1mAssigned parent 228 to child 230 (dist=23.02)\u001b[0m\n",
      "\u001b[32m2025-07-24 22:54:58.846\u001b[0m | \u001b[34m\u001b[1mDEBUG   \u001b[0m | \u001b[36mtrack_gardener.converters.track_array_2_gardener\u001b[0m:\u001b[36massign_parent_offspring_relationships\u001b[0m:\u001b[36m235\u001b[0m - \u001b[34m\u001b[1mAssigned parent 228 to child 231 (dist=21.47)\u001b[0m\n",
      "\u001b[32m2025-07-24 22:54:58.851\u001b[0m | \u001b[34m\u001b[1mDEBUG   \u001b[0m | \u001b[36mtrack_gardener.converters.track_array_2_gardener\u001b[0m:\u001b[36massign_parent_offspring_relationships\u001b[0m:\u001b[36m235\u001b[0m - \u001b[34m\u001b[1mAssigned parent 227 to child 233 (dist=21.10)\u001b[0m\n",
      "\u001b[32m2025-07-24 22:54:58.857\u001b[0m | \u001b[34m\u001b[1mDEBUG   \u001b[0m | \u001b[36mtrack_gardener.converters.track_array_2_gardener\u001b[0m:\u001b[36massign_parent_offspring_relationships\u001b[0m:\u001b[36m235\u001b[0m - \u001b[34m\u001b[1mAssigned parent 227 to child 234 (dist=17.46)\u001b[0m\n",
      "\u001b[32m2025-07-24 22:54:58.875\u001b[0m | \u001b[32m\u001b[1mSUCCESS \u001b[0m | \u001b[36mtrack_gardener.converters.track_array_2_gardener\u001b[0m:\u001b[36massign_parent_offspring_relationships\u001b[0m:\u001b[36m249\u001b[0m - \u001b[32m\u001b[1mParent-offspring assignment complete.\u001b[0m\n"
     ]
    }
   ],
   "source": [
    "# guess parent-offspring relationships by space-time proximity\n",
    "assign_parent_offspring_relationships(db_path=config['database']['path'], parent_radius=100)"
   ]
  },
  {
   "cell_type": "code",
   "execution_count": null,
   "id": "bc668fd1",
   "metadata": {},
   "outputs": [],
   "source": []
  }
 ],
 "metadata": {
  "kernelspec": {
   "display_name": "gardener-env2",
   "language": "python",
   "name": "python3"
  },
  "language_info": {
   "codemirror_mode": {
    "name": "ipython",
    "version": 3
   },
   "file_extension": ".py",
   "mimetype": "text/x-python",
   "name": "python",
   "nbconvert_exporter": "python",
   "pygments_lexer": "ipython3",
   "version": "3.11.13"
  }
 },
 "nbformat": 4,
 "nbformat_minor": 5
}
