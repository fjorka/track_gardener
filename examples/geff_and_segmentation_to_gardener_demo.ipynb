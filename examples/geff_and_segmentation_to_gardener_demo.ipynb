{
 "cells": [
  {
   "cell_type": "code",
   "execution_count": 1,
   "id": "0fed07f9",
   "metadata": {},
   "outputs": [],
   "source": [
    "from track_gardener.converters.validation_utils import validate_geff_seg_ids"
   ]
  },
  {
   "cell_type": "code",
   "execution_count": 2,
   "id": "41cf5380",
   "metadata": {},
   "outputs": [],
   "source": [
    "geff_group_path = r\"D:\\test_data\\Fluo-N2DL-HeLa-01.zarr\\tracks_new\"\n",
    "segmentation_path = r\"D:\\test_data\\Fluo-N2DL-HeLa-01.zarr\\seg-ST\""
   ]
  },
  {
   "cell_type": "code",
   "execution_count": 4,
   "id": "e3ebb633",
   "metadata": {},
   "outputs": [
    {
     "name": "stderr",
     "output_type": "stream",
     "text": [
      "\u001b[32m2025-07-19 17:15:40.382\u001b[0m | \u001b[1mINFO    \u001b[0m | \u001b[36mtrack_gardener.converters.validation_utils\u001b[0m:\u001b[36mvalidate_geff_seg_ids\u001b[0m:\u001b[36m28\u001b[0m - \u001b[1mOpening GEFF group from: D:\\test_data\\Fluo-N2DL-HeLa-01.zarr\\tracks_new\u001b[0m\n",
      "\u001b[32m2025-07-19 17:15:40.422\u001b[0m | \u001b[1mINFO    \u001b[0m | \u001b[36mtrack_gardener.converters.validation_utils\u001b[0m:\u001b[36mvalidate_geff_seg_ids\u001b[0m:\u001b[36m40\u001b[0m - \u001b[1mBeginning node validation...\u001b[0m\n",
      "\u001b[32m2025-07-19 17:16:48.836\u001b[0m | \u001b[32m\u001b[1mSUCCESS \u001b[0m | \u001b[36mtrack_gardener.converters.validation_utils\u001b[0m:\u001b[36mvalidate_geff_seg_ids\u001b[0m:\u001b[36m83\u001b[0m - \u001b[32m\u001b[1mAll validations passed successfully.\u001b[0m\n"
     ]
    },
    {
     "name": "stdout",
     "output_type": "stream",
     "text": [
      "Test passed: True, details: {'node_issues': [], 'extra_segments': None}.\n"
     ]
    }
   ],
   "source": [
    "p, details = validate_geff_seg_ids(\n",
    "    geff_group_path = geff_group_path,\n",
    "    segmentation_path = segmentation_path,\n",
    "    seg_id_field = \"track_id\",\n",
    "    check_xy_position = False,\n",
    "    check_extra_segmentations = False)\n",
    "\n",
    "print(f'Test passed: {p}, details: {details}.')"
   ]
  },
  {
   "cell_type": "code",
   "execution_count": 5,
   "id": "16be17e7",
   "metadata": {},
   "outputs": [
    {
     "name": "stderr",
     "output_type": "stream",
     "text": [
      "\u001b[32m2025-07-19 17:17:12.589\u001b[0m | \u001b[1mINFO    \u001b[0m | \u001b[36mtrack_gardener.converters.validation_utils\u001b[0m:\u001b[36mvalidate_geff_seg_ids\u001b[0m:\u001b[36m28\u001b[0m - \u001b[1mOpening GEFF group from: D:\\test_data\\Fluo-N2DL-HeLa-01.zarr\\tracks_new\u001b[0m\n",
      "\u001b[32m2025-07-19 17:17:12.666\u001b[0m | \u001b[1mINFO    \u001b[0m | \u001b[36mtrack_gardener.converters.validation_utils\u001b[0m:\u001b[36mvalidate_geff_seg_ids\u001b[0m:\u001b[36m40\u001b[0m - \u001b[1mBeginning node validation...\u001b[0m\n",
      "\u001b[32m2025-07-19 17:17:52.827\u001b[0m | \u001b[33m\u001b[1mWARNING \u001b[0m | \u001b[36mtrack_gardener.converters.validation_utils\u001b[0m:\u001b[36mvalidate_geff_seg_ids\u001b[0m:\u001b[36m62\u001b[0m - \u001b[33m\u001b[1mXY mismatch for index 188 at frame 14: expected position: (171,495)\u001b[0m\n",
      "\u001b[32m2025-07-19 17:18:12.485\u001b[0m | \u001b[33m\u001b[1mWARNING \u001b[0m | \u001b[36mtrack_gardener.converters.validation_utils\u001b[0m:\u001b[36mvalidate_geff_seg_ids\u001b[0m:\u001b[36m62\u001b[0m - \u001b[33m\u001b[1mXY mismatch for index 324 at frame 83: expected position: (773,323)\u001b[0m\n",
      "\u001b[32m2025-07-19 17:18:18.941\u001b[0m | \u001b[1mINFO    \u001b[0m | \u001b[36mtrack_gardener.converters.validation_utils\u001b[0m:\u001b[36mvalidate_geff_seg_ids\u001b[0m:\u001b[36m68\u001b[0m - \u001b[1mChecking for extra segmentations not referenced in GEFF...\u001b[0m\n",
      "\u001b[32m2025-07-19 17:18:20.324\u001b[0m | \u001b[33m\u001b[1mWARNING \u001b[0m | \u001b[36mtrack_gardener.converters.validation_utils\u001b[0m:\u001b[36mvalidate_geff_seg_ids\u001b[0m:\u001b[36m85\u001b[0m - \u001b[33m\u001b[1mValidation failed for one or more nodes.\u001b[0m\n"
     ]
    },
    {
     "name": "stdout",
     "output_type": "stream",
     "text": [
      "Test passed: False, details: {'node_issues': [(5236, 'xy_mismatch'), (7716, 'xy_mismatch')], 'extra_segments': {}}.\n"
     ]
    }
   ],
   "source": [
    "p, details = validate_geff_seg_ids(\n",
    "    geff_group_path = geff_group_path,\n",
    "    segmentation_path = segmentation_path,\n",
    "    seg_id_field = \"track_id\",\n",
    "    check_xy_position = True,\n",
    "    check_extra_segmentations = True)\n",
    "\n",
    "print(f'Test passed: {p}, details: {details}.')"
   ]
  },
  {
   "cell_type": "code",
   "execution_count": null,
   "id": "e950b76f",
   "metadata": {},
   "outputs": [],
   "source": []
  }
 ],
 "metadata": {
  "kernelspec": {
   "display_name": "gardener-env2",
   "language": "python",
   "name": "python3"
  },
  "language_info": {
   "codemirror_mode": {
    "name": "ipython",
    "version": 3
   },
   "file_extension": ".py",
   "mimetype": "text/x-python",
   "name": "python",
   "nbconvert_exporter": "python",
   "pygments_lexer": "ipython3",
   "version": "3.11.13"
  }
 },
 "nbformat": 4,
 "nbformat_minor": 5
}
