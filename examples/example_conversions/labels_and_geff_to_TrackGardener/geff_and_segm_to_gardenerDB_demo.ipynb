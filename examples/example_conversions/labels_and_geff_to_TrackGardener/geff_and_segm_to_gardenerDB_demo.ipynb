{
 "cells": [
  {
   "cell_type": "markdown",
   "id": "6a040596",
   "metadata": {},
   "source": [
    "## Example: Converting a Segmentation Stack + geff for Use with TrackGardener"
   ]
  },
  {
   "cell_type": "markdown",
   "id": "ec40a7a8",
   "metadata": {},
   "source": [
    "This notebook demonstrates how to convert a segmentation stack and a [GEFF](https://github.com/live-image-tracking-tools/geff) graph into a TrackGardener database using the configuration file Fluo-N2DL-HeLa-01_config_geff.yaml.\n",
    "\n",
    "In this workflow, the segmentation stack provides the precise segmentation masks, while the GEFF file supplies only the graph structure. The GEFF file is expected to specify both `t` (timepoint), `track_id` (track ID) and `segm_id` (segmentation ID) for each cell entry. The notebook verifies that for each timepoint t, there is a corresponding object in the segmentation array (labeled stack) with the matching segm_id. For further details on additional checks, please refer to the documentation.\n",
    "\n",
    "All signals are computed according to the specifications in the configuration file. Please note that this process may take a considerable amount of time for large datasets.\n",
    "\n",
    "You can reuse the configuration file shown here with the TrackGardener plugin. Be sure to update the file paths in the configuration to point to your imaging dataset and TrackGardener database. It is recommended to use absolute paths (instead of the relative paths used in this example) to ensure correct file location. If you prefer to use relative paths, they should be specified relative to the location of the configuration file."
   ]
  },
  {
   "cell_type": "code",
   "execution_count": 1,
   "id": "0fed07f9",
   "metadata": {},
   "outputs": [],
   "source": [
    "import dask.array as da\n",
    "import yaml\n",
    "\n",
    "from track_gardener.converters import (\n",
    "    segm_and_geff_to_TG,\n",
    "    validate_geff_seg_ids,\n",
    ")"
   ]
  },
  {
   "cell_type": "code",
   "execution_count": 2,
   "id": "41cf5380",
   "metadata": {},
   "outputs": [],
   "source": [
    "geff_group_path = \"Fluo-N2DL-HeLa-01_sample.geff\"\n",
    "segmentation_path = \"Fluo-N2DL-HeLa-01_segm_random.zarr/labels\"\n",
    "config_path = 'Fluo-N2DL-HeLa-01_config_geff.yaml'"
   ]
  },
  {
   "cell_type": "code",
   "execution_count": 3,
   "id": "16be17e7",
   "metadata": {},
   "outputs": [
    {
     "name": "stderr",
     "output_type": "stream",
     "text": [
      "\u001b[32m2025-08-12 20:00:46.255\u001b[0m | \u001b[1mINFO    \u001b[0m | \u001b[36mtrack_gardener.converters.validator_seg_id\u001b[0m:\u001b[36mvalidate_geff_seg_ids\u001b[0m:\u001b[36m31\u001b[0m - \u001b[1mOpening GEFF group from: Fluo-N2DL-HeLa-01_sample.geff\u001b[0m\n",
      "\u001b[32m2025-08-12 20:00:46.310\u001b[0m | \u001b[1mINFO    \u001b[0m | \u001b[36mtrack_gardener.converters.validator_seg_id\u001b[0m:\u001b[36mvalidate_geff_seg_ids\u001b[0m:\u001b[36m52\u001b[0m - \u001b[1mBeginning node validation...\u001b[0m\n",
      "\u001b[32m2025-08-12 20:00:46.319\u001b[0m | \u001b[33m\u001b[1mWARNING \u001b[0m | \u001b[36mtrack_gardener.converters.validator_seg_id\u001b[0m:\u001b[36mvalidate_geff_seg_ids\u001b[0m:\u001b[36m85\u001b[0m - \u001b[33m\u001b[1mXY mismatch for index 204 at frame 0: expected position: (51,83)\u001b[0m\n",
      "\u001b[32m2025-08-12 20:00:46.326\u001b[0m | \u001b[33m\u001b[1mWARNING \u001b[0m | \u001b[36mtrack_gardener.converters.validator_seg_id\u001b[0m:\u001b[36mvalidate_geff_seg_ids\u001b[0m:\u001b[36m85\u001b[0m - \u001b[33m\u001b[1mXY mismatch for index 204 at frame 1: expected position: (53,81)\u001b[0m\n",
      "\u001b[32m2025-08-12 20:00:46.346\u001b[0m | \u001b[33m\u001b[1mWARNING \u001b[0m | \u001b[36mtrack_gardener.converters.validator_seg_id\u001b[0m:\u001b[36mvalidate_geff_seg_ids\u001b[0m:\u001b[36m85\u001b[0m - \u001b[33m\u001b[1mXY mismatch for index 207 at frame 4: expected position: (44,62)\u001b[0m\n",
      "\u001b[32m2025-08-12 20:00:46.358\u001b[0m | \u001b[33m\u001b[1mWARNING \u001b[0m | \u001b[36mtrack_gardener.converters.validator_seg_id\u001b[0m:\u001b[36mvalidate_geff_seg_ids\u001b[0m:\u001b[36m85\u001b[0m - \u001b[33m\u001b[1mXY mismatch for index 207 at frame 6: expected position: (46,61)\u001b[0m\n",
      "\u001b[32m2025-08-12 20:00:46.370\u001b[0m | \u001b[33m\u001b[1mWARNING \u001b[0m | \u001b[36mtrack_gardener.converters.validator_seg_id\u001b[0m:\u001b[36mvalidate_geff_seg_ids\u001b[0m:\u001b[36m85\u001b[0m - \u001b[33m\u001b[1mXY mismatch for index 207 at frame 7: expected position: (52,60)\u001b[0m\n",
      "\u001b[32m2025-08-12 20:00:46.384\u001b[0m | \u001b[33m\u001b[1mWARNING \u001b[0m | \u001b[36mtrack_gardener.converters.validator_seg_id\u001b[0m:\u001b[36mvalidate_geff_seg_ids\u001b[0m:\u001b[36m85\u001b[0m - \u001b[33m\u001b[1mXY mismatch for index 207 at frame 8: expected position: (53,63)\u001b[0m\n",
      "\u001b[32m2025-08-12 20:00:46.391\u001b[0m | \u001b[33m\u001b[1mWARNING \u001b[0m | \u001b[36mtrack_gardener.converters.validator_seg_id\u001b[0m:\u001b[36mvalidate_geff_seg_ids\u001b[0m:\u001b[36m85\u001b[0m - \u001b[33m\u001b[1mXY mismatch for index 207 at frame 9: expected position: (55,62)\u001b[0m\n",
      "\u001b[32m2025-08-12 20:00:46.399\u001b[0m | \u001b[33m\u001b[1mWARNING \u001b[0m | \u001b[36mtrack_gardener.converters.validator_seg_id\u001b[0m:\u001b[36mvalidate_geff_seg_ids\u001b[0m:\u001b[36m85\u001b[0m - \u001b[33m\u001b[1mXY mismatch for index 207 at frame 10: expected position: (58,63)\u001b[0m\n",
      "\u001b[32m2025-08-12 20:00:46.410\u001b[0m | \u001b[33m\u001b[1mWARNING \u001b[0m | \u001b[36mtrack_gardener.converters.validator_seg_id\u001b[0m:\u001b[36mvalidate_geff_seg_ids\u001b[0m:\u001b[36m85\u001b[0m - \u001b[33m\u001b[1mXY mismatch for index 207 at frame 12: expected position: (56,64)\u001b[0m\n",
      "\u001b[32m2025-08-12 20:00:46.417\u001b[0m | \u001b[33m\u001b[1mWARNING \u001b[0m | \u001b[36mtrack_gardener.converters.validator_seg_id\u001b[0m:\u001b[36mvalidate_geff_seg_ids\u001b[0m:\u001b[36m85\u001b[0m - \u001b[33m\u001b[1mXY mismatch for index 207 at frame 13: expected position: (55,63)\u001b[0m\n",
      "\u001b[32m2025-08-12 20:00:46.423\u001b[0m | \u001b[33m\u001b[1mWARNING \u001b[0m | \u001b[36mtrack_gardener.converters.validator_seg_id\u001b[0m:\u001b[36mvalidate_geff_seg_ids\u001b[0m:\u001b[36m85\u001b[0m - \u001b[33m\u001b[1mXY mismatch for index 207 at frame 14: expected position: (60,66)\u001b[0m\n",
      "\u001b[32m2025-08-12 20:00:46.430\u001b[0m | \u001b[33m\u001b[1mWARNING \u001b[0m | \u001b[36mtrack_gardener.converters.validator_seg_id\u001b[0m:\u001b[36mvalidate_geff_seg_ids\u001b[0m:\u001b[36m85\u001b[0m - \u001b[33m\u001b[1mXY mismatch for index 207 at frame 15: expected position: (58,67)\u001b[0m\n",
      "\u001b[32m2025-08-12 20:00:46.436\u001b[0m | \u001b[33m\u001b[1mWARNING \u001b[0m | \u001b[36mtrack_gardener.converters.validator_seg_id\u001b[0m:\u001b[36mvalidate_geff_seg_ids\u001b[0m:\u001b[36m85\u001b[0m - \u001b[33m\u001b[1mXY mismatch for index 207 at frame 16: expected position: (55,67)\u001b[0m\n",
      "\u001b[32m2025-08-12 20:00:46.443\u001b[0m | \u001b[33m\u001b[1mWARNING \u001b[0m | \u001b[36mtrack_gardener.converters.validator_seg_id\u001b[0m:\u001b[36mvalidate_geff_seg_ids\u001b[0m:\u001b[36m85\u001b[0m - \u001b[33m\u001b[1mXY mismatch for index 207 at frame 17: expected position: (56,63)\u001b[0m\n",
      "\u001b[32m2025-08-12 20:00:46.449\u001b[0m | \u001b[33m\u001b[1mWARNING \u001b[0m | \u001b[36mtrack_gardener.converters.validator_seg_id\u001b[0m:\u001b[36mvalidate_geff_seg_ids\u001b[0m:\u001b[36m85\u001b[0m - \u001b[33m\u001b[1mXY mismatch for index 207 at frame 18: expected position: (55,63)\u001b[0m\n",
      "\u001b[32m2025-08-12 20:00:46.455\u001b[0m | \u001b[33m\u001b[1mWARNING \u001b[0m | \u001b[36mtrack_gardener.converters.validator_seg_id\u001b[0m:\u001b[36mvalidate_geff_seg_ids\u001b[0m:\u001b[36m85\u001b[0m - \u001b[33m\u001b[1mXY mismatch for index 207 at frame 19: expected position: (57,66)\u001b[0m\n",
      "\u001b[32m2025-08-12 20:00:46.461\u001b[0m | \u001b[33m\u001b[1mWARNING \u001b[0m | \u001b[36mtrack_gardener.converters.validator_seg_id\u001b[0m:\u001b[36mvalidate_geff_seg_ids\u001b[0m:\u001b[36m85\u001b[0m - \u001b[33m\u001b[1mXY mismatch for index 207 at frame 20: expected position: (56,65)\u001b[0m\n",
      "\u001b[32m2025-08-12 20:00:46.471\u001b[0m | \u001b[33m\u001b[1mWARNING \u001b[0m | \u001b[36mtrack_gardener.converters.validator_seg_id\u001b[0m:\u001b[36mvalidate_geff_seg_ids\u001b[0m:\u001b[36m85\u001b[0m - \u001b[33m\u001b[1mXY mismatch for index 207 at frame 22: expected position: (59,67)\u001b[0m\n",
      "\u001b[32m2025-08-12 20:00:46.477\u001b[0m | \u001b[33m\u001b[1mWARNING \u001b[0m | \u001b[36mtrack_gardener.converters.validator_seg_id\u001b[0m:\u001b[36mvalidate_geff_seg_ids\u001b[0m:\u001b[36m85\u001b[0m - \u001b[33m\u001b[1mXY mismatch for index 207 at frame 23: expected position: (54,68)\u001b[0m\n",
      "\u001b[32m2025-08-12 20:00:46.482\u001b[0m | \u001b[33m\u001b[1mWARNING \u001b[0m | \u001b[36mtrack_gardener.converters.validator_seg_id\u001b[0m:\u001b[36mvalidate_geff_seg_ids\u001b[0m:\u001b[36m85\u001b[0m - \u001b[33m\u001b[1mXY mismatch for index 207 at frame 24: expected position: (53,68)\u001b[0m\n",
      "\u001b[32m2025-08-12 20:00:46.487\u001b[0m | \u001b[33m\u001b[1mWARNING \u001b[0m | \u001b[36mtrack_gardener.converters.validator_seg_id\u001b[0m:\u001b[36mvalidate_geff_seg_ids\u001b[0m:\u001b[36m85\u001b[0m - \u001b[33m\u001b[1mXY mismatch for index 207 at frame 25: expected position: (54,66)\u001b[0m\n",
      "\u001b[32m2025-08-12 20:00:46.496\u001b[0m | \u001b[33m\u001b[1mWARNING \u001b[0m | \u001b[36mtrack_gardener.converters.validator_seg_id\u001b[0m:\u001b[36mvalidate_geff_seg_ids\u001b[0m:\u001b[36m85\u001b[0m - \u001b[33m\u001b[1mXY mismatch for index 207 at frame 27: expected position: (52,66)\u001b[0m\n",
      "\u001b[32m2025-08-12 20:00:46.501\u001b[0m | \u001b[33m\u001b[1mWARNING \u001b[0m | \u001b[36mtrack_gardener.converters.validator_seg_id\u001b[0m:\u001b[36mvalidate_geff_seg_ids\u001b[0m:\u001b[36m85\u001b[0m - \u001b[33m\u001b[1mXY mismatch for index 207 at frame 28: expected position: (52,68)\u001b[0m\n",
      "\u001b[32m2025-08-12 20:00:46.509\u001b[0m | \u001b[33m\u001b[1mWARNING \u001b[0m | \u001b[36mtrack_gardener.converters.validator_seg_id\u001b[0m:\u001b[36mvalidate_geff_seg_ids\u001b[0m:\u001b[36m85\u001b[0m - \u001b[33m\u001b[1mXY mismatch for index 207 at frame 30: expected position: (53,67)\u001b[0m\n",
      "\u001b[32m2025-08-12 20:00:46.514\u001b[0m | \u001b[33m\u001b[1mWARNING \u001b[0m | \u001b[36mtrack_gardener.converters.validator_seg_id\u001b[0m:\u001b[36mvalidate_geff_seg_ids\u001b[0m:\u001b[36m85\u001b[0m - \u001b[33m\u001b[1mXY mismatch for index 207 at frame 31: expected position: (43,66)\u001b[0m\n",
      "\u001b[32m2025-08-12 20:00:46.523\u001b[0m | \u001b[33m\u001b[1mWARNING \u001b[0m | \u001b[36mtrack_gardener.converters.validator_seg_id\u001b[0m:\u001b[36mvalidate_geff_seg_ids\u001b[0m:\u001b[36m85\u001b[0m - \u001b[33m\u001b[1mXY mismatch for index 208 at frame 33: expected position: (26,64)\u001b[0m\n",
      "\u001b[32m2025-08-12 20:00:46.528\u001b[0m | \u001b[33m\u001b[1mWARNING \u001b[0m | \u001b[36mtrack_gardener.converters.validator_seg_id\u001b[0m:\u001b[36mvalidate_geff_seg_ids\u001b[0m:\u001b[36m85\u001b[0m - \u001b[33m\u001b[1mXY mismatch for index 208 at frame 34: expected position: (25,64)\u001b[0m\n",
      "\u001b[32m2025-08-12 20:00:46.533\u001b[0m | \u001b[33m\u001b[1mWARNING \u001b[0m | \u001b[36mtrack_gardener.converters.validator_seg_id\u001b[0m:\u001b[36mvalidate_geff_seg_ids\u001b[0m:\u001b[36m85\u001b[0m - \u001b[33m\u001b[1mXY mismatch for index 208 at frame 35: expected position: (27,62)\u001b[0m\n",
      "\u001b[32m2025-08-12 20:00:46.538\u001b[0m | \u001b[33m\u001b[1mWARNING \u001b[0m | \u001b[36mtrack_gardener.converters.validator_seg_id\u001b[0m:\u001b[36mvalidate_geff_seg_ids\u001b[0m:\u001b[36m85\u001b[0m - \u001b[33m\u001b[1mXY mismatch for index 208 at frame 36: expected position: (27,59)\u001b[0m\n",
      "\u001b[32m2025-08-12 20:00:46.543\u001b[0m | \u001b[33m\u001b[1mWARNING \u001b[0m | \u001b[36mtrack_gardener.converters.validator_seg_id\u001b[0m:\u001b[36mvalidate_geff_seg_ids\u001b[0m:\u001b[36m85\u001b[0m - \u001b[33m\u001b[1mXY mismatch for index 208 at frame 37: expected position: (26,61)\u001b[0m\n",
      "\u001b[32m2025-08-12 20:00:46.560\u001b[0m | \u001b[33m\u001b[1mWARNING \u001b[0m | \u001b[36mtrack_gardener.converters.validator_seg_id\u001b[0m:\u001b[36mvalidate_geff_seg_ids\u001b[0m:\u001b[36m85\u001b[0m - \u001b[33m\u001b[1mXY mismatch for index 208 at frame 39: expected position: (26,60)\u001b[0m\n",
      "\u001b[32m2025-08-12 20:00:46.566\u001b[0m | \u001b[33m\u001b[1mWARNING \u001b[0m | \u001b[36mtrack_gardener.converters.validator_seg_id\u001b[0m:\u001b[36mvalidate_geff_seg_ids\u001b[0m:\u001b[36m85\u001b[0m - \u001b[33m\u001b[1mXY mismatch for index 208 at frame 40: expected position: (24,61)\u001b[0m\n",
      "\u001b[32m2025-08-12 20:00:46.570\u001b[0m | \u001b[33m\u001b[1mWARNING \u001b[0m | \u001b[36mtrack_gardener.converters.validator_seg_id\u001b[0m:\u001b[36mvalidate_geff_seg_ids\u001b[0m:\u001b[36m85\u001b[0m - \u001b[33m\u001b[1mXY mismatch for index 208 at frame 41: expected position: (24,60)\u001b[0m\n",
      "\u001b[32m2025-08-12 20:00:46.574\u001b[0m | \u001b[33m\u001b[1mWARNING \u001b[0m | \u001b[36mtrack_gardener.converters.validator_seg_id\u001b[0m:\u001b[36mvalidate_geff_seg_ids\u001b[0m:\u001b[36m85\u001b[0m - \u001b[33m\u001b[1mXY mismatch for index 208 at frame 42: expected position: (26,65)\u001b[0m\n",
      "\u001b[32m2025-08-12 20:00:46.578\u001b[0m | \u001b[33m\u001b[1mWARNING \u001b[0m | \u001b[36mtrack_gardener.converters.validator_seg_id\u001b[0m:\u001b[36mvalidate_geff_seg_ids\u001b[0m:\u001b[36m85\u001b[0m - \u001b[33m\u001b[1mXY mismatch for index 208 at frame 43: expected position: (23,62)\u001b[0m\n",
      "\u001b[32m2025-08-12 20:00:46.583\u001b[0m | \u001b[33m\u001b[1mWARNING \u001b[0m | \u001b[36mtrack_gardener.converters.validator_seg_id\u001b[0m:\u001b[36mvalidate_geff_seg_ids\u001b[0m:\u001b[36m85\u001b[0m - \u001b[33m\u001b[1mXY mismatch for index 208 at frame 44: expected position: (23,62)\u001b[0m\n",
      "\u001b[32m2025-08-12 20:00:46.587\u001b[0m | \u001b[33m\u001b[1mWARNING \u001b[0m | \u001b[36mtrack_gardener.converters.validator_seg_id\u001b[0m:\u001b[36mvalidate_geff_seg_ids\u001b[0m:\u001b[36m85\u001b[0m - \u001b[33m\u001b[1mXY mismatch for index 211 at frame 33: expected position: (67,120)\u001b[0m\n",
      "\u001b[32m2025-08-12 20:00:46.591\u001b[0m | \u001b[33m\u001b[1mWARNING \u001b[0m | \u001b[36mtrack_gardener.converters.validator_seg_id\u001b[0m:\u001b[36mvalidate_geff_seg_ids\u001b[0m:\u001b[36m85\u001b[0m - \u001b[33m\u001b[1mXY mismatch for index 211 at frame 34: expected position: (70,115)\u001b[0m\n",
      "\u001b[32m2025-08-12 20:00:46.595\u001b[0m | \u001b[33m\u001b[1mWARNING \u001b[0m | \u001b[36mtrack_gardener.converters.validator_seg_id\u001b[0m:\u001b[36mvalidate_geff_seg_ids\u001b[0m:\u001b[36m85\u001b[0m - \u001b[33m\u001b[1mXY mismatch for index 211 at frame 35: expected position: (73,111)\u001b[0m\n",
      "\u001b[32m2025-08-12 20:00:46.599\u001b[0m | \u001b[33m\u001b[1mWARNING \u001b[0m | \u001b[36mtrack_gardener.converters.validator_seg_id\u001b[0m:\u001b[36mvalidate_geff_seg_ids\u001b[0m:\u001b[36m85\u001b[0m - \u001b[33m\u001b[1mXY mismatch for index 211 at frame 36: expected position: (74,109)\u001b[0m\n",
      "\u001b[32m2025-08-12 20:00:46.603\u001b[0m | \u001b[33m\u001b[1mWARNING \u001b[0m | \u001b[36mtrack_gardener.converters.validator_seg_id\u001b[0m:\u001b[36mvalidate_geff_seg_ids\u001b[0m:\u001b[36m85\u001b[0m - \u001b[33m\u001b[1mXY mismatch for index 211 at frame 37: expected position: (72,106)\u001b[0m\n",
      "\u001b[32m2025-08-12 20:00:46.607\u001b[0m | \u001b[33m\u001b[1mWARNING \u001b[0m | \u001b[36mtrack_gardener.converters.validator_seg_id\u001b[0m:\u001b[36mvalidate_geff_seg_ids\u001b[0m:\u001b[36m85\u001b[0m - \u001b[33m\u001b[1mXY mismatch for index 211 at frame 38: expected position: (75,116)\u001b[0m\n",
      "\u001b[32m2025-08-12 20:00:46.614\u001b[0m | \u001b[33m\u001b[1mWARNING \u001b[0m | \u001b[36mtrack_gardener.converters.validator_seg_id\u001b[0m:\u001b[36mvalidate_geff_seg_ids\u001b[0m:\u001b[36m85\u001b[0m - \u001b[33m\u001b[1mXY mismatch for index 211 at frame 40: expected position: (85,118)\u001b[0m\n",
      "\u001b[32m2025-08-12 20:00:46.618\u001b[0m | \u001b[33m\u001b[1mWARNING \u001b[0m | \u001b[36mtrack_gardener.converters.validator_seg_id\u001b[0m:\u001b[36mvalidate_geff_seg_ids\u001b[0m:\u001b[36m85\u001b[0m - \u001b[33m\u001b[1mXY mismatch for index 211 at frame 41: expected position: (82,114)\u001b[0m\n",
      "\u001b[32m2025-08-12 20:00:46.623\u001b[0m | \u001b[33m\u001b[1mWARNING \u001b[0m | \u001b[36mtrack_gardener.converters.validator_seg_id\u001b[0m:\u001b[36mvalidate_geff_seg_ids\u001b[0m:\u001b[36m85\u001b[0m - \u001b[33m\u001b[1mXY mismatch for index 211 at frame 42: expected position: (79,113)\u001b[0m\n",
      "\u001b[32m2025-08-12 20:00:46.641\u001b[0m | \u001b[33m\u001b[1mWARNING \u001b[0m | \u001b[36mtrack_gardener.converters.validator_seg_id\u001b[0m:\u001b[36mvalidate_geff_seg_ids\u001b[0m:\u001b[36m85\u001b[0m - \u001b[33m\u001b[1mXY mismatch for index 211 at frame 44: expected position: (75,109)\u001b[0m\n",
      "\u001b[32m2025-08-12 20:00:46.648\u001b[0m | \u001b[33m\u001b[1mWARNING \u001b[0m | \u001b[36mtrack_gardener.converters.validator_seg_id\u001b[0m:\u001b[36mvalidate_geff_seg_ids\u001b[0m:\u001b[36m85\u001b[0m - \u001b[33m\u001b[1mXY mismatch for index 212 at frame 33: expected position: (35,100)\u001b[0m\n",
      "\u001b[32m2025-08-12 20:00:46.654\u001b[0m | \u001b[33m\u001b[1mWARNING \u001b[0m | \u001b[36mtrack_gardener.converters.validator_seg_id\u001b[0m:\u001b[36mvalidate_geff_seg_ids\u001b[0m:\u001b[36m85\u001b[0m - \u001b[33m\u001b[1mXY mismatch for index 212 at frame 34: expected position: (39,99)\u001b[0m\n",
      "\u001b[32m2025-08-12 20:00:46.660\u001b[0m | \u001b[33m\u001b[1mWARNING \u001b[0m | \u001b[36mtrack_gardener.converters.validator_seg_id\u001b[0m:\u001b[36mvalidate_geff_seg_ids\u001b[0m:\u001b[36m85\u001b[0m - \u001b[33m\u001b[1mXY mismatch for index 212 at frame 35: expected position: (43,100)\u001b[0m\n",
      "\u001b[32m2025-08-12 20:00:46.668\u001b[0m | \u001b[33m\u001b[1mWARNING \u001b[0m | \u001b[36mtrack_gardener.converters.validator_seg_id\u001b[0m:\u001b[36mvalidate_geff_seg_ids\u001b[0m:\u001b[36m85\u001b[0m - \u001b[33m\u001b[1mXY mismatch for index 212 at frame 36: expected position: (48,107)\u001b[0m\n",
      "\u001b[32m2025-08-12 20:00:46.674\u001b[0m | \u001b[33m\u001b[1mWARNING \u001b[0m | \u001b[36mtrack_gardener.converters.validator_seg_id\u001b[0m:\u001b[36mvalidate_geff_seg_ids\u001b[0m:\u001b[36m85\u001b[0m - \u001b[33m\u001b[1mXY mismatch for index 212 at frame 37: expected position: (49,107)\u001b[0m\n",
      "\u001b[32m2025-08-12 20:00:46.681\u001b[0m | \u001b[33m\u001b[1mWARNING \u001b[0m | \u001b[36mtrack_gardener.converters.validator_seg_id\u001b[0m:\u001b[36mvalidate_geff_seg_ids\u001b[0m:\u001b[36m85\u001b[0m - \u001b[33m\u001b[1mXY mismatch for index 212 at frame 38: expected position: (46,104)\u001b[0m\n",
      "\u001b[32m2025-08-12 20:00:46.690\u001b[0m | \u001b[33m\u001b[1mWARNING \u001b[0m | \u001b[36mtrack_gardener.converters.validator_seg_id\u001b[0m:\u001b[36mvalidate_geff_seg_ids\u001b[0m:\u001b[36m85\u001b[0m - \u001b[33m\u001b[1mXY mismatch for index 212 at frame 39: expected position: (50,102)\u001b[0m\n",
      "\u001b[32m2025-08-12 20:00:46.698\u001b[0m | \u001b[33m\u001b[1mWARNING \u001b[0m | \u001b[36mtrack_gardener.converters.validator_seg_id\u001b[0m:\u001b[36mvalidate_geff_seg_ids\u001b[0m:\u001b[36m85\u001b[0m - \u001b[33m\u001b[1mXY mismatch for index 212 at frame 40: expected position: (52,104)\u001b[0m\n",
      "\u001b[32m2025-08-12 20:00:46.706\u001b[0m | \u001b[33m\u001b[1mWARNING \u001b[0m | \u001b[36mtrack_gardener.converters.validator_seg_id\u001b[0m:\u001b[36mvalidate_geff_seg_ids\u001b[0m:\u001b[36m85\u001b[0m - \u001b[33m\u001b[1mXY mismatch for index 212 at frame 41: expected position: (50,113)\u001b[0m\n",
      "\u001b[32m2025-08-12 20:00:46.715\u001b[0m | \u001b[33m\u001b[1mWARNING \u001b[0m | \u001b[36mtrack_gardener.converters.validator_seg_id\u001b[0m:\u001b[36mvalidate_geff_seg_ids\u001b[0m:\u001b[36m85\u001b[0m - \u001b[33m\u001b[1mXY mismatch for index 212 at frame 42: expected position: (56,115)\u001b[0m\n",
      "\u001b[32m2025-08-12 20:00:46.723\u001b[0m | \u001b[33m\u001b[1mWARNING \u001b[0m | \u001b[36mtrack_gardener.converters.validator_seg_id\u001b[0m:\u001b[36mvalidate_geff_seg_ids\u001b[0m:\u001b[36m85\u001b[0m - \u001b[33m\u001b[1mXY mismatch for index 212 at frame 43: expected position: (53,117)\u001b[0m\n",
      "\u001b[32m2025-08-12 20:00:46.731\u001b[0m | \u001b[33m\u001b[1mWARNING \u001b[0m | \u001b[36mtrack_gardener.converters.validator_seg_id\u001b[0m:\u001b[36mvalidate_geff_seg_ids\u001b[0m:\u001b[36m85\u001b[0m - \u001b[33m\u001b[1mXY mismatch for index 212 at frame 44: expected position: (45,113)\u001b[0m\n",
      "\u001b[32m2025-08-12 20:00:46.745\u001b[0m | \u001b[33m\u001b[1mWARNING \u001b[0m | \u001b[36mtrack_gardener.converters.validator_seg_id\u001b[0m:\u001b[36mvalidate_geff_seg_ids\u001b[0m:\u001b[36m85\u001b[0m - \u001b[33m\u001b[1mXY mismatch for index 220 at frame 4: expected position: (41,97)\u001b[0m\n",
      "\u001b[32m2025-08-12 20:00:46.754\u001b[0m | \u001b[33m\u001b[1mWARNING \u001b[0m | \u001b[36mtrack_gardener.converters.validator_seg_id\u001b[0m:\u001b[36mvalidate_geff_seg_ids\u001b[0m:\u001b[36m85\u001b[0m - \u001b[33m\u001b[1mXY mismatch for index 220 at frame 5: expected position: (44,97)\u001b[0m\n",
      "\u001b[32m2025-08-12 20:00:46.762\u001b[0m | \u001b[33m\u001b[1mWARNING \u001b[0m | \u001b[36mtrack_gardener.converters.validator_seg_id\u001b[0m:\u001b[36mvalidate_geff_seg_ids\u001b[0m:\u001b[36m85\u001b[0m - \u001b[33m\u001b[1mXY mismatch for index 220 at frame 6: expected position: (47,98)\u001b[0m\n",
      "\u001b[32m2025-08-12 20:00:46.771\u001b[0m | \u001b[33m\u001b[1mWARNING \u001b[0m | \u001b[36mtrack_gardener.converters.validator_seg_id\u001b[0m:\u001b[36mvalidate_geff_seg_ids\u001b[0m:\u001b[36m85\u001b[0m - \u001b[33m\u001b[1mXY mismatch for index 220 at frame 7: expected position: (54,99)\u001b[0m\n",
      "\u001b[32m2025-08-12 20:00:46.781\u001b[0m | \u001b[33m\u001b[1mWARNING \u001b[0m | \u001b[36mtrack_gardener.converters.validator_seg_id\u001b[0m:\u001b[36mvalidate_geff_seg_ids\u001b[0m:\u001b[36m85\u001b[0m - \u001b[33m\u001b[1mXY mismatch for index 220 at frame 8: expected position: (51,101)\u001b[0m\n",
      "\u001b[32m2025-08-12 20:00:46.789\u001b[0m | \u001b[33m\u001b[1mWARNING \u001b[0m | \u001b[36mtrack_gardener.converters.validator_seg_id\u001b[0m:\u001b[36mvalidate_geff_seg_ids\u001b[0m:\u001b[36m85\u001b[0m - \u001b[33m\u001b[1mXY mismatch for index 220 at frame 9: expected position: (52,100)\u001b[0m\n",
      "\u001b[32m2025-08-12 20:00:46.799\u001b[0m | \u001b[33m\u001b[1mWARNING \u001b[0m | \u001b[36mtrack_gardener.converters.validator_seg_id\u001b[0m:\u001b[36mvalidate_geff_seg_ids\u001b[0m:\u001b[36m85\u001b[0m - \u001b[33m\u001b[1mXY mismatch for index 220 at frame 10: expected position: (48,97)\u001b[0m\n",
      "\u001b[32m2025-08-12 20:00:46.809\u001b[0m | \u001b[33m\u001b[1mWARNING \u001b[0m | \u001b[36mtrack_gardener.converters.validator_seg_id\u001b[0m:\u001b[36mvalidate_geff_seg_ids\u001b[0m:\u001b[36m85\u001b[0m - \u001b[33m\u001b[1mXY mismatch for index 220 at frame 11: expected position: (50,96)\u001b[0m\n",
      "\u001b[32m2025-08-12 20:00:46.817\u001b[0m | \u001b[33m\u001b[1mWARNING \u001b[0m | \u001b[36mtrack_gardener.converters.validator_seg_id\u001b[0m:\u001b[36mvalidate_geff_seg_ids\u001b[0m:\u001b[36m85\u001b[0m - \u001b[33m\u001b[1mXY mismatch for index 220 at frame 12: expected position: (51,93)\u001b[0m\n",
      "\u001b[32m2025-08-12 20:00:46.826\u001b[0m | \u001b[33m\u001b[1mWARNING \u001b[0m | \u001b[36mtrack_gardener.converters.validator_seg_id\u001b[0m:\u001b[36mvalidate_geff_seg_ids\u001b[0m:\u001b[36m85\u001b[0m - \u001b[33m\u001b[1mXY mismatch for index 220 at frame 13: expected position: (54,94)\u001b[0m\n",
      "\u001b[32m2025-08-12 20:00:46.833\u001b[0m | \u001b[33m\u001b[1mWARNING \u001b[0m | \u001b[36mtrack_gardener.converters.validator_seg_id\u001b[0m:\u001b[36mvalidate_geff_seg_ids\u001b[0m:\u001b[36m85\u001b[0m - \u001b[33m\u001b[1mXY mismatch for index 220 at frame 14: expected position: (51,97)\u001b[0m\n",
      "\u001b[32m2025-08-12 20:00:46.841\u001b[0m | \u001b[33m\u001b[1mWARNING \u001b[0m | \u001b[36mtrack_gardener.converters.validator_seg_id\u001b[0m:\u001b[36mvalidate_geff_seg_ids\u001b[0m:\u001b[36m85\u001b[0m - \u001b[33m\u001b[1mXY mismatch for index 220 at frame 15: expected position: (46,97)\u001b[0m\n",
      "\u001b[32m2025-08-12 20:00:46.853\u001b[0m | \u001b[33m\u001b[1mWARNING \u001b[0m | \u001b[36mtrack_gardener.converters.validator_seg_id\u001b[0m:\u001b[36mvalidate_geff_seg_ids\u001b[0m:\u001b[36m85\u001b[0m - \u001b[33m\u001b[1mXY mismatch for index 220 at frame 17: expected position: (50,95)\u001b[0m\n",
      "\u001b[32m2025-08-12 20:00:46.859\u001b[0m | \u001b[33m\u001b[1mWARNING \u001b[0m | \u001b[36mtrack_gardener.converters.validator_seg_id\u001b[0m:\u001b[36mvalidate_geff_seg_ids\u001b[0m:\u001b[36m85\u001b[0m - \u001b[33m\u001b[1mXY mismatch for index 220 at frame 18: expected position: (52,97)\u001b[0m\n",
      "\u001b[32m2025-08-12 20:00:46.867\u001b[0m | \u001b[33m\u001b[1mWARNING \u001b[0m | \u001b[36mtrack_gardener.converters.validator_seg_id\u001b[0m:\u001b[36mvalidate_geff_seg_ids\u001b[0m:\u001b[36m85\u001b[0m - \u001b[33m\u001b[1mXY mismatch for index 220 at frame 19: expected position: (52,102)\u001b[0m\n",
      "\u001b[32m2025-08-12 20:00:46.873\u001b[0m | \u001b[33m\u001b[1mWARNING \u001b[0m | \u001b[36mtrack_gardener.converters.validator_seg_id\u001b[0m:\u001b[36mvalidate_geff_seg_ids\u001b[0m:\u001b[36m85\u001b[0m - \u001b[33m\u001b[1mXY mismatch for index 220 at frame 20: expected position: (52,104)\u001b[0m\n",
      "\u001b[32m2025-08-12 20:00:46.879\u001b[0m | \u001b[33m\u001b[1mWARNING \u001b[0m | \u001b[36mtrack_gardener.converters.validator_seg_id\u001b[0m:\u001b[36mvalidate_geff_seg_ids\u001b[0m:\u001b[36m85\u001b[0m - \u001b[33m\u001b[1mXY mismatch for index 220 at frame 21: expected position: (55,104)\u001b[0m\n",
      "\u001b[32m2025-08-12 20:00:46.887\u001b[0m | \u001b[33m\u001b[1mWARNING \u001b[0m | \u001b[36mtrack_gardener.converters.validator_seg_id\u001b[0m:\u001b[36mvalidate_geff_seg_ids\u001b[0m:\u001b[36m85\u001b[0m - \u001b[33m\u001b[1mXY mismatch for index 220 at frame 22: expected position: (52,104)\u001b[0m\n",
      "\u001b[32m2025-08-12 20:00:46.894\u001b[0m | \u001b[33m\u001b[1mWARNING \u001b[0m | \u001b[36mtrack_gardener.converters.validator_seg_id\u001b[0m:\u001b[36mvalidate_geff_seg_ids\u001b[0m:\u001b[36m85\u001b[0m - \u001b[33m\u001b[1mXY mismatch for index 220 at frame 23: expected position: (52,103)\u001b[0m\n",
      "\u001b[32m2025-08-12 20:00:46.902\u001b[0m | \u001b[33m\u001b[1mWARNING \u001b[0m | \u001b[36mtrack_gardener.converters.validator_seg_id\u001b[0m:\u001b[36mvalidate_geff_seg_ids\u001b[0m:\u001b[36m85\u001b[0m - \u001b[33m\u001b[1mXY mismatch for index 220 at frame 24: expected position: (53,106)\u001b[0m\n",
      "\u001b[32m2025-08-12 20:00:46.910\u001b[0m | \u001b[33m\u001b[1mWARNING \u001b[0m | \u001b[36mtrack_gardener.converters.validator_seg_id\u001b[0m:\u001b[36mvalidate_geff_seg_ids\u001b[0m:\u001b[36m85\u001b[0m - \u001b[33m\u001b[1mXY mismatch for index 220 at frame 25: expected position: (54,104)\u001b[0m\n",
      "\u001b[32m2025-08-12 20:00:46.918\u001b[0m | \u001b[33m\u001b[1mWARNING \u001b[0m | \u001b[36mtrack_gardener.converters.validator_seg_id\u001b[0m:\u001b[36mvalidate_geff_seg_ids\u001b[0m:\u001b[36m85\u001b[0m - \u001b[33m\u001b[1mXY mismatch for index 220 at frame 26: expected position: (59,102)\u001b[0m\n",
      "\u001b[32m2025-08-12 20:00:46.926\u001b[0m | \u001b[33m\u001b[1mWARNING \u001b[0m | \u001b[36mtrack_gardener.converters.validator_seg_id\u001b[0m:\u001b[36mvalidate_geff_seg_ids\u001b[0m:\u001b[36m85\u001b[0m - \u001b[33m\u001b[1mXY mismatch for index 220 at frame 27: expected position: (56,105)\u001b[0m\n",
      "\u001b[32m2025-08-12 20:00:46.942\u001b[0m | \u001b[33m\u001b[1mWARNING \u001b[0m | \u001b[36mtrack_gardener.converters.validator_seg_id\u001b[0m:\u001b[36mvalidate_geff_seg_ids\u001b[0m:\u001b[36m85\u001b[0m - \u001b[33m\u001b[1mXY mismatch for index 220 at frame 29: expected position: (62,105)\u001b[0m\n",
      "\u001b[32m2025-08-12 20:00:46.951\u001b[0m | \u001b[33m\u001b[1mWARNING \u001b[0m | \u001b[36mtrack_gardener.converters.validator_seg_id\u001b[0m:\u001b[36mvalidate_geff_seg_ids\u001b[0m:\u001b[36m85\u001b[0m - \u001b[33m\u001b[1mXY mismatch for index 220 at frame 30: expected position: (60,105)\u001b[0m\n",
      "\u001b[32m2025-08-12 20:00:46.960\u001b[0m | \u001b[33m\u001b[1mWARNING \u001b[0m | \u001b[36mtrack_gardener.converters.validator_seg_id\u001b[0m:\u001b[36mvalidate_geff_seg_ids\u001b[0m:\u001b[36m85\u001b[0m - \u001b[33m\u001b[1mXY mismatch for index 220 at frame 31: expected position: (65,106)\u001b[0m\n",
      "\u001b[32m2025-08-12 20:00:46.969\u001b[0m | \u001b[33m\u001b[1mWARNING \u001b[0m | \u001b[36mtrack_gardener.converters.validator_seg_id\u001b[0m:\u001b[36mvalidate_geff_seg_ids\u001b[0m:\u001b[36m85\u001b[0m - \u001b[33m\u001b[1mXY mismatch for index 220 at frame 32: expected position: (47,105)\u001b[0m\n",
      "\u001b[32m2025-08-12 20:00:46.978\u001b[0m | \u001b[33m\u001b[1mWARNING \u001b[0m | \u001b[36mtrack_gardener.converters.validator_seg_id\u001b[0m:\u001b[36mvalidate_geff_seg_ids\u001b[0m:\u001b[36m85\u001b[0m - \u001b[33m\u001b[1mXY mismatch for index 221 at frame 32: expected position: (60,64)\u001b[0m\n",
      "\u001b[32m2025-08-12 20:00:46.987\u001b[0m | \u001b[33m\u001b[1mWARNING \u001b[0m | \u001b[36mtrack_gardener.converters.validator_seg_id\u001b[0m:\u001b[36mvalidate_geff_seg_ids\u001b[0m:\u001b[36m85\u001b[0m - \u001b[33m\u001b[1mXY mismatch for index 221 at frame 33: expected position: (62,63)\u001b[0m\n",
      "\u001b[32m2025-08-12 20:00:46.996\u001b[0m | \u001b[33m\u001b[1mWARNING \u001b[0m | \u001b[36mtrack_gardener.converters.validator_seg_id\u001b[0m:\u001b[36mvalidate_geff_seg_ids\u001b[0m:\u001b[36m85\u001b[0m - \u001b[33m\u001b[1mXY mismatch for index 221 at frame 34: expected position: (64,66)\u001b[0m\n",
      "\u001b[32m2025-08-12 20:00:47.006\u001b[0m | \u001b[33m\u001b[1mWARNING \u001b[0m | \u001b[36mtrack_gardener.converters.validator_seg_id\u001b[0m:\u001b[36mvalidate_geff_seg_ids\u001b[0m:\u001b[36m85\u001b[0m - \u001b[33m\u001b[1mXY mismatch for index 221 at frame 35: expected position: (63,66)\u001b[0m\n",
      "\u001b[32m2025-08-12 20:00:47.029\u001b[0m | \u001b[33m\u001b[1mWARNING \u001b[0m | \u001b[36mtrack_gardener.converters.validator_seg_id\u001b[0m:\u001b[36mvalidate_geff_seg_ids\u001b[0m:\u001b[36m85\u001b[0m - \u001b[33m\u001b[1mXY mismatch for index 221 at frame 37: expected position: (76,61)\u001b[0m\n",
      "\u001b[32m2025-08-12 20:00:47.040\u001b[0m | \u001b[33m\u001b[1mWARNING \u001b[0m | \u001b[36mtrack_gardener.converters.validator_seg_id\u001b[0m:\u001b[36mvalidate_geff_seg_ids\u001b[0m:\u001b[36m85\u001b[0m - \u001b[33m\u001b[1mXY mismatch for index 221 at frame 38: expected position: (70,64)\u001b[0m\n",
      "\u001b[32m2025-08-12 20:00:47.051\u001b[0m | \u001b[33m\u001b[1mWARNING \u001b[0m | \u001b[36mtrack_gardener.converters.validator_seg_id\u001b[0m:\u001b[36mvalidate_geff_seg_ids\u001b[0m:\u001b[36m85\u001b[0m - \u001b[33m\u001b[1mXY mismatch for index 221 at frame 39: expected position: (71,63)\u001b[0m\n",
      "\u001b[32m2025-08-12 20:00:47.062\u001b[0m | \u001b[33m\u001b[1mWARNING \u001b[0m | \u001b[36mtrack_gardener.converters.validator_seg_id\u001b[0m:\u001b[36mvalidate_geff_seg_ids\u001b[0m:\u001b[36m85\u001b[0m - \u001b[33m\u001b[1mXY mismatch for index 221 at frame 40: expected position: (60,60)\u001b[0m\n",
      "\u001b[32m2025-08-12 20:00:47.074\u001b[0m | \u001b[33m\u001b[1mWARNING \u001b[0m | \u001b[36mtrack_gardener.converters.validator_seg_id\u001b[0m:\u001b[36mvalidate_geff_seg_ids\u001b[0m:\u001b[36m85\u001b[0m - \u001b[33m\u001b[1mXY mismatch for index 221 at frame 41: expected position: (63,62)\u001b[0m\n",
      "\u001b[32m2025-08-12 20:00:47.083\u001b[0m | \u001b[33m\u001b[1mWARNING \u001b[0m | \u001b[36mtrack_gardener.converters.validator_seg_id\u001b[0m:\u001b[36mvalidate_geff_seg_ids\u001b[0m:\u001b[36m85\u001b[0m - \u001b[33m\u001b[1mXY mismatch for index 221 at frame 42: expected position: (69,51)\u001b[0m\n",
      "\u001b[32m2025-08-12 20:00:47.102\u001b[0m | \u001b[33m\u001b[1mWARNING \u001b[0m | \u001b[36mtrack_gardener.converters.validator_seg_id\u001b[0m:\u001b[36mvalidate_geff_seg_ids\u001b[0m:\u001b[36m85\u001b[0m - \u001b[33m\u001b[1mXY mismatch for index 221 at frame 44: expected position: (73,45)\u001b[0m\n",
      "\u001b[32m2025-08-12 20:00:47.111\u001b[0m | \u001b[33m\u001b[1mWARNING \u001b[0m | \u001b[36mtrack_gardener.converters.validator_seg_id\u001b[0m:\u001b[36mvalidate_geff_seg_ids\u001b[0m:\u001b[36m85\u001b[0m - \u001b[33m\u001b[1mXY mismatch for index 225 at frame 0: expected position: (98,72)\u001b[0m\n",
      "\u001b[32m2025-08-12 20:00:47.121\u001b[0m | \u001b[33m\u001b[1mWARNING \u001b[0m | \u001b[36mtrack_gardener.converters.validator_seg_id\u001b[0m:\u001b[36mvalidate_geff_seg_ids\u001b[0m:\u001b[36m85\u001b[0m - \u001b[33m\u001b[1mXY mismatch for index 225 at frame 1: expected position: (101,76)\u001b[0m\n",
      "\u001b[32m2025-08-12 20:00:47.140\u001b[0m | \u001b[33m\u001b[1mWARNING \u001b[0m | \u001b[36mtrack_gardener.converters.validator_seg_id\u001b[0m:\u001b[36mvalidate_geff_seg_ids\u001b[0m:\u001b[36m85\u001b[0m - \u001b[33m\u001b[1mXY mismatch for index 225 at frame 4: expected position: (96,80)\u001b[0m\n",
      "\u001b[32m2025-08-12 20:00:47.148\u001b[0m | \u001b[33m\u001b[1mWARNING \u001b[0m | \u001b[36mtrack_gardener.converters.validator_seg_id\u001b[0m:\u001b[36mvalidate_geff_seg_ids\u001b[0m:\u001b[36m85\u001b[0m - \u001b[33m\u001b[1mXY mismatch for index 225 at frame 5: expected position: (103,72)\u001b[0m\n",
      "\u001b[32m2025-08-12 20:00:47.156\u001b[0m | \u001b[33m\u001b[1mWARNING \u001b[0m | \u001b[36mtrack_gardener.converters.validator_seg_id\u001b[0m:\u001b[36mvalidate_geff_seg_ids\u001b[0m:\u001b[36m85\u001b[0m - \u001b[33m\u001b[1mXY mismatch for index 227 at frame 6: expected position: (95,91)\u001b[0m\n",
      "\u001b[32m2025-08-12 20:00:47.165\u001b[0m | \u001b[33m\u001b[1mWARNING \u001b[0m | \u001b[36mtrack_gardener.converters.validator_seg_id\u001b[0m:\u001b[36mvalidate_geff_seg_ids\u001b[0m:\u001b[36m85\u001b[0m - \u001b[33m\u001b[1mXY mismatch for index 227 at frame 7: expected position: (107,96)\u001b[0m\n",
      "\u001b[32m2025-08-12 20:00:47.173\u001b[0m | \u001b[33m\u001b[1mWARNING \u001b[0m | \u001b[36mtrack_gardener.converters.validator_seg_id\u001b[0m:\u001b[36mvalidate_geff_seg_ids\u001b[0m:\u001b[36m85\u001b[0m - \u001b[33m\u001b[1mXY mismatch for index 227 at frame 8: expected position: (106,94)\u001b[0m\n",
      "\u001b[32m2025-08-12 20:00:47.181\u001b[0m | \u001b[33m\u001b[1mWARNING \u001b[0m | \u001b[36mtrack_gardener.converters.validator_seg_id\u001b[0m:\u001b[36mvalidate_geff_seg_ids\u001b[0m:\u001b[36m85\u001b[0m - \u001b[33m\u001b[1mXY mismatch for index 227 at frame 9: expected position: (105,94)\u001b[0m\n",
      "\u001b[32m2025-08-12 20:00:47.188\u001b[0m | \u001b[33m\u001b[1mWARNING \u001b[0m | \u001b[36mtrack_gardener.converters.validator_seg_id\u001b[0m:\u001b[36mvalidate_geff_seg_ids\u001b[0m:\u001b[36m85\u001b[0m - \u001b[33m\u001b[1mXY mismatch for index 227 at frame 10: expected position: (104,91)\u001b[0m\n",
      "\u001b[32m2025-08-12 20:00:47.194\u001b[0m | \u001b[33m\u001b[1mWARNING \u001b[0m | \u001b[36mtrack_gardener.converters.validator_seg_id\u001b[0m:\u001b[36mvalidate_geff_seg_ids\u001b[0m:\u001b[36m85\u001b[0m - \u001b[33m\u001b[1mXY mismatch for index 227 at frame 11: expected position: (105,90)\u001b[0m\n",
      "\u001b[32m2025-08-12 20:00:47.203\u001b[0m | \u001b[33m\u001b[1mWARNING \u001b[0m | \u001b[36mtrack_gardener.converters.validator_seg_id\u001b[0m:\u001b[36mvalidate_geff_seg_ids\u001b[0m:\u001b[36m85\u001b[0m - \u001b[33m\u001b[1mXY mismatch for index 227 at frame 12: expected position: (108,93)\u001b[0m\n",
      "\u001b[32m2025-08-12 20:00:47.208\u001b[0m | \u001b[33m\u001b[1mWARNING \u001b[0m | \u001b[36mtrack_gardener.converters.validator_seg_id\u001b[0m:\u001b[36mvalidate_geff_seg_ids\u001b[0m:\u001b[36m85\u001b[0m - \u001b[33m\u001b[1mXY mismatch for index 227 at frame 13: expected position: (109,94)\u001b[0m\n",
      "\u001b[32m2025-08-12 20:00:47.213\u001b[0m | \u001b[33m\u001b[1mWARNING \u001b[0m | \u001b[36mtrack_gardener.converters.validator_seg_id\u001b[0m:\u001b[36mvalidate_geff_seg_ids\u001b[0m:\u001b[36m85\u001b[0m - \u001b[33m\u001b[1mXY mismatch for index 227 at frame 14: expected position: (108,91)\u001b[0m\n",
      "\u001b[32m2025-08-12 20:00:47.219\u001b[0m | \u001b[33m\u001b[1mWARNING \u001b[0m | \u001b[36mtrack_gardener.converters.validator_seg_id\u001b[0m:\u001b[36mvalidate_geff_seg_ids\u001b[0m:\u001b[36m85\u001b[0m - \u001b[33m\u001b[1mXY mismatch for index 227 at frame 15: expected position: (104,96)\u001b[0m\n",
      "\u001b[32m2025-08-12 20:00:47.231\u001b[0m | \u001b[33m\u001b[1mWARNING \u001b[0m | \u001b[36mtrack_gardener.converters.validator_seg_id\u001b[0m:\u001b[36mvalidate_geff_seg_ids\u001b[0m:\u001b[36m85\u001b[0m - \u001b[33m\u001b[1mXY mismatch for index 227 at frame 18: expected position: (101,93)\u001b[0m\n",
      "\u001b[32m2025-08-12 20:00:47.236\u001b[0m | \u001b[33m\u001b[1mWARNING \u001b[0m | \u001b[36mtrack_gardener.converters.validator_seg_id\u001b[0m:\u001b[36mvalidate_geff_seg_ids\u001b[0m:\u001b[36m85\u001b[0m - \u001b[33m\u001b[1mXY mismatch for index 227 at frame 19: expected position: (103,93)\u001b[0m\n",
      "\u001b[32m2025-08-12 20:00:47.241\u001b[0m | \u001b[33m\u001b[1mWARNING \u001b[0m | \u001b[36mtrack_gardener.converters.validator_seg_id\u001b[0m:\u001b[36mvalidate_geff_seg_ids\u001b[0m:\u001b[36m85\u001b[0m - \u001b[33m\u001b[1mXY mismatch for index 227 at frame 20: expected position: (96,92)\u001b[0m\n",
      "\u001b[32m2025-08-12 20:00:47.247\u001b[0m | \u001b[33m\u001b[1mWARNING \u001b[0m | \u001b[36mtrack_gardener.converters.validator_seg_id\u001b[0m:\u001b[36mvalidate_geff_seg_ids\u001b[0m:\u001b[36m85\u001b[0m - \u001b[33m\u001b[1mXY mismatch for index 227 at frame 21: expected position: (95,94)\u001b[0m\n",
      "\u001b[32m2025-08-12 20:00:47.253\u001b[0m | \u001b[33m\u001b[1mWARNING \u001b[0m | \u001b[36mtrack_gardener.converters.validator_seg_id\u001b[0m:\u001b[36mvalidate_geff_seg_ids\u001b[0m:\u001b[36m85\u001b[0m - \u001b[33m\u001b[1mXY mismatch for index 227 at frame 22: expected position: (100,95)\u001b[0m\n",
      "\u001b[32m2025-08-12 20:00:47.258\u001b[0m | \u001b[33m\u001b[1mWARNING \u001b[0m | \u001b[36mtrack_gardener.converters.validator_seg_id\u001b[0m:\u001b[36mvalidate_geff_seg_ids\u001b[0m:\u001b[36m85\u001b[0m - \u001b[33m\u001b[1mXY mismatch for index 227 at frame 23: expected position: (102,91)\u001b[0m\n",
      "\u001b[32m2025-08-12 20:00:47.263\u001b[0m | \u001b[33m\u001b[1mWARNING \u001b[0m | \u001b[36mtrack_gardener.converters.validator_seg_id\u001b[0m:\u001b[36mvalidate_geff_seg_ids\u001b[0m:\u001b[36m85\u001b[0m - \u001b[33m\u001b[1mXY mismatch for index 227 at frame 24: expected position: (112,93)\u001b[0m\n",
      "\u001b[32m2025-08-12 20:00:47.273\u001b[0m | \u001b[33m\u001b[1mWARNING \u001b[0m | \u001b[36mtrack_gardener.converters.validator_seg_id\u001b[0m:\u001b[36mvalidate_geff_seg_ids\u001b[0m:\u001b[36m85\u001b[0m - \u001b[33m\u001b[1mXY mismatch for index 227 at frame 26: expected position: (109,90)\u001b[0m\n",
      "\u001b[32m2025-08-12 20:00:47.278\u001b[0m | \u001b[33m\u001b[1mWARNING \u001b[0m | \u001b[36mtrack_gardener.converters.validator_seg_id\u001b[0m:\u001b[36mvalidate_geff_seg_ids\u001b[0m:\u001b[36m85\u001b[0m - \u001b[33m\u001b[1mXY mismatch for index 227 at frame 27: expected position: (107,93)\u001b[0m\n",
      "\u001b[32m2025-08-12 20:00:47.284\u001b[0m | \u001b[33m\u001b[1mWARNING \u001b[0m | \u001b[36mtrack_gardener.converters.validator_seg_id\u001b[0m:\u001b[36mvalidate_geff_seg_ids\u001b[0m:\u001b[36m85\u001b[0m - \u001b[33m\u001b[1mXY mismatch for index 227 at frame 28: expected position: (107,92)\u001b[0m\n",
      "\u001b[32m2025-08-12 20:00:47.289\u001b[0m | \u001b[33m\u001b[1mWARNING \u001b[0m | \u001b[36mtrack_gardener.converters.validator_seg_id\u001b[0m:\u001b[36mvalidate_geff_seg_ids\u001b[0m:\u001b[36m85\u001b[0m - \u001b[33m\u001b[1mXY mismatch for index 227 at frame 29: expected position: (108,91)\u001b[0m\n",
      "\u001b[32m2025-08-12 20:00:47.296\u001b[0m | \u001b[33m\u001b[1mWARNING \u001b[0m | \u001b[36mtrack_gardener.converters.validator_seg_id\u001b[0m:\u001b[36mvalidate_geff_seg_ids\u001b[0m:\u001b[36m85\u001b[0m - \u001b[33m\u001b[1mXY mismatch for index 227 at frame 30: expected position: (104,89)\u001b[0m\n",
      "\u001b[32m2025-08-12 20:00:47.301\u001b[0m | \u001b[33m\u001b[1mWARNING \u001b[0m | \u001b[36mtrack_gardener.converters.validator_seg_id\u001b[0m:\u001b[36mvalidate_geff_seg_ids\u001b[0m:\u001b[36m85\u001b[0m - \u001b[33m\u001b[1mXY mismatch for index 227 at frame 31: expected position: (103,88)\u001b[0m\n",
      "\u001b[32m2025-08-12 20:00:47.305\u001b[0m | \u001b[33m\u001b[1mWARNING \u001b[0m | \u001b[36mtrack_gardener.converters.validator_seg_id\u001b[0m:\u001b[36mvalidate_geff_seg_ids\u001b[0m:\u001b[36m85\u001b[0m - \u001b[33m\u001b[1mXY mismatch for index 227 at frame 32: expected position: (105,92)\u001b[0m\n",
      "\u001b[32m2025-08-12 20:00:47.311\u001b[0m | \u001b[33m\u001b[1mWARNING \u001b[0m | \u001b[36mtrack_gardener.converters.validator_seg_id\u001b[0m:\u001b[36mvalidate_geff_seg_ids\u001b[0m:\u001b[36m85\u001b[0m - \u001b[33m\u001b[1mXY mismatch for index 227 at frame 33: expected position: (105,95)\u001b[0m\n",
      "\u001b[32m2025-08-12 20:00:47.317\u001b[0m | \u001b[33m\u001b[1mWARNING \u001b[0m | \u001b[36mtrack_gardener.converters.validator_seg_id\u001b[0m:\u001b[36mvalidate_geff_seg_ids\u001b[0m:\u001b[36m85\u001b[0m - \u001b[33m\u001b[1mXY mismatch for index 227 at frame 34: expected position: (107,93)\u001b[0m\n",
      "\u001b[32m2025-08-12 20:00:47.327\u001b[0m | \u001b[33m\u001b[1mWARNING \u001b[0m | \u001b[36mtrack_gardener.converters.validator_seg_id\u001b[0m:\u001b[36mvalidate_geff_seg_ids\u001b[0m:\u001b[36m85\u001b[0m - \u001b[33m\u001b[1mXY mismatch for index 227 at frame 36: expected position: (108,93)\u001b[0m\n",
      "\u001b[32m2025-08-12 20:00:47.333\u001b[0m | \u001b[33m\u001b[1mWARNING \u001b[0m | \u001b[36mtrack_gardener.converters.validator_seg_id\u001b[0m:\u001b[36mvalidate_geff_seg_ids\u001b[0m:\u001b[36m85\u001b[0m - \u001b[33m\u001b[1mXY mismatch for index 227 at frame 37: expected position: (109,92)\u001b[0m\n",
      "\u001b[32m2025-08-12 20:00:47.339\u001b[0m | \u001b[33m\u001b[1mWARNING \u001b[0m | \u001b[36mtrack_gardener.converters.validator_seg_id\u001b[0m:\u001b[36mvalidate_geff_seg_ids\u001b[0m:\u001b[36m85\u001b[0m - \u001b[33m\u001b[1mXY mismatch for index 227 at frame 38: expected position: (113,99)\u001b[0m\n",
      "\u001b[32m2025-08-12 20:00:47.346\u001b[0m | \u001b[33m\u001b[1mWARNING \u001b[0m | \u001b[36mtrack_gardener.converters.validator_seg_id\u001b[0m:\u001b[36mvalidate_geff_seg_ids\u001b[0m:\u001b[36m85\u001b[0m - \u001b[33m\u001b[1mXY mismatch for index 227 at frame 39: expected position: (114,100)\u001b[0m\n",
      "\u001b[32m2025-08-12 20:00:47.353\u001b[0m | \u001b[33m\u001b[1mWARNING \u001b[0m | \u001b[36mtrack_gardener.converters.validator_seg_id\u001b[0m:\u001b[36mvalidate_geff_seg_ids\u001b[0m:\u001b[36m85\u001b[0m - \u001b[33m\u001b[1mXY mismatch for index 228 at frame 6: expected position: (112,59)\u001b[0m\n",
      "\u001b[32m2025-08-12 20:00:47.363\u001b[0m | \u001b[33m\u001b[1mWARNING \u001b[0m | \u001b[36mtrack_gardener.converters.validator_seg_id\u001b[0m:\u001b[36mvalidate_geff_seg_ids\u001b[0m:\u001b[36m85\u001b[0m - \u001b[33m\u001b[1mXY mismatch for index 228 at frame 7: expected position: (107,60)\u001b[0m\n",
      "\u001b[32m2025-08-12 20:00:47.370\u001b[0m | \u001b[33m\u001b[1mWARNING \u001b[0m | \u001b[36mtrack_gardener.converters.validator_seg_id\u001b[0m:\u001b[36mvalidate_geff_seg_ids\u001b[0m:\u001b[36m85\u001b[0m - \u001b[33m\u001b[1mXY mismatch for index 228 at frame 8: expected position: (106,61)\u001b[0m\n",
      "\u001b[32m2025-08-12 20:00:47.378\u001b[0m | \u001b[33m\u001b[1mWARNING \u001b[0m | \u001b[36mtrack_gardener.converters.validator_seg_id\u001b[0m:\u001b[36mvalidate_geff_seg_ids\u001b[0m:\u001b[36m85\u001b[0m - \u001b[33m\u001b[1mXY mismatch for index 228 at frame 9: expected position: (113,62)\u001b[0m\n",
      "\u001b[32m2025-08-12 20:00:47.403\u001b[0m | \u001b[33m\u001b[1mWARNING \u001b[0m | \u001b[36mtrack_gardener.converters.validator_seg_id\u001b[0m:\u001b[36mvalidate_geff_seg_ids\u001b[0m:\u001b[36m85\u001b[0m - \u001b[33m\u001b[1mXY mismatch for index 228 at frame 12: expected position: (101,56)\u001b[0m\n",
      "\u001b[32m2025-08-12 20:00:47.411\u001b[0m | \u001b[33m\u001b[1mWARNING \u001b[0m | \u001b[36mtrack_gardener.converters.validator_seg_id\u001b[0m:\u001b[36mvalidate_geff_seg_ids\u001b[0m:\u001b[36m85\u001b[0m - \u001b[33m\u001b[1mXY mismatch for index 228 at frame 13: expected position: (107,53)\u001b[0m\n",
      "\u001b[32m2025-08-12 20:00:47.429\u001b[0m | \u001b[33m\u001b[1mWARNING \u001b[0m | \u001b[36mtrack_gardener.converters.validator_seg_id\u001b[0m:\u001b[36mvalidate_geff_seg_ids\u001b[0m:\u001b[36m85\u001b[0m - \u001b[33m\u001b[1mXY mismatch for index 228 at frame 15: expected position: (101,55)\u001b[0m\n",
      "\u001b[32m2025-08-12 20:00:47.439\u001b[0m | \u001b[33m\u001b[1mWARNING \u001b[0m | \u001b[36mtrack_gardener.converters.validator_seg_id\u001b[0m:\u001b[36mvalidate_geff_seg_ids\u001b[0m:\u001b[36m85\u001b[0m - \u001b[33m\u001b[1mXY mismatch for index 228 at frame 16: expected position: (102,54)\u001b[0m\n",
      "\u001b[32m2025-08-12 20:00:47.447\u001b[0m | \u001b[33m\u001b[1mWARNING \u001b[0m | \u001b[36mtrack_gardener.converters.validator_seg_id\u001b[0m:\u001b[36mvalidate_geff_seg_ids\u001b[0m:\u001b[36m85\u001b[0m - \u001b[33m\u001b[1mXY mismatch for index 228 at frame 17: expected position: (100,53)\u001b[0m\n",
      "\u001b[32m2025-08-12 20:00:47.457\u001b[0m | \u001b[33m\u001b[1mWARNING \u001b[0m | \u001b[36mtrack_gardener.converters.validator_seg_id\u001b[0m:\u001b[36mvalidate_geff_seg_ids\u001b[0m:\u001b[36m85\u001b[0m - \u001b[33m\u001b[1mXY mismatch for index 228 at frame 18: expected position: (103,53)\u001b[0m\n",
      "\u001b[32m2025-08-12 20:00:47.464\u001b[0m | \u001b[33m\u001b[1mWARNING \u001b[0m | \u001b[36mtrack_gardener.converters.validator_seg_id\u001b[0m:\u001b[36mvalidate_geff_seg_ids\u001b[0m:\u001b[36m85\u001b[0m - \u001b[33m\u001b[1mXY mismatch for index 228 at frame 19: expected position: (102,56)\u001b[0m\n",
      "\u001b[32m2025-08-12 20:00:47.473\u001b[0m | \u001b[33m\u001b[1mWARNING \u001b[0m | \u001b[36mtrack_gardener.converters.validator_seg_id\u001b[0m:\u001b[36mvalidate_geff_seg_ids\u001b[0m:\u001b[36m85\u001b[0m - \u001b[33m\u001b[1mXY mismatch for index 228 at frame 20: expected position: (106,53)\u001b[0m\n",
      "\u001b[32m2025-08-12 20:00:47.480\u001b[0m | \u001b[33m\u001b[1mWARNING \u001b[0m | \u001b[36mtrack_gardener.converters.validator_seg_id\u001b[0m:\u001b[36mvalidate_geff_seg_ids\u001b[0m:\u001b[36m85\u001b[0m - \u001b[33m\u001b[1mXY mismatch for index 228 at frame 21: expected position: (107,56)\u001b[0m\n",
      "\u001b[32m2025-08-12 20:00:47.488\u001b[0m | \u001b[33m\u001b[1mWARNING \u001b[0m | \u001b[36mtrack_gardener.converters.validator_seg_id\u001b[0m:\u001b[36mvalidate_geff_seg_ids\u001b[0m:\u001b[36m85\u001b[0m - \u001b[33m\u001b[1mXY mismatch for index 228 at frame 22: expected position: (104,52)\u001b[0m\n",
      "\u001b[32m2025-08-12 20:00:47.495\u001b[0m | \u001b[33m\u001b[1mWARNING \u001b[0m | \u001b[36mtrack_gardener.converters.validator_seg_id\u001b[0m:\u001b[36mvalidate_geff_seg_ids\u001b[0m:\u001b[36m85\u001b[0m - \u001b[33m\u001b[1mXY mismatch for index 228 at frame 23: expected position: (104,49)\u001b[0m\n",
      "\u001b[32m2025-08-12 20:00:47.509\u001b[0m | \u001b[33m\u001b[1mWARNING \u001b[0m | \u001b[36mtrack_gardener.converters.validator_seg_id\u001b[0m:\u001b[36mvalidate_geff_seg_ids\u001b[0m:\u001b[36m85\u001b[0m - \u001b[33m\u001b[1mXY mismatch for index 228 at frame 25: expected position: (107,50)\u001b[0m\n",
      "\u001b[32m2025-08-12 20:00:47.521\u001b[0m | \u001b[33m\u001b[1mWARNING \u001b[0m | \u001b[36mtrack_gardener.converters.validator_seg_id\u001b[0m:\u001b[36mvalidate_geff_seg_ids\u001b[0m:\u001b[36m85\u001b[0m - \u001b[33m\u001b[1mXY mismatch for index 228 at frame 27: expected position: (108,51)\u001b[0m\n",
      "\u001b[32m2025-08-12 20:00:47.540\u001b[0m | \u001b[33m\u001b[1mWARNING \u001b[0m | \u001b[36mtrack_gardener.converters.validator_seg_id\u001b[0m:\u001b[36mvalidate_geff_seg_ids\u001b[0m:\u001b[36m85\u001b[0m - \u001b[33m\u001b[1mXY mismatch for index 228 at frame 30: expected position: (107,44)\u001b[0m\n",
      "\u001b[32m2025-08-12 20:00:47.547\u001b[0m | \u001b[33m\u001b[1mWARNING \u001b[0m | \u001b[36mtrack_gardener.converters.validator_seg_id\u001b[0m:\u001b[36mvalidate_geff_seg_ids\u001b[0m:\u001b[36m85\u001b[0m - \u001b[33m\u001b[1mXY mismatch for index 228 at frame 31: expected position: (107,46)\u001b[0m\n",
      "\u001b[32m2025-08-12 20:00:47.562\u001b[0m | \u001b[33m\u001b[1mWARNING \u001b[0m | \u001b[36mtrack_gardener.converters.validator_seg_id\u001b[0m:\u001b[36mvalidate_geff_seg_ids\u001b[0m:\u001b[36m85\u001b[0m - \u001b[33m\u001b[1mXY mismatch for index 228 at frame 33: expected position: (104,49)\u001b[0m\n",
      "\u001b[32m2025-08-12 20:00:47.570\u001b[0m | \u001b[33m\u001b[1mWARNING \u001b[0m | \u001b[36mtrack_gardener.converters.validator_seg_id\u001b[0m:\u001b[36mvalidate_geff_seg_ids\u001b[0m:\u001b[36m85\u001b[0m - \u001b[33m\u001b[1mXY mismatch for index 228 at frame 34: expected position: (108,46)\u001b[0m\n",
      "\u001b[32m2025-08-12 20:00:47.580\u001b[0m | \u001b[33m\u001b[1mWARNING \u001b[0m | \u001b[36mtrack_gardener.converters.validator_seg_id\u001b[0m:\u001b[36mvalidate_geff_seg_ids\u001b[0m:\u001b[36m85\u001b[0m - \u001b[33m\u001b[1mXY mismatch for index 228 at frame 35: expected position: (114,45)\u001b[0m\n",
      "\u001b[32m2025-08-12 20:00:47.594\u001b[0m | \u001b[33m\u001b[1mWARNING \u001b[0m | \u001b[36mtrack_gardener.converters.validator_seg_id\u001b[0m:\u001b[36mvalidate_geff_seg_ids\u001b[0m:\u001b[36m85\u001b[0m - \u001b[33m\u001b[1mXY mismatch for index 230 at frame 37: expected position: (130,55)\u001b[0m\n",
      "\u001b[32m2025-08-12 20:00:47.611\u001b[0m | \u001b[33m\u001b[1mWARNING \u001b[0m | \u001b[36mtrack_gardener.converters.validator_seg_id\u001b[0m:\u001b[36mvalidate_geff_seg_ids\u001b[0m:\u001b[36m85\u001b[0m - \u001b[33m\u001b[1mXY mismatch for index 230 at frame 39: expected position: (125,65)\u001b[0m\n",
      "\u001b[32m2025-08-12 20:00:47.622\u001b[0m | \u001b[33m\u001b[1mWARNING \u001b[0m | \u001b[36mtrack_gardener.converters.validator_seg_id\u001b[0m:\u001b[36mvalidate_geff_seg_ids\u001b[0m:\u001b[36m85\u001b[0m - \u001b[33m\u001b[1mXY mismatch for index 230 at frame 40: expected position: (125,66)\u001b[0m\n",
      "\u001b[32m2025-08-12 20:00:47.631\u001b[0m | \u001b[33m\u001b[1mWARNING \u001b[0m | \u001b[36mtrack_gardener.converters.validator_seg_id\u001b[0m:\u001b[36mvalidate_geff_seg_ids\u001b[0m:\u001b[36m85\u001b[0m - \u001b[33m\u001b[1mXY mismatch for index 230 at frame 41: expected position: (131,66)\u001b[0m\n",
      "\u001b[32m2025-08-12 20:00:47.649\u001b[0m | \u001b[33m\u001b[1mWARNING \u001b[0m | \u001b[36mtrack_gardener.converters.validator_seg_id\u001b[0m:\u001b[36mvalidate_geff_seg_ids\u001b[0m:\u001b[36m85\u001b[0m - \u001b[33m\u001b[1mXY mismatch for index 230 at frame 43: expected position: (139,66)\u001b[0m\n",
      "\u001b[32m2025-08-12 20:00:47.659\u001b[0m | \u001b[33m\u001b[1mWARNING \u001b[0m | \u001b[36mtrack_gardener.converters.validator_seg_id\u001b[0m:\u001b[36mvalidate_geff_seg_ids\u001b[0m:\u001b[36m85\u001b[0m - \u001b[33m\u001b[1mXY mismatch for index 230 at frame 44: expected position: (137,65)\u001b[0m\n",
      "\u001b[32m2025-08-12 20:00:47.668\u001b[0m | \u001b[33m\u001b[1mWARNING \u001b[0m | \u001b[36mtrack_gardener.converters.validator_seg_id\u001b[0m:\u001b[36mvalidate_geff_seg_ids\u001b[0m:\u001b[36m85\u001b[0m - \u001b[33m\u001b[1mXY mismatch for index 231 at frame 37: expected position: (101,23)\u001b[0m\n",
      "\u001b[32m2025-08-12 20:00:47.678\u001b[0m | \u001b[33m\u001b[1mWARNING \u001b[0m | \u001b[36mtrack_gardener.converters.validator_seg_id\u001b[0m:\u001b[36mvalidate_geff_seg_ids\u001b[0m:\u001b[36m85\u001b[0m - \u001b[33m\u001b[1mXY mismatch for index 231 at frame 38: expected position: (101,30)\u001b[0m\n",
      "\u001b[32m2025-08-12 20:00:47.687\u001b[0m | \u001b[33m\u001b[1mWARNING \u001b[0m | \u001b[36mtrack_gardener.converters.validator_seg_id\u001b[0m:\u001b[36mvalidate_geff_seg_ids\u001b[0m:\u001b[36m85\u001b[0m - \u001b[33m\u001b[1mXY mismatch for index 231 at frame 39: expected position: (99,29)\u001b[0m\n",
      "\u001b[32m2025-08-12 20:00:47.696\u001b[0m | \u001b[33m\u001b[1mWARNING \u001b[0m | \u001b[36mtrack_gardener.converters.validator_seg_id\u001b[0m:\u001b[36mvalidate_geff_seg_ids\u001b[0m:\u001b[36m85\u001b[0m - \u001b[33m\u001b[1mXY mismatch for index 231 at frame 40: expected position: (99,33)\u001b[0m\n",
      "\u001b[32m2025-08-12 20:00:47.705\u001b[0m | \u001b[33m\u001b[1mWARNING \u001b[0m | \u001b[36mtrack_gardener.converters.validator_seg_id\u001b[0m:\u001b[36mvalidate_geff_seg_ids\u001b[0m:\u001b[36m85\u001b[0m - \u001b[33m\u001b[1mXY mismatch for index 231 at frame 41: expected position: (103,32)\u001b[0m\n",
      "\u001b[32m2025-08-12 20:00:47.714\u001b[0m | \u001b[33m\u001b[1mWARNING \u001b[0m | \u001b[36mtrack_gardener.converters.validator_seg_id\u001b[0m:\u001b[36mvalidate_geff_seg_ids\u001b[0m:\u001b[36m85\u001b[0m - \u001b[33m\u001b[1mXY mismatch for index 231 at frame 42: expected position: (102,24)\u001b[0m\n",
      "\u001b[32m2025-08-12 20:00:47.724\u001b[0m | \u001b[33m\u001b[1mWARNING \u001b[0m | \u001b[36mtrack_gardener.converters.validator_seg_id\u001b[0m:\u001b[36mvalidate_geff_seg_ids\u001b[0m:\u001b[36m85\u001b[0m - \u001b[33m\u001b[1mXY mismatch for index 231 at frame 43: expected position: (103,20)\u001b[0m\n",
      "\u001b[32m2025-08-12 20:00:47.733\u001b[0m | \u001b[33m\u001b[1mWARNING \u001b[0m | \u001b[36mtrack_gardener.converters.validator_seg_id\u001b[0m:\u001b[36mvalidate_geff_seg_ids\u001b[0m:\u001b[36m85\u001b[0m - \u001b[33m\u001b[1mXY mismatch for index 231 at frame 44: expected position: (104,19)\u001b[0m\n",
      "\u001b[32m2025-08-12 20:00:47.744\u001b[0m | \u001b[33m\u001b[1mWARNING \u001b[0m | \u001b[36mtrack_gardener.converters.validator_seg_id\u001b[0m:\u001b[36mvalidate_geff_seg_ids\u001b[0m:\u001b[36m85\u001b[0m - \u001b[33m\u001b[1mXY mismatch for index 233 at frame 40: expected position: (96,89)\u001b[0m\n",
      "\u001b[32m2025-08-12 20:00:47.753\u001b[0m | \u001b[33m\u001b[1mWARNING \u001b[0m | \u001b[36mtrack_gardener.converters.validator_seg_id\u001b[0m:\u001b[36mvalidate_geff_seg_ids\u001b[0m:\u001b[36m85\u001b[0m - \u001b[33m\u001b[1mXY mismatch for index 233 at frame 41: expected position: (90,88)\u001b[0m\n",
      "\u001b[32m2025-08-12 20:00:47.763\u001b[0m | \u001b[33m\u001b[1mWARNING \u001b[0m | \u001b[36mtrack_gardener.converters.validator_seg_id\u001b[0m:\u001b[36mvalidate_geff_seg_ids\u001b[0m:\u001b[36m85\u001b[0m - \u001b[33m\u001b[1mXY mismatch for index 233 at frame 42: expected position: (84,86)\u001b[0m\n",
      "\u001b[32m2025-08-12 20:00:47.773\u001b[0m | \u001b[33m\u001b[1mWARNING \u001b[0m | \u001b[36mtrack_gardener.converters.validator_seg_id\u001b[0m:\u001b[36mvalidate_geff_seg_ids\u001b[0m:\u001b[36m85\u001b[0m - \u001b[33m\u001b[1mXY mismatch for index 233 at frame 43: expected position: (76,83)\u001b[0m\n",
      "\u001b[32m2025-08-12 20:00:47.781\u001b[0m | \u001b[33m\u001b[1mWARNING \u001b[0m | \u001b[36mtrack_gardener.converters.validator_seg_id\u001b[0m:\u001b[36mvalidate_geff_seg_ids\u001b[0m:\u001b[36m85\u001b[0m - \u001b[33m\u001b[1mXY mismatch for index 233 at frame 44: expected position: (77,77)\u001b[0m\n",
      "\u001b[32m2025-08-12 20:00:47.792\u001b[0m | \u001b[33m\u001b[1mWARNING \u001b[0m | \u001b[36mtrack_gardener.converters.validator_seg_id\u001b[0m:\u001b[36mvalidate_geff_seg_ids\u001b[0m:\u001b[36m85\u001b[0m - \u001b[33m\u001b[1mXY mismatch for index 234 at frame 40: expected position: (131,104)\u001b[0m\n",
      "\u001b[32m2025-08-12 20:00:47.803\u001b[0m | \u001b[33m\u001b[1mWARNING \u001b[0m | \u001b[36mtrack_gardener.converters.validator_seg_id\u001b[0m:\u001b[36mvalidate_geff_seg_ids\u001b[0m:\u001b[36m85\u001b[0m - \u001b[33m\u001b[1mXY mismatch for index 234 at frame 41: expected position: (124,101)\u001b[0m\n",
      "\u001b[32m2025-08-12 20:00:47.812\u001b[0m | \u001b[33m\u001b[1mWARNING \u001b[0m | \u001b[36mtrack_gardener.converters.validator_seg_id\u001b[0m:\u001b[36mvalidate_geff_seg_ids\u001b[0m:\u001b[36m85\u001b[0m - \u001b[33m\u001b[1mXY mismatch for index 234 at frame 42: expected position: (125,100)\u001b[0m\n",
      "\u001b[32m2025-08-12 20:00:47.821\u001b[0m | \u001b[33m\u001b[1mWARNING \u001b[0m | \u001b[36mtrack_gardener.converters.validator_seg_id\u001b[0m:\u001b[36mvalidate_geff_seg_ids\u001b[0m:\u001b[36m85\u001b[0m - \u001b[33m\u001b[1mXY mismatch for index 234 at frame 43: expected position: (131,101)\u001b[0m\n",
      "\u001b[32m2025-08-12 20:00:47.828\u001b[0m | \u001b[33m\u001b[1mWARNING \u001b[0m | \u001b[36mtrack_gardener.converters.validator_seg_id\u001b[0m:\u001b[36mvalidate_geff_seg_ids\u001b[0m:\u001b[36m85\u001b[0m - \u001b[33m\u001b[1mXY mismatch for index 234 at frame 44: expected position: (136,99)\u001b[0m\n",
      "\u001b[32m2025-08-12 20:00:47.831\u001b[0m | \u001b[1mINFO    \u001b[0m | \u001b[36mtrack_gardener.converters.validator_seg_id\u001b[0m:\u001b[36mvalidate_geff_seg_ids\u001b[0m:\u001b[36m93\u001b[0m - \u001b[1mChecking for extra segmentations not referenced in GEFF...\u001b[0m\n",
      "\u001b[32m2025-08-12 20:00:48.124\u001b[0m | \u001b[33m\u001b[1mWARNING \u001b[0m | \u001b[36mtrack_gardener.converters.validator_seg_id\u001b[0m:\u001b[36mvalidate_geff_seg_ids\u001b[0m:\u001b[36m114\u001b[0m - \u001b[33m\u001b[1mValidation failed for one or more nodes.\u001b[0m\n"
     ]
    },
    {
     "name": "stdout",
     "output_type": "stream",
     "text": [
      "Test passed: False, details: {'node_issues': [(0, 'xy_mismatch'), (1, 'xy_mismatch'), (4, 'xy_mismatch'), (6, 'xy_mismatch'), (7, 'xy_mismatch'), (8, 'xy_mismatch'), (9, 'xy_mismatch'), (10, 'xy_mismatch'), (12, 'xy_mismatch'), (13, 'xy_mismatch'), (14, 'xy_mismatch'), (15, 'xy_mismatch'), (16, 'xy_mismatch'), (17, 'xy_mismatch'), (18, 'xy_mismatch'), (19, 'xy_mismatch'), (20, 'xy_mismatch'), (22, 'xy_mismatch'), (23, 'xy_mismatch'), (24, 'xy_mismatch'), (25, 'xy_mismatch'), (27, 'xy_mismatch'), (28, 'xy_mismatch'), (30, 'xy_mismatch'), (31, 'xy_mismatch'), (33, 'xy_mismatch'), (34, 'xy_mismatch'), (35, 'xy_mismatch'), (36, 'xy_mismatch'), (37, 'xy_mismatch'), (39, 'xy_mismatch'), (40, 'xy_mismatch'), (41, 'xy_mismatch'), (42, 'xy_mismatch'), (43, 'xy_mismatch'), (44, 'xy_mismatch'), (45, 'xy_mismatch'), (46, 'xy_mismatch'), (47, 'xy_mismatch'), (48, 'xy_mismatch'), (49, 'xy_mismatch'), (50, 'xy_mismatch'), (52, 'xy_mismatch'), (53, 'xy_mismatch'), (54, 'xy_mismatch'), (56, 'xy_mismatch'), (57, 'xy_mismatch'), (58, 'xy_mismatch'), (59, 'xy_mismatch'), (60, 'xy_mismatch'), (61, 'xy_mismatch'), (62, 'xy_mismatch'), (63, 'xy_mismatch'), (64, 'xy_mismatch'), (65, 'xy_mismatch'), (66, 'xy_mismatch'), (67, 'xy_mismatch'), (68, 'xy_mismatch'), (70, 'xy_mismatch'), (71, 'xy_mismatch'), (72, 'xy_mismatch'), (73, 'xy_mismatch'), (74, 'xy_mismatch'), (75, 'xy_mismatch'), (76, 'xy_mismatch'), (77, 'xy_mismatch'), (78, 'xy_mismatch'), (79, 'xy_mismatch'), (80, 'xy_mismatch'), (81, 'xy_mismatch'), (83, 'xy_mismatch'), (84, 'xy_mismatch'), (85, 'xy_mismatch'), (86, 'xy_mismatch'), (87, 'xy_mismatch'), (88, 'xy_mismatch'), (89, 'xy_mismatch'), (90, 'xy_mismatch'), (91, 'xy_mismatch'), (92, 'xy_mismatch'), (93, 'xy_mismatch'), (95, 'xy_mismatch'), (96, 'xy_mismatch'), (97, 'xy_mismatch'), (98, 'xy_mismatch'), (99, 'xy_mismatch'), (100, 'xy_mismatch'), (101, 'xy_mismatch'), (102, 'xy_mismatch'), (104, 'xy_mismatch'), (105, 'xy_mismatch'), (106, 'xy_mismatch'), (107, 'xy_mismatch'), (108, 'xy_mismatch'), (109, 'xy_mismatch'), (111, 'xy_mismatch'), (112, 'xy_mismatch'), (113, 'xy_mismatch'), (116, 'xy_mismatch'), (117, 'xy_mismatch'), (118, 'xy_mismatch'), (119, 'xy_mismatch'), (120, 'xy_mismatch'), (121, 'xy_mismatch'), (122, 'xy_mismatch'), (123, 'xy_mismatch'), (124, 'xy_mismatch'), (125, 'xy_mismatch'), (126, 'xy_mismatch'), (127, 'xy_mismatch'), (130, 'xy_mismatch'), (131, 'xy_mismatch'), (132, 'xy_mismatch'), (133, 'xy_mismatch'), (134, 'xy_mismatch'), (135, 'xy_mismatch'), (136, 'xy_mismatch'), (138, 'xy_mismatch'), (139, 'xy_mismatch'), (140, 'xy_mismatch'), (141, 'xy_mismatch'), (142, 'xy_mismatch'), (143, 'xy_mismatch'), (144, 'xy_mismatch'), (145, 'xy_mismatch'), (146, 'xy_mismatch'), (148, 'xy_mismatch'), (149, 'xy_mismatch'), (150, 'xy_mismatch'), (151, 'xy_mismatch'), (152, 'xy_mismatch'), (153, 'xy_mismatch'), (154, 'xy_mismatch'), (155, 'xy_mismatch'), (158, 'xy_mismatch'), (159, 'xy_mismatch'), (161, 'xy_mismatch'), (162, 'xy_mismatch'), (163, 'xy_mismatch'), (164, 'xy_mismatch'), (165, 'xy_mismatch'), (166, 'xy_mismatch'), (167, 'xy_mismatch'), (168, 'xy_mismatch'), (169, 'xy_mismatch'), (171, 'xy_mismatch'), (173, 'xy_mismatch'), (176, 'xy_mismatch'), (177, 'xy_mismatch'), (179, 'xy_mismatch'), (180, 'xy_mismatch'), (181, 'xy_mismatch'), (183, 'xy_mismatch'), (185, 'xy_mismatch'), (186, 'xy_mismatch'), (187, 'xy_mismatch'), (189, 'xy_mismatch'), (190, 'xy_mismatch'), (191, 'xy_mismatch'), (192, 'xy_mismatch'), (193, 'xy_mismatch'), (194, 'xy_mismatch'), (195, 'xy_mismatch'), (196, 'xy_mismatch'), (197, 'xy_mismatch'), (198, 'xy_mismatch'), (199, 'xy_mismatch'), (200, 'xy_mismatch'), (201, 'xy_mismatch'), (202, 'xy_mismatch'), (203, 'xy_mismatch'), (204, 'xy_mismatch'), (205, 'xy_mismatch'), (206, 'xy_mismatch'), (207, 'xy_mismatch'), (208, 'xy_mismatch')], 'extra_segments': {}}.\n"
     ]
    }
   ],
   "source": [
    "p, details = validate_geff_seg_ids(\n",
    "    geff_group_path = geff_group_path,\n",
    "    segmentation_path = segmentation_path,\n",
    "    seg_id_field = \"segm_id\",\n",
    "    check_xy_position = True,\n",
    "    check_extra_segmentations = True)\n",
    "\n",
    "print(f'Test passed: {p}, details: {details}.')"
   ]
  },
  {
   "cell_type": "code",
   "execution_count": 4,
   "id": "a73d1a8d",
   "metadata": {},
   "outputs": [],
   "source": [
    "# read in configuration file\n",
    "with open(config_path) as file:\n",
    "    config = yaml.safe_load(file)\n",
    "\n",
    "# get segmentation array\n",
    "segm_array = da.from_zarr(segmentation_path)"
   ]
  },
  {
   "cell_type": "code",
   "execution_count": 5,
   "id": "1a383b52",
   "metadata": {},
   "outputs": [
    {
     "ename": "IndexError",
     "evalue": "list index out of range",
     "output_type": "error",
     "traceback": [
      "\u001b[31m---------------------------------------------------------------------------\u001b[39m",
      "\u001b[31mIndexError\u001b[39m                                Traceback (most recent call last)",
      "\u001b[36mCell\u001b[39m\u001b[36m \u001b[39m\u001b[32mIn[5]\u001b[39m\u001b[32m, line 1\u001b[39m\n\u001b[32m----> \u001b[39m\u001b[32m1\u001b[39m \u001b[43msegm_and_geff_to_TG\u001b[49m\u001b[43m(\u001b[49m\u001b[43msegm_array\u001b[49m\u001b[43m,\u001b[49m\u001b[43m \u001b[49m\u001b[43mgeff_group_path\u001b[49m\u001b[43m,\u001b[49m\u001b[43m \u001b[49m\u001b[43mconfig\u001b[49m\u001b[43m)\u001b[49m\n",
      "\u001b[36mFile \u001b[39m\u001b[32mD:\\track-gardener\\src\\track_gardener\\converters\\geff_converters.py:64\u001b[39m, in \u001b[36msegm_and_geff_to_TG\u001b[39m\u001b[34m(segmentation_stack, geff_group_path, config)\u001b[39m\n\u001b[32m     62\u001b[39m G = assign_tracklet_ids(G, attribute_name = \u001b[33m'\u001b[39m\u001b[33mtrack_id\u001b[39m\u001b[33m'\u001b[39m)\n\u001b[32m     63\u001b[39m G_tracklets = build_tracklet_graph(G, attribute_name = \u001b[33m'\u001b[39m\u001b[33mtrack_id\u001b[39m\u001b[33m'\u001b[39m, prop_names=[\u001b[33m'\u001b[39m\u001b[33mt\u001b[39m\u001b[33m'\u001b[39m])\n\u001b[32m---> \u001b[39m\u001b[32m64\u001b[39m tracks_sql_objects = \u001b[43mtracklet_graph_to_TrackDB\u001b[49m\u001b[43m(\u001b[49m\n\u001b[32m     65\u001b[39m \u001b[43m    \u001b[49m\u001b[43mG_tracklets\u001b[49m\u001b[43m,\u001b[49m\u001b[43m \u001b[49m\u001b[43mtime_prop_name\u001b[49m\u001b[43m=\u001b[49m\u001b[33;43m'\u001b[39;49m\u001b[33;43mt\u001b[39;49m\u001b[33;43m'\u001b[39;49m\u001b[43m)\u001b[49m\n\u001b[32m     67\u001b[39m \u001b[38;5;28;01mwith\u001b[39;00m Session() \u001b[38;5;28;01mas\u001b[39;00m session:\n\u001b[32m     68\u001b[39m     session.bulk_save_objects(tracks_sql_objects)\n",
      "\u001b[36mFile \u001b[39m\u001b[32mD:\\track-gardener\\src\\track_gardener\\converters\\utils.py:218\u001b[39m, in \u001b[36mtracklet_graph_to_TrackDB\u001b[39m\u001b[34m(tracklet_graph, time_prop_name)\u001b[39m\n\u001b[32m    215\u001b[39m attrs = tracklet_graph.nodes[node_id]\n\u001b[32m    217\u001b[39m parent = tracklet_graph.predecessors(node_id)\n\u001b[32m--> \u001b[39m\u001b[32m218\u001b[39m parent_id = \u001b[38;5;28;43mlist\u001b[39;49m\u001b[43m(\u001b[49m\u001b[43mparent\u001b[49m\u001b[43m)\u001b[49m\u001b[43m[\u001b[49m\u001b[32;43m0\u001b[39;49m\u001b[43m]\u001b[49m \u001b[38;5;28;01mif\u001b[39;00m parent \u001b[38;5;28;01melse\u001b[39;00m NO_PARENT\n\u001b[32m    220\u001b[39m accepted_tab = attrs.get(\u001b[33m\"\u001b[39m\u001b[33maccepted_tag\u001b[39m\u001b[33m\"\u001b[39m, \u001b[38;5;28;01mFalse\u001b[39;00m)\n\u001b[32m    222\u001b[39m \u001b[38;5;66;03m# Create the SQLAlchemy object\u001b[39;00m\n",
      "\u001b[31mIndexError\u001b[39m: list index out of range"
     ]
    }
   ],
   "source": [
    "segm_and_geff_to_TG(segm_array, geff_group_path, config)"
   ]
  },
  {
   "cell_type": "code",
   "execution_count": null,
   "id": "ce5eecc0",
   "metadata": {},
   "outputs": [
    {
     "data": {
      "text/plain": [
       "'Fluo-N2DL-HeLa-01_conversion_result.db'"
      ]
     },
     "execution_count": 9,
     "metadata": {},
     "output_type": "execute_result"
    }
   ],
   "source": [
    "config[\"database\"][\"path\"]"
   ]
  },
  {
   "cell_type": "code",
   "execution_count": null,
   "id": "92df51cd",
   "metadata": {},
   "outputs": [],
   "source": []
  }
 ],
 "metadata": {
  "kernelspec": {
   "display_name": "gardener-env3",
   "language": "python",
   "name": "python3"
  },
  "language_info": {
   "codemirror_mode": {
    "name": "ipython",
    "version": 3
   },
   "file_extension": ".py",
   "mimetype": "text/x-python",
   "name": "python",
   "nbconvert_exporter": "python",
   "pygments_lexer": "ipython3",
   "version": "3.11.13"
  }
 },
 "nbformat": 4,
 "nbformat_minor": 5
}
