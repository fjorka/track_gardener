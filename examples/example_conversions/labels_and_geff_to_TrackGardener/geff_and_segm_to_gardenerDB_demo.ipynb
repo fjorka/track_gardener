{
 "cells": [
  {
   "cell_type": "code",
   "execution_count": 1,
   "id": "0fed07f9",
   "metadata": {},
   "outputs": [],
   "source": [
    "import dask.array as da\n",
    "import yaml\n",
    "\n",
    "from track_gardener.converters.geff_2_gardener import segm_geff_to_db\n",
    "from track_gardener.converters.validator_seg_id import validate_geff_seg_ids"
   ]
  },
  {
   "cell_type": "code",
   "execution_count": 2,
   "id": "41cf5380",
   "metadata": {},
   "outputs": [],
   "source": [
    "geff_group_path = r\"D:\\test_data\\Fluo-N2DL-HeLa-01_scramble.zarr\\tracks_corr\"\n",
    "segmentation_path = r\"D:\\test_data\\Fluo-N2DL-HeLa-01_scramble.zarr\\seg-scramble\"\n",
    "\n",
    "config_path = r'D:\\test_data\\Fluo-N2DL-HeLa-01_config.yaml'"
   ]
  },
  {
   "cell_type": "code",
   "execution_count": 3,
   "id": "e3ebb633",
   "metadata": {},
   "outputs": [
    {
     "name": "stderr",
     "output_type": "stream",
     "text": [
      "\u001b[32m2025-07-23 17:45:01.630\u001b[0m | \u001b[1mINFO    \u001b[0m | \u001b[36mtrack_gardener.converters.validator_seg_id\u001b[0m:\u001b[36mvalidate_geff_seg_ids\u001b[0m:\u001b[36m31\u001b[0m - \u001b[1mOpening GEFF group from: D:\\test_data\\Fluo-N2DL-HeLa-01_scramble.zarr\\tracks_corr\u001b[0m\n",
      "\u001b[32m2025-07-23 17:45:01.658\u001b[0m | \u001b[1mINFO    \u001b[0m | \u001b[36mtrack_gardener.converters.validator_seg_id\u001b[0m:\u001b[36mvalidate_geff_seg_ids\u001b[0m:\u001b[36m52\u001b[0m - \u001b[1mBeginning node validation...\u001b[0m\n",
      "\u001b[32m2025-07-23 17:48:30.014\u001b[0m | \u001b[32m\u001b[1mSUCCESS \u001b[0m | \u001b[36mtrack_gardener.converters.validator_seg_id\u001b[0m:\u001b[36mvalidate_geff_seg_ids\u001b[0m:\u001b[36m112\u001b[0m - \u001b[32m\u001b[1mAll validations passed successfully.\u001b[0m\n"
     ]
    },
    {
     "name": "stdout",
     "output_type": "stream",
     "text": [
      "Test passed: True, details: {'node_issues': [], 'extra_segments': None}.\n"
     ]
    }
   ],
   "source": [
    "p, details = validate_geff_seg_ids(\n",
    "    geff_group_path = geff_group_path,\n",
    "    segmentation_path = segmentation_path,\n",
    "    seg_id_field = \"segm_id\",\n",
    "    check_xy_position = False,\n",
    "    check_extra_segmentations = False)\n",
    "\n",
    "print(f'Test passed: {p}, details: {details}.')"
   ]
  },
  {
   "cell_type": "code",
   "execution_count": 4,
   "id": "16be17e7",
   "metadata": {},
   "outputs": [
    {
     "name": "stderr",
     "output_type": "stream",
     "text": [
      "\u001b[32m2025-07-23 17:48:30.039\u001b[0m | \u001b[1mINFO    \u001b[0m | \u001b[36mtrack_gardener.converters.validator_seg_id\u001b[0m:\u001b[36mvalidate_geff_seg_ids\u001b[0m:\u001b[36m31\u001b[0m - \u001b[1mOpening GEFF group from: D:\\test_data\\Fluo-N2DL-HeLa-01_scramble.zarr\\tracks_corr\u001b[0m\n",
      "\u001b[32m2025-07-23 17:48:30.102\u001b[0m | \u001b[1mINFO    \u001b[0m | \u001b[36mtrack_gardener.converters.validator_seg_id\u001b[0m:\u001b[36mvalidate_geff_seg_ids\u001b[0m:\u001b[36m52\u001b[0m - \u001b[1mBeginning node validation...\u001b[0m\n",
      "\u001b[32m2025-07-23 17:50:48.937\u001b[0m | \u001b[33m\u001b[1mWARNING \u001b[0m | \u001b[36mtrack_gardener.converters.validator_seg_id\u001b[0m:\u001b[36mvalidate_geff_seg_ids\u001b[0m:\u001b[36m85\u001b[0m - \u001b[33m\u001b[1mXY mismatch for index 98 at frame 14: expected position: (171,495)\u001b[0m\n",
      "\u001b[32m2025-07-23 17:52:32.772\u001b[0m | \u001b[33m\u001b[1mWARNING \u001b[0m | \u001b[36mtrack_gardener.converters.validator_seg_id\u001b[0m:\u001b[36mvalidate_geff_seg_ids\u001b[0m:\u001b[36m85\u001b[0m - \u001b[33m\u001b[1mXY mismatch for index 135 at frame 83: expected position: (773,323)\u001b[0m\n",
      "\u001b[32m2025-07-23 17:53:17.589\u001b[0m | \u001b[1mINFO    \u001b[0m | \u001b[36mtrack_gardener.converters.validator_seg_id\u001b[0m:\u001b[36mvalidate_geff_seg_ids\u001b[0m:\u001b[36m93\u001b[0m - \u001b[1mChecking for extra segmentations not referenced in GEFF...\u001b[0m\n",
      "\u001b[32m2025-07-23 17:53:23.764\u001b[0m | \u001b[33m\u001b[1mWARNING \u001b[0m | \u001b[36mtrack_gardener.converters.validator_seg_id\u001b[0m:\u001b[36mvalidate_geff_seg_ids\u001b[0m:\u001b[36m114\u001b[0m - \u001b[33m\u001b[1mValidation failed for one or more nodes.\u001b[0m\n"
     ]
    },
    {
     "name": "stdout",
     "output_type": "stream",
     "text": [
      "Test passed: False, details: {'node_issues': [(4982, 'xy_mismatch'), (7556, 'xy_mismatch')], 'extra_segments': {}}.\n"
     ]
    }
   ],
   "source": [
    "p, details = validate_geff_seg_ids(\n",
    "    geff_group_path = geff_group_path,\n",
    "    segmentation_path = segmentation_path,\n",
    "    seg_id_field = \"segm_id\",\n",
    "    check_xy_position = True,\n",
    "    check_extra_segmentations = True)\n",
    "\n",
    "print(f'Test passed: {p}, details: {details}.')"
   ]
  },
  {
   "cell_type": "code",
   "execution_count": 5,
   "id": "a73d1a8d",
   "metadata": {},
   "outputs": [],
   "source": [
    "# read in configuration file\n",
    "with open(config_path) as file:\n",
    "    config = yaml.safe_load(file)\n",
    "\n",
    "# get segmentation array\n",
    "segm_array = da.from_zarr(segmentation_path)"
   ]
  },
  {
   "cell_type": "code",
   "execution_count": 6,
   "id": "1a383b52",
   "metadata": {},
   "outputs": [
    {
     "name": "stderr",
     "output_type": "stream",
     "text": [
      "  0%|          | 0/92 [00:00<?, ?it/s]\u001b[32m2025-07-23 17:53:23.947\u001b[0m | \u001b[1mINFO    \u001b[0m | \u001b[36mtrack_gardener.converters.track_array_2_gardener\u001b[0m:\u001b[36mconvert_labeled_frame_to_cells\u001b[0m:\u001b[36m89\u001b[0m - \u001b[1mFound 43 labeled objects at t=0\u001b[0m\n",
      "  1%|          | 1/92 [00:00<01:22,  1.11it/s]\u001b[32m2025-07-23 17:53:24.881\u001b[0m | \u001b[1mINFO    \u001b[0m | \u001b[36mtrack_gardener.converters.track_array_2_gardener\u001b[0m:\u001b[36mconvert_labeled_frame_to_cells\u001b[0m:\u001b[36m89\u001b[0m - \u001b[1mFound 43 labeled objects at t=1\u001b[0m\n",
      "  2%|▏         | 2/92 [00:01<01:23,  1.08it/s]\u001b[32m2025-07-23 17:53:25.823\u001b[0m | \u001b[1mINFO    \u001b[0m | \u001b[36mtrack_gardener.converters.track_array_2_gardener\u001b[0m:\u001b[36mconvert_labeled_frame_to_cells\u001b[0m:\u001b[36m89\u001b[0m - \u001b[1mFound 43 labeled objects at t=2\u001b[0m\n",
      "  3%|▎         | 3/92 [00:02<01:14,  1.20it/s]\u001b[32m2025-07-23 17:53:26.481\u001b[0m | \u001b[1mINFO    \u001b[0m | \u001b[36mtrack_gardener.converters.track_array_2_gardener\u001b[0m:\u001b[36mconvert_labeled_frame_to_cells\u001b[0m:\u001b[36m89\u001b[0m - \u001b[1mFound 46 labeled objects at t=3\u001b[0m\n",
      "  4%|▍         | 4/92 [00:03<01:05,  1.35it/s]\u001b[32m2025-07-23 17:53:27.072\u001b[0m | \u001b[1mINFO    \u001b[0m | \u001b[36mtrack_gardener.converters.track_array_2_gardener\u001b[0m:\u001b[36mconvert_labeled_frame_to_cells\u001b[0m:\u001b[36m89\u001b[0m - \u001b[1mFound 47 labeled objects at t=4\u001b[0m\n",
      "  5%|▌         | 5/92 [00:03<00:58,  1.49it/s]\u001b[32m2025-07-23 17:53:27.620\u001b[0m | \u001b[1mINFO    \u001b[0m | \u001b[36mtrack_gardener.converters.track_array_2_gardener\u001b[0m:\u001b[36mconvert_labeled_frame_to_cells\u001b[0m:\u001b[36m89\u001b[0m - \u001b[1mFound 47 labeled objects at t=5\u001b[0m\n",
      "  7%|▋         | 6/92 [00:04<00:52,  1.64it/s]\u001b[32m2025-07-23 17:53:28.112\u001b[0m | \u001b[1mINFO    \u001b[0m | \u001b[36mtrack_gardener.converters.track_array_2_gardener\u001b[0m:\u001b[36mconvert_labeled_frame_to_cells\u001b[0m:\u001b[36m89\u001b[0m - \u001b[1mFound 48 labeled objects at t=6\u001b[0m\n",
      "  8%|▊         | 7/92 [00:04<00:54,  1.57it/s]\u001b[32m2025-07-23 17:53:28.795\u001b[0m | \u001b[1mINFO    \u001b[0m | \u001b[36mtrack_gardener.converters.track_array_2_gardener\u001b[0m:\u001b[36mconvert_labeled_frame_to_cells\u001b[0m:\u001b[36m89\u001b[0m - \u001b[1mFound 49 labeled objects at t=7\u001b[0m\n",
      "  9%|▊         | 8/92 [00:05<00:52,  1.61it/s]\u001b[32m2025-07-23 17:53:29.449\u001b[0m | \u001b[1mINFO    \u001b[0m | \u001b[36mtrack_gardener.converters.track_array_2_gardener\u001b[0m:\u001b[36mconvert_labeled_frame_to_cells\u001b[0m:\u001b[36m89\u001b[0m - \u001b[1mFound 51 labeled objects at t=8\u001b[0m\n",
      " 10%|▉         | 9/92 [00:06<00:57,  1.44it/s]\u001b[32m2025-07-23 17:53:30.234\u001b[0m | \u001b[1mINFO    \u001b[0m | \u001b[36mtrack_gardener.converters.track_array_2_gardener\u001b[0m:\u001b[36mconvert_labeled_frame_to_cells\u001b[0m:\u001b[36m89\u001b[0m - \u001b[1mFound 51 labeled objects at t=9\u001b[0m\n",
      " 11%|█         | 10/92 [00:06<00:54,  1.51it/s]\u001b[32m2025-07-23 17:53:30.859\u001b[0m | \u001b[1mINFO    \u001b[0m | \u001b[36mtrack_gardener.converters.track_array_2_gardener\u001b[0m:\u001b[36mconvert_labeled_frame_to_cells\u001b[0m:\u001b[36m89\u001b[0m - \u001b[1mFound 54 labeled objects at t=10\u001b[0m\n",
      " 12%|█▏        | 11/92 [00:07<00:56,  1.45it/s]\u001b[32m2025-07-23 17:53:31.630\u001b[0m | \u001b[1mINFO    \u001b[0m | \u001b[36mtrack_gardener.converters.track_array_2_gardener\u001b[0m:\u001b[36mconvert_labeled_frame_to_cells\u001b[0m:\u001b[36m89\u001b[0m - \u001b[1mFound 56 labeled objects at t=11\u001b[0m\n",
      " 13%|█▎        | 12/92 [00:08<00:55,  1.44it/s]\u001b[32m2025-07-23 17:53:32.306\u001b[0m | \u001b[1mINFO    \u001b[0m | \u001b[36mtrack_gardener.converters.track_array_2_gardener\u001b[0m:\u001b[36mconvert_labeled_frame_to_cells\u001b[0m:\u001b[36m89\u001b[0m - \u001b[1mFound 56 labeled objects at t=12\u001b[0m\n",
      " 14%|█▍        | 13/92 [00:09<00:54,  1.45it/s]\u001b[32m2025-07-23 17:53:33.037\u001b[0m | \u001b[1mINFO    \u001b[0m | \u001b[36mtrack_gardener.converters.track_array_2_gardener\u001b[0m:\u001b[36mconvert_labeled_frame_to_cells\u001b[0m:\u001b[36m89\u001b[0m - \u001b[1mFound 59 labeled objects at t=13\u001b[0m\n",
      " 15%|█▌        | 14/92 [00:09<00:59,  1.32it/s]\u001b[32m2025-07-23 17:53:33.890\u001b[0m | \u001b[1mINFO    \u001b[0m | \u001b[36mtrack_gardener.converters.track_array_2_gardener\u001b[0m:\u001b[36mconvert_labeled_frame_to_cells\u001b[0m:\u001b[36m89\u001b[0m - \u001b[1mFound 61 labeled objects at t=14\u001b[0m\n",
      " 16%|█▋        | 15/92 [00:11<01:04,  1.19it/s]\u001b[32m2025-07-23 17:53:34.943\u001b[0m | \u001b[1mINFO    \u001b[0m | \u001b[36mtrack_gardener.converters.track_array_2_gardener\u001b[0m:\u001b[36mconvert_labeled_frame_to_cells\u001b[0m:\u001b[36m89\u001b[0m - \u001b[1mFound 61 labeled objects at t=15\u001b[0m\n",
      " 17%|█▋        | 16/92 [00:11<01:05,  1.16it/s]\u001b[32m2025-07-23 17:53:35.860\u001b[0m | \u001b[1mINFO    \u001b[0m | \u001b[36mtrack_gardener.converters.track_array_2_gardener\u001b[0m:\u001b[36mconvert_labeled_frame_to_cells\u001b[0m:\u001b[36m89\u001b[0m - \u001b[1mFound 62 labeled objects at t=16\u001b[0m\n",
      " 18%|█▊        | 17/92 [00:13<01:09,  1.08it/s]\u001b[32m2025-07-23 17:53:36.987\u001b[0m | \u001b[1mINFO    \u001b[0m | \u001b[36mtrack_gardener.converters.track_array_2_gardener\u001b[0m:\u001b[36mconvert_labeled_frame_to_cells\u001b[0m:\u001b[36m89\u001b[0m - \u001b[1mFound 64 labeled objects at t=17\u001b[0m\n",
      " 20%|█▉        | 18/92 [00:14<01:12,  1.02it/s]\u001b[32m2025-07-23 17:53:38.104\u001b[0m | \u001b[1mINFO    \u001b[0m | \u001b[36mtrack_gardener.converters.track_array_2_gardener\u001b[0m:\u001b[36mconvert_labeled_frame_to_cells\u001b[0m:\u001b[36m89\u001b[0m - \u001b[1mFound 64 labeled objects at t=18\u001b[0m\n",
      " 21%|██        | 19/92 [00:15<01:18,  1.08s/it]\u001b[32m2025-07-23 17:53:39.405\u001b[0m | \u001b[1mINFO    \u001b[0m | \u001b[36mtrack_gardener.converters.track_array_2_gardener\u001b[0m:\u001b[36mconvert_labeled_frame_to_cells\u001b[0m:\u001b[36m89\u001b[0m - \u001b[1mFound 64 labeled objects at t=19\u001b[0m\n",
      " 22%|██▏       | 20/92 [00:16<01:13,  1.03s/it]\u001b[32m2025-07-23 17:53:40.248\u001b[0m | \u001b[1mINFO    \u001b[0m | \u001b[36mtrack_gardener.converters.track_array_2_gardener\u001b[0m:\u001b[36mconvert_labeled_frame_to_cells\u001b[0m:\u001b[36m89\u001b[0m - \u001b[1mFound 64 labeled objects at t=20\u001b[0m\n",
      " 23%|██▎       | 21/92 [00:17<01:06,  1.07it/s]\u001b[32m2025-07-23 17:53:41.006\u001b[0m | \u001b[1mINFO    \u001b[0m | \u001b[36mtrack_gardener.converters.track_array_2_gardener\u001b[0m:\u001b[36mconvert_labeled_frame_to_cells\u001b[0m:\u001b[36m89\u001b[0m - \u001b[1mFound 66 labeled objects at t=21\u001b[0m\n",
      " 24%|██▍       | 22/92 [00:18<01:06,  1.05it/s]\u001b[32m2025-07-23 17:53:42.017\u001b[0m | \u001b[1mINFO    \u001b[0m | \u001b[36mtrack_gardener.converters.track_array_2_gardener\u001b[0m:\u001b[36mconvert_labeled_frame_to_cells\u001b[0m:\u001b[36m89\u001b[0m - \u001b[1mFound 67 labeled objects at t=22\u001b[0m\n",
      " 25%|██▌       | 23/92 [00:19<01:14,  1.09s/it]\u001b[32m2025-07-23 17:53:43.535\u001b[0m | \u001b[1mINFO    \u001b[0m | \u001b[36mtrack_gardener.converters.track_array_2_gardener\u001b[0m:\u001b[36mconvert_labeled_frame_to_cells\u001b[0m:\u001b[36m89\u001b[0m - \u001b[1mFound 70 labeled objects at t=23\u001b[0m\n",
      " 26%|██▌       | 24/92 [00:20<01:11,  1.05s/it]\u001b[32m2025-07-23 17:53:44.329\u001b[0m | \u001b[1mINFO    \u001b[0m | \u001b[36mtrack_gardener.converters.track_array_2_gardener\u001b[0m:\u001b[36mconvert_labeled_frame_to_cells\u001b[0m:\u001b[36m89\u001b[0m - \u001b[1mFound 70 labeled objects at t=24\u001b[0m\n",
      " 27%|██▋       | 25/92 [00:21<01:12,  1.09s/it]\u001b[32m2025-07-23 17:53:45.552\u001b[0m | \u001b[1mINFO    \u001b[0m | \u001b[36mtrack_gardener.converters.track_array_2_gardener\u001b[0m:\u001b[36mconvert_labeled_frame_to_cells\u001b[0m:\u001b[36m89\u001b[0m - \u001b[1mFound 69 labeled objects at t=25\u001b[0m\n",
      " 28%|██▊       | 26/92 [00:22<01:13,  1.11s/it]\u001b[32m2025-07-23 17:53:46.724\u001b[0m | \u001b[1mINFO    \u001b[0m | \u001b[36mtrack_gardener.converters.track_array_2_gardener\u001b[0m:\u001b[36mconvert_labeled_frame_to_cells\u001b[0m:\u001b[36m89\u001b[0m - \u001b[1mFound 70 labeled objects at t=26\u001b[0m\n",
      " 29%|██▉       | 27/92 [00:24<01:16,  1.18s/it]\u001b[32m2025-07-23 17:53:47.984\u001b[0m | \u001b[1mINFO    \u001b[0m | \u001b[36mtrack_gardener.converters.track_array_2_gardener\u001b[0m:\u001b[36mconvert_labeled_frame_to_cells\u001b[0m:\u001b[36m89\u001b[0m - \u001b[1mFound 71 labeled objects at t=27\u001b[0m\n",
      " 30%|███       | 28/92 [00:25<01:11,  1.12s/it]\u001b[32m2025-07-23 17:53:49.003\u001b[0m | \u001b[1mINFO    \u001b[0m | \u001b[36mtrack_gardener.converters.track_array_2_gardener\u001b[0m:\u001b[36mconvert_labeled_frame_to_cells\u001b[0m:\u001b[36m89\u001b[0m - \u001b[1mFound 71 labeled objects at t=28\u001b[0m\n",
      " 32%|███▏      | 29/92 [00:25<01:06,  1.06s/it]\u001b[32m2025-07-23 17:53:49.957\u001b[0m | \u001b[1mINFO    \u001b[0m | \u001b[36mtrack_gardener.converters.track_array_2_gardener\u001b[0m:\u001b[36mconvert_labeled_frame_to_cells\u001b[0m:\u001b[36m89\u001b[0m - \u001b[1mFound 72 labeled objects at t=29\u001b[0m\n",
      " 33%|███▎      | 30/92 [00:27<01:13,  1.18s/it]\u001b[32m2025-07-23 17:53:51.409\u001b[0m | \u001b[1mINFO    \u001b[0m | \u001b[36mtrack_gardener.converters.track_array_2_gardener\u001b[0m:\u001b[36mconvert_labeled_frame_to_cells\u001b[0m:\u001b[36m89\u001b[0m - \u001b[1mFound 71 labeled objects at t=30\u001b[0m\n",
      " 34%|███▎      | 31/92 [00:28<01:05,  1.07s/it]\u001b[32m2025-07-23 17:53:52.175\u001b[0m | \u001b[1mINFO    \u001b[0m | \u001b[36mtrack_gardener.converters.track_array_2_gardener\u001b[0m:\u001b[36mconvert_labeled_frame_to_cells\u001b[0m:\u001b[36m89\u001b[0m - \u001b[1mFound 73 labeled objects at t=31\u001b[0m\n",
      " 35%|███▍      | 32/92 [00:29<01:06,  1.11s/it]\u001b[32m2025-07-23 17:53:53.433\u001b[0m | \u001b[1mINFO    \u001b[0m | \u001b[36mtrack_gardener.converters.track_array_2_gardener\u001b[0m:\u001b[36mconvert_labeled_frame_to_cells\u001b[0m:\u001b[36m89\u001b[0m - \u001b[1mFound 73 labeled objects at t=32\u001b[0m\n",
      " 36%|███▌      | 33/92 [00:30<01:12,  1.23s/it]\u001b[32m2025-07-23 17:53:54.946\u001b[0m | \u001b[1mINFO    \u001b[0m | \u001b[36mtrack_gardener.converters.track_array_2_gardener\u001b[0m:\u001b[36mconvert_labeled_frame_to_cells\u001b[0m:\u001b[36m89\u001b[0m - \u001b[1mFound 74 labeled objects at t=33\u001b[0m\n",
      " 37%|███▋      | 34/92 [00:31<01:05,  1.13s/it]\u001b[32m2025-07-23 17:53:55.790\u001b[0m | \u001b[1mINFO    \u001b[0m | \u001b[36mtrack_gardener.converters.track_array_2_gardener\u001b[0m:\u001b[36mconvert_labeled_frame_to_cells\u001b[0m:\u001b[36m89\u001b[0m - \u001b[1mFound 76 labeled objects at t=34\u001b[0m\n",
      " 38%|███▊      | 35/92 [00:32<01:01,  1.08s/it]\u001b[32m2025-07-23 17:53:56.813\u001b[0m | \u001b[1mINFO    \u001b[0m | \u001b[36mtrack_gardener.converters.track_array_2_gardener\u001b[0m:\u001b[36mconvert_labeled_frame_to_cells\u001b[0m:\u001b[36m89\u001b[0m - \u001b[1mFound 76 labeled objects at t=35\u001b[0m\n",
      " 39%|███▉      | 36/92 [00:34<01:07,  1.21s/it]\u001b[32m2025-07-23 17:53:58.297\u001b[0m | \u001b[1mINFO    \u001b[0m | \u001b[36mtrack_gardener.converters.track_array_2_gardener\u001b[0m:\u001b[36mconvert_labeled_frame_to_cells\u001b[0m:\u001b[36m89\u001b[0m - \u001b[1mFound 78 labeled objects at t=36\u001b[0m\n",
      " 40%|████      | 37/92 [00:35<01:03,  1.16s/it]\u001b[32m2025-07-23 17:53:59.444\u001b[0m | \u001b[1mINFO    \u001b[0m | \u001b[36mtrack_gardener.converters.track_array_2_gardener\u001b[0m:\u001b[36mconvert_labeled_frame_to_cells\u001b[0m:\u001b[36m89\u001b[0m - \u001b[1mFound 75 labeled objects at t=37\u001b[0m\n",
      " 41%|████▏     | 38/92 [00:36<01:06,  1.23s/it]\u001b[32m2025-07-23 17:54:00.744\u001b[0m | \u001b[1mINFO    \u001b[0m | \u001b[36mtrack_gardener.converters.track_array_2_gardener\u001b[0m:\u001b[36mconvert_labeled_frame_to_cells\u001b[0m:\u001b[36m89\u001b[0m - \u001b[1mFound 82 labeled objects at t=38\u001b[0m\n",
      " 42%|████▏     | 39/92 [00:37<01:02,  1.17s/it]\u001b[32m2025-07-23 17:54:01.794\u001b[0m | \u001b[1mINFO    \u001b[0m | \u001b[36mtrack_gardener.converters.track_array_2_gardener\u001b[0m:\u001b[36mconvert_labeled_frame_to_cells\u001b[0m:\u001b[36m89\u001b[0m - \u001b[1mFound 82 labeled objects at t=39\u001b[0m\n",
      " 43%|████▎     | 40/92 [00:39<01:03,  1.21s/it]\u001b[32m2025-07-23 17:54:03.118\u001b[0m | \u001b[1mINFO    \u001b[0m | \u001b[36mtrack_gardener.converters.track_array_2_gardener\u001b[0m:\u001b[36mconvert_labeled_frame_to_cells\u001b[0m:\u001b[36m89\u001b[0m - \u001b[1mFound 85 labeled objects at t=40\u001b[0m\n",
      " 45%|████▍     | 41/92 [00:40<01:06,  1.30s/it]\u001b[32m2025-07-23 17:54:04.604\u001b[0m | \u001b[1mINFO    \u001b[0m | \u001b[36mtrack_gardener.converters.track_array_2_gardener\u001b[0m:\u001b[36mconvert_labeled_frame_to_cells\u001b[0m:\u001b[36m89\u001b[0m - \u001b[1mFound 87 labeled objects at t=41\u001b[0m\n",
      " 46%|████▌     | 42/92 [00:41<01:01,  1.23s/it]\u001b[32m2025-07-23 17:54:05.655\u001b[0m | \u001b[1mINFO    \u001b[0m | \u001b[36mtrack_gardener.converters.track_array_2_gardener\u001b[0m:\u001b[36mconvert_labeled_frame_to_cells\u001b[0m:\u001b[36m89\u001b[0m - \u001b[1mFound 91 labeled objects at t=42\u001b[0m\n",
      " 47%|████▋     | 43/92 [00:43<01:03,  1.29s/it]\u001b[32m2025-07-23 17:54:07.110\u001b[0m | \u001b[1mINFO    \u001b[0m | \u001b[36mtrack_gardener.converters.track_array_2_gardener\u001b[0m:\u001b[36mconvert_labeled_frame_to_cells\u001b[0m:\u001b[36m89\u001b[0m - \u001b[1mFound 95 labeled objects at t=43\u001b[0m\n",
      " 48%|████▊     | 44/92 [00:44<01:06,  1.39s/it]\u001b[32m2025-07-23 17:54:08.661\u001b[0m | \u001b[1mINFO    \u001b[0m | \u001b[36mtrack_gardener.converters.track_array_2_gardener\u001b[0m:\u001b[36mconvert_labeled_frame_to_cells\u001b[0m:\u001b[36m89\u001b[0m - \u001b[1mFound 96 labeled objects at t=44\u001b[0m\n",
      " 49%|████▉     | 45/92 [00:46<01:04,  1.36s/it]\u001b[32m2025-07-23 17:54:10.021\u001b[0m | \u001b[1mINFO    \u001b[0m | \u001b[36mtrack_gardener.converters.track_array_2_gardener\u001b[0m:\u001b[36mconvert_labeled_frame_to_cells\u001b[0m:\u001b[36m89\u001b[0m - \u001b[1mFound 98 labeled objects at t=45\u001b[0m\n",
      " 50%|█████     | 46/92 [00:47<01:05,  1.43s/it]\u001b[32m2025-07-23 17:54:11.573\u001b[0m | \u001b[1mINFO    \u001b[0m | \u001b[36mtrack_gardener.converters.track_array_2_gardener\u001b[0m:\u001b[36mconvert_labeled_frame_to_cells\u001b[0m:\u001b[36m89\u001b[0m - \u001b[1mFound 99 labeled objects at t=46\u001b[0m\n",
      " 51%|█████     | 47/92 [00:48<01:01,  1.36s/it]\u001b[32m2025-07-23 17:54:12.809\u001b[0m | \u001b[1mINFO    \u001b[0m | \u001b[36mtrack_gardener.converters.track_array_2_gardener\u001b[0m:\u001b[36mconvert_labeled_frame_to_cells\u001b[0m:\u001b[36m89\u001b[0m - \u001b[1mFound 100 labeled objects at t=47\u001b[0m\n",
      " 52%|█████▏    | 48/92 [00:50<01:05,  1.49s/it]\u001b[32m2025-07-23 17:54:14.544\u001b[0m | \u001b[1mINFO    \u001b[0m | \u001b[36mtrack_gardener.converters.track_array_2_gardener\u001b[0m:\u001b[36mconvert_labeled_frame_to_cells\u001b[0m:\u001b[36m89\u001b[0m - \u001b[1mFound 102 labeled objects at t=48\u001b[0m\n",
      " 53%|█████▎    | 49/92 [00:52<01:03,  1.49s/it]\u001b[32m2025-07-23 17:54:16.008\u001b[0m | \u001b[1mINFO    \u001b[0m | \u001b[36mtrack_gardener.converters.track_array_2_gardener\u001b[0m:\u001b[36mconvert_labeled_frame_to_cells\u001b[0m:\u001b[36m89\u001b[0m - \u001b[1mFound 106 labeled objects at t=49\u001b[0m\n",
      " 54%|█████▍    | 50/92 [00:53<01:05,  1.56s/it]\u001b[32m2025-07-23 17:54:17.762\u001b[0m | \u001b[1mINFO    \u001b[0m | \u001b[36mtrack_gardener.converters.track_array_2_gardener\u001b[0m:\u001b[36mconvert_labeled_frame_to_cells\u001b[0m:\u001b[36m89\u001b[0m - \u001b[1mFound 109 labeled objects at t=50\u001b[0m\n",
      " 55%|█████▌    | 51/92 [00:55<01:04,  1.58s/it]\u001b[32m2025-07-23 17:54:19.424\u001b[0m | \u001b[1mINFO    \u001b[0m | \u001b[36mtrack_gardener.converters.track_array_2_gardener\u001b[0m:\u001b[36mconvert_labeled_frame_to_cells\u001b[0m:\u001b[36m89\u001b[0m - \u001b[1mFound 109 labeled objects at t=51\u001b[0m\n",
      " 57%|█████▋    | 52/92 [00:57<01:04,  1.61s/it]\u001b[32m2025-07-23 17:54:21.069\u001b[0m | \u001b[1mINFO    \u001b[0m | \u001b[36mtrack_gardener.converters.track_array_2_gardener\u001b[0m:\u001b[36mconvert_labeled_frame_to_cells\u001b[0m:\u001b[36m89\u001b[0m - \u001b[1mFound 113 labeled objects at t=52\u001b[0m\n",
      " 58%|█████▊    | 53/92 [00:58<01:02,  1.61s/it]\u001b[32m2025-07-23 17:54:22.732\u001b[0m | \u001b[1mINFO    \u001b[0m | \u001b[36mtrack_gardener.converters.track_array_2_gardener\u001b[0m:\u001b[36mconvert_labeled_frame_to_cells\u001b[0m:\u001b[36m89\u001b[0m - \u001b[1mFound 111 labeled objects at t=53\u001b[0m\n",
      " 59%|█████▊    | 54/92 [01:00<01:03,  1.67s/it]\u001b[32m2025-07-23 17:54:24.478\u001b[0m | \u001b[1mINFO    \u001b[0m | \u001b[36mtrack_gardener.converters.track_array_2_gardener\u001b[0m:\u001b[36mconvert_labeled_frame_to_cells\u001b[0m:\u001b[36m89\u001b[0m - \u001b[1mFound 112 labeled objects at t=54\u001b[0m\n",
      " 60%|█████▉    | 55/92 [01:02<00:59,  1.61s/it]\u001b[32m2025-07-23 17:54:25.979\u001b[0m | \u001b[1mINFO    \u001b[0m | \u001b[36mtrack_gardener.converters.track_array_2_gardener\u001b[0m:\u001b[36mconvert_labeled_frame_to_cells\u001b[0m:\u001b[36m89\u001b[0m - \u001b[1mFound 111 labeled objects at t=55\u001b[0m\n",
      " 61%|██████    | 56/92 [01:03<01:01,  1.71s/it]\u001b[32m2025-07-23 17:54:27.875\u001b[0m | \u001b[1mINFO    \u001b[0m | \u001b[36mtrack_gardener.converters.track_array_2_gardener\u001b[0m:\u001b[36mconvert_labeled_frame_to_cells\u001b[0m:\u001b[36m89\u001b[0m - \u001b[1mFound 113 labeled objects at t=56\u001b[0m\n",
      " 62%|██████▏   | 57/92 [01:05<00:56,  1.61s/it]\u001b[32m2025-07-23 17:54:29.325\u001b[0m | \u001b[1mINFO    \u001b[0m | \u001b[36mtrack_gardener.converters.track_array_2_gardener\u001b[0m:\u001b[36mconvert_labeled_frame_to_cells\u001b[0m:\u001b[36m89\u001b[0m - \u001b[1mFound 115 labeled objects at t=57\u001b[0m\n",
      " 63%|██████▎   | 58/92 [01:07<00:57,  1.70s/it]\u001b[32m2025-07-23 17:54:31.241\u001b[0m | \u001b[1mINFO    \u001b[0m | \u001b[36mtrack_gardener.converters.track_array_2_gardener\u001b[0m:\u001b[36mconvert_labeled_frame_to_cells\u001b[0m:\u001b[36m89\u001b[0m - \u001b[1mFound 116 labeled objects at t=58\u001b[0m\n",
      " 64%|██████▍   | 59/92 [01:09<00:56,  1.73s/it]\u001b[32m2025-07-23 17:54:33.033\u001b[0m | \u001b[1mINFO    \u001b[0m | \u001b[36mtrack_gardener.converters.track_array_2_gardener\u001b[0m:\u001b[36mconvert_labeled_frame_to_cells\u001b[0m:\u001b[36m89\u001b[0m - \u001b[1mFound 116 labeled objects at t=59\u001b[0m\n",
      " 65%|██████▌   | 60/92 [01:10<00:57,  1.79s/it]\u001b[32m2025-07-23 17:54:34.957\u001b[0m | \u001b[1mINFO    \u001b[0m | \u001b[36mtrack_gardener.converters.track_array_2_gardener\u001b[0m:\u001b[36mconvert_labeled_frame_to_cells\u001b[0m:\u001b[36m89\u001b[0m - \u001b[1mFound 115 labeled objects at t=60\u001b[0m\n",
      " 66%|██████▋   | 61/92 [01:12<00:55,  1.79s/it]\u001b[32m2025-07-23 17:54:36.718\u001b[0m | \u001b[1mINFO    \u001b[0m | \u001b[36mtrack_gardener.converters.track_array_2_gardener\u001b[0m:\u001b[36mconvert_labeled_frame_to_cells\u001b[0m:\u001b[36m89\u001b[0m - \u001b[1mFound 116 labeled objects at t=61\u001b[0m\n",
      " 67%|██████▋   | 62/92 [01:14<00:54,  1.83s/it]\u001b[32m2025-07-23 17:54:38.635\u001b[0m | \u001b[1mINFO    \u001b[0m | \u001b[36mtrack_gardener.converters.track_array_2_gardener\u001b[0m:\u001b[36mconvert_labeled_frame_to_cells\u001b[0m:\u001b[36m89\u001b[0m - \u001b[1mFound 116 labeled objects at t=62\u001b[0m\n",
      " 68%|██████▊   | 63/92 [01:16<00:52,  1.82s/it]\u001b[32m2025-07-23 17:54:40.435\u001b[0m | \u001b[1mINFO    \u001b[0m | \u001b[36mtrack_gardener.converters.track_array_2_gardener\u001b[0m:\u001b[36mconvert_labeled_frame_to_cells\u001b[0m:\u001b[36m89\u001b[0m - \u001b[1mFound 117 labeled objects at t=63\u001b[0m\n",
      " 70%|██████▉   | 64/92 [01:18<00:51,  1.85s/it]\u001b[32m2025-07-23 17:54:42.383\u001b[0m | \u001b[1mINFO    \u001b[0m | \u001b[36mtrack_gardener.converters.track_array_2_gardener\u001b[0m:\u001b[36mconvert_labeled_frame_to_cells\u001b[0m:\u001b[36m89\u001b[0m - \u001b[1mFound 118 labeled objects at t=64\u001b[0m\n",
      " 71%|███████   | 65/92 [01:20<00:50,  1.88s/it]\u001b[32m2025-07-23 17:54:44.360\u001b[0m | \u001b[1mINFO    \u001b[0m | \u001b[36mtrack_gardener.converters.track_array_2_gardener\u001b[0m:\u001b[36mconvert_labeled_frame_to_cells\u001b[0m:\u001b[36m89\u001b[0m - \u001b[1mFound 120 labeled objects at t=65\u001b[0m\n",
      " 72%|███████▏  | 66/92 [01:22<00:49,  1.89s/it]\u001b[32m2025-07-23 17:54:46.271\u001b[0m | \u001b[1mINFO    \u001b[0m | \u001b[36mtrack_gardener.converters.track_array_2_gardener\u001b[0m:\u001b[36mconvert_labeled_frame_to_cells\u001b[0m:\u001b[36m89\u001b[0m - \u001b[1mFound 120 labeled objects at t=66\u001b[0m\n",
      " 73%|███████▎  | 67/92 [01:24<00:47,  1.91s/it]\u001b[32m2025-07-23 17:54:48.145\u001b[0m | \u001b[1mINFO    \u001b[0m | \u001b[36mtrack_gardener.converters.track_array_2_gardener\u001b[0m:\u001b[36mconvert_labeled_frame_to_cells\u001b[0m:\u001b[36m89\u001b[0m - \u001b[1mFound 121 labeled objects at t=67\u001b[0m\n",
      " 74%|███████▍  | 68/92 [01:25<00:44,  1.86s/it]\u001b[32m2025-07-23 17:54:49.911\u001b[0m | \u001b[1mINFO    \u001b[0m | \u001b[36mtrack_gardener.converters.track_array_2_gardener\u001b[0m:\u001b[36mconvert_labeled_frame_to_cells\u001b[0m:\u001b[36m89\u001b[0m - \u001b[1mFound 121 labeled objects at t=68\u001b[0m\n",
      " 75%|███████▌  | 69/92 [01:27<00:43,  1.89s/it]\u001b[32m2025-07-23 17:54:51.895\u001b[0m | \u001b[1mINFO    \u001b[0m | \u001b[36mtrack_gardener.converters.track_array_2_gardener\u001b[0m:\u001b[36mconvert_labeled_frame_to_cells\u001b[0m:\u001b[36m89\u001b[0m - \u001b[1mFound 121 labeled objects at t=69\u001b[0m\n",
      " 76%|███████▌  | 70/92 [01:29<00:41,  1.88s/it]\u001b[32m2025-07-23 17:54:53.716\u001b[0m | \u001b[1mINFO    \u001b[0m | \u001b[36mtrack_gardener.converters.track_array_2_gardener\u001b[0m:\u001b[36mconvert_labeled_frame_to_cells\u001b[0m:\u001b[36m89\u001b[0m - \u001b[1mFound 122 labeled objects at t=70\u001b[0m\n",
      " 77%|███████▋  | 71/92 [01:31<00:39,  1.90s/it]\u001b[32m2025-07-23 17:54:55.709\u001b[0m | \u001b[1mINFO    \u001b[0m | \u001b[36mtrack_gardener.converters.track_array_2_gardener\u001b[0m:\u001b[36mconvert_labeled_frame_to_cells\u001b[0m:\u001b[36m89\u001b[0m - \u001b[1mFound 122 labeled objects at t=71\u001b[0m\n",
      " 78%|███████▊  | 72/92 [01:33<00:36,  1.85s/it]\u001b[32m2025-07-23 17:54:57.378\u001b[0m | \u001b[1mINFO    \u001b[0m | \u001b[36mtrack_gardener.converters.track_array_2_gardener\u001b[0m:\u001b[36mconvert_labeled_frame_to_cells\u001b[0m:\u001b[36m89\u001b[0m - \u001b[1mFound 122 labeled objects at t=72\u001b[0m\n",
      " 79%|███████▉  | 73/92 [01:35<00:35,  1.88s/it]\u001b[32m2025-07-23 17:54:59.385\u001b[0m | \u001b[1mINFO    \u001b[0m | \u001b[36mtrack_gardener.converters.track_array_2_gardener\u001b[0m:\u001b[36mconvert_labeled_frame_to_cells\u001b[0m:\u001b[36m89\u001b[0m - \u001b[1mFound 122 labeled objects at t=73\u001b[0m\n",
      " 80%|████████  | 74/92 [01:37<00:33,  1.85s/it]\u001b[32m2025-07-23 17:55:01.089\u001b[0m | \u001b[1mINFO    \u001b[0m | \u001b[36mtrack_gardener.converters.track_array_2_gardener\u001b[0m:\u001b[36mconvert_labeled_frame_to_cells\u001b[0m:\u001b[36m89\u001b[0m - \u001b[1mFound 122 labeled objects at t=74\u001b[0m\n",
      " 82%|████████▏ | 75/92 [01:38<00:30,  1.82s/it]\u001b[32m2025-07-23 17:55:02.918\u001b[0m | \u001b[1mINFO    \u001b[0m | \u001b[36mtrack_gardener.converters.track_array_2_gardener\u001b[0m:\u001b[36mconvert_labeled_frame_to_cells\u001b[0m:\u001b[36m89\u001b[0m - \u001b[1mFound 123 labeled objects at t=75\u001b[0m\n",
      " 83%|████████▎ | 76/92 [01:41<00:30,  1.89s/it]\u001b[32m2025-07-23 17:55:04.946\u001b[0m | \u001b[1mINFO    \u001b[0m | \u001b[36mtrack_gardener.converters.track_array_2_gardener\u001b[0m:\u001b[36mconvert_labeled_frame_to_cells\u001b[0m:\u001b[36m89\u001b[0m - \u001b[1mFound 125 labeled objects at t=76\u001b[0m\n",
      " 84%|████████▎ | 77/92 [01:43<00:29,  1.97s/it]\u001b[32m2025-07-23 17:55:07.119\u001b[0m | \u001b[1mINFO    \u001b[0m | \u001b[36mtrack_gardener.converters.track_array_2_gardener\u001b[0m:\u001b[36mconvert_labeled_frame_to_cells\u001b[0m:\u001b[36m89\u001b[0m - \u001b[1mFound 124 labeled objects at t=77\u001b[0m\n",
      " 85%|████████▍ | 78/92 [01:45<00:27,  2.00s/it]\u001b[32m2025-07-23 17:55:09.175\u001b[0m | \u001b[1mINFO    \u001b[0m | \u001b[36mtrack_gardener.converters.track_array_2_gardener\u001b[0m:\u001b[36mconvert_labeled_frame_to_cells\u001b[0m:\u001b[36m89\u001b[0m - \u001b[1mFound 126 labeled objects at t=78\u001b[0m\n",
      " 86%|████████▌ | 79/92 [01:47<00:26,  2.06s/it]\u001b[32m2025-07-23 17:55:11.374\u001b[0m | \u001b[1mINFO    \u001b[0m | \u001b[36mtrack_gardener.converters.track_array_2_gardener\u001b[0m:\u001b[36mconvert_labeled_frame_to_cells\u001b[0m:\u001b[36m89\u001b[0m - \u001b[1mFound 126 labeled objects at t=79\u001b[0m\n",
      " 87%|████████▋ | 80/92 [01:49<00:23,  1.98s/it]\u001b[32m2025-07-23 17:55:13.159\u001b[0m | \u001b[1mINFO    \u001b[0m | \u001b[36mtrack_gardener.converters.track_array_2_gardener\u001b[0m:\u001b[36mconvert_labeled_frame_to_cells\u001b[0m:\u001b[36m89\u001b[0m - \u001b[1mFound 128 labeled objects at t=80\u001b[0m\n",
      " 88%|████████▊ | 81/92 [01:51<00:21,  1.96s/it]\u001b[32m2025-07-23 17:55:15.041\u001b[0m | \u001b[1mINFO    \u001b[0m | \u001b[36mtrack_gardener.converters.track_array_2_gardener\u001b[0m:\u001b[36mconvert_labeled_frame_to_cells\u001b[0m:\u001b[36m89\u001b[0m - \u001b[1mFound 127 labeled objects at t=81\u001b[0m\n",
      " 89%|████████▉ | 82/92 [01:53<00:19,  1.94s/it]\u001b[32m2025-07-23 17:55:16.919\u001b[0m | \u001b[1mINFO    \u001b[0m | \u001b[36mtrack_gardener.converters.track_array_2_gardener\u001b[0m:\u001b[36mconvert_labeled_frame_to_cells\u001b[0m:\u001b[36m89\u001b[0m - \u001b[1mFound 129 labeled objects at t=82\u001b[0m\n",
      " 90%|█████████ | 83/92 [01:54<00:16,  1.82s/it]\u001b[32m2025-07-23 17:55:18.570\u001b[0m | \u001b[1mINFO    \u001b[0m | \u001b[36mtrack_gardener.converters.track_array_2_gardener\u001b[0m:\u001b[36mconvert_labeled_frame_to_cells\u001b[0m:\u001b[36m89\u001b[0m - \u001b[1mFound 130 labeled objects at t=83\u001b[0m\n",
      " 91%|█████████▏| 84/92 [01:56<00:15,  1.93s/it]\u001b[32m2025-07-23 17:55:20.718\u001b[0m | \u001b[1mINFO    \u001b[0m | \u001b[36mtrack_gardener.converters.track_array_2_gardener\u001b[0m:\u001b[36mconvert_labeled_frame_to_cells\u001b[0m:\u001b[36m89\u001b[0m - \u001b[1mFound 130 labeled objects at t=84\u001b[0m\n",
      " 92%|█████████▏| 85/92 [01:58<00:13,  1.90s/it]\u001b[32m2025-07-23 17:55:22.495\u001b[0m | \u001b[1mINFO    \u001b[0m | \u001b[36mtrack_gardener.converters.track_array_2_gardener\u001b[0m:\u001b[36mconvert_labeled_frame_to_cells\u001b[0m:\u001b[36m89\u001b[0m - \u001b[1mFound 132 labeled objects at t=85\u001b[0m\n",
      " 93%|█████████▎| 86/92 [02:00<00:11,  1.98s/it]\u001b[32m2025-07-23 17:55:24.714\u001b[0m | \u001b[1mINFO    \u001b[0m | \u001b[36mtrack_gardener.converters.track_array_2_gardener\u001b[0m:\u001b[36mconvert_labeled_frame_to_cells\u001b[0m:\u001b[36m89\u001b[0m - \u001b[1mFound 134 labeled objects at t=86\u001b[0m\n",
      " 95%|█████████▍| 87/92 [02:02<00:09,  1.98s/it]\u001b[32m2025-07-23 17:55:26.700\u001b[0m | \u001b[1mINFO    \u001b[0m | \u001b[36mtrack_gardener.converters.track_array_2_gardener\u001b[0m:\u001b[36mconvert_labeled_frame_to_cells\u001b[0m:\u001b[36m89\u001b[0m - \u001b[1mFound 134 labeled objects at t=87\u001b[0m\n",
      " 96%|█████████▌| 88/92 [02:05<00:08,  2.08s/it]\u001b[32m2025-07-23 17:55:28.964\u001b[0m | \u001b[1mINFO    \u001b[0m | \u001b[36mtrack_gardener.converters.track_array_2_gardener\u001b[0m:\u001b[36mconvert_labeled_frame_to_cells\u001b[0m:\u001b[36m89\u001b[0m - \u001b[1mFound 134 labeled objects at t=88\u001b[0m\n",
      " 97%|█████████▋| 89/92 [02:07<00:06,  2.07s/it]\u001b[32m2025-07-23 17:55:31.073\u001b[0m | \u001b[1mINFO    \u001b[0m | \u001b[36mtrack_gardener.converters.track_array_2_gardener\u001b[0m:\u001b[36mconvert_labeled_frame_to_cells\u001b[0m:\u001b[36m89\u001b[0m - \u001b[1mFound 133 labeled objects at t=89\u001b[0m\n",
      " 98%|█████████▊| 90/92 [02:09<00:04,  2.10s/it]\u001b[32m2025-07-23 17:55:33.150\u001b[0m | \u001b[1mINFO    \u001b[0m | \u001b[36mtrack_gardener.converters.track_array_2_gardener\u001b[0m:\u001b[36mconvert_labeled_frame_to_cells\u001b[0m:\u001b[36m89\u001b[0m - \u001b[1mFound 133 labeled objects at t=90\u001b[0m\n",
      " 99%|█████████▉| 91/92 [02:11<00:02,  2.11s/it]\u001b[32m2025-07-23 17:55:35.351\u001b[0m | \u001b[1mINFO    \u001b[0m | \u001b[36mtrack_gardener.converters.track_array_2_gardener\u001b[0m:\u001b[36mconvert_labeled_frame_to_cells\u001b[0m:\u001b[36m89\u001b[0m - \u001b[1mFound 136 labeled objects at t=91\u001b[0m\n",
      "100%|██████████| 92/92 [02:13<00:00,  1.45s/it]\n"
     ]
    }
   ],
   "source": [
    "segm_geff_to_db(segm_array, config, geff_group_path)"
   ]
  },
  {
   "cell_type": "code",
   "execution_count": null,
   "id": "00a87d52",
   "metadata": {},
   "outputs": [],
   "source": []
  }
 ],
 "metadata": {
  "kernelspec": {
   "display_name": "gardener-env2",
   "language": "python",
   "name": "python3"
  },
  "language_info": {
   "codemirror_mode": {
    "name": "ipython",
    "version": 3
   },
   "file_extension": ".py",
   "mimetype": "text/x-python",
   "name": "python",
   "nbconvert_exporter": "python",
   "pygments_lexer": "ipython3",
   "version": "3.11.13"
  }
 },
 "nbformat": 4,
 "nbformat_minor": 5
}
