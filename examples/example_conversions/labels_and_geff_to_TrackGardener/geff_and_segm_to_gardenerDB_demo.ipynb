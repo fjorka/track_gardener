{
 "cells": [
  {
   "cell_type": "markdown",
   "id": "6a040596",
   "metadata": {},
   "source": [
    "## Example: Converting a Segmentation Stack + geff for Use with TrackGardener"
   ]
  },
  {
   "cell_type": "markdown",
   "id": "ec40a7a8",
   "metadata": {},
   "source": [
    "This notebook provides a practical example of converting a segmentation stack and [geff](https://github.com/live-image-tracking-tools/geff) to a TrackGardener database using the configuration file `Fluo-N2DL-HeLa-01_config_geff.yaml`.\n",
    "\n",
    "In this workflow, the segmentation stack provides the exact segmentation masks, while the geff file supplies only the graph structure. We assume that the geff file specifies both `t` and `segm_id` for each entry. We verify that, in the segmentation array (labeled stack), there is an object at frame t labeled with the value segm_id. For details on additional tests, please refer to the documentation.\n",
    "\n",
    "All signals are calculated as specified in the config file. Please note that this process may take a significant amount of time for large datasets.\n",
    "\n",
    "You can reuse the configuration file demonstrated here with the TrackGardener plugin itself. Just be sure to specify the correct paths to your imaging dataset and the TrackGardener database within the config file. Using absolute (rather than relative as for the purpose of this example) paths is the safest choice to ensure your files are correctly located."
   ]
  },
  {
   "cell_type": "code",
   "execution_count": 1,
   "id": "0fed07f9",
   "metadata": {},
   "outputs": [],
   "source": [
    "import dask.array as da\n",
    "import yaml\n",
    "\n",
    "from track_gardener.converters.geff_2_gardener import segm_geff_to_db\n",
    "from track_gardener.converters.validator_seg_id import validate_geff_seg_ids"
   ]
  },
  {
   "cell_type": "code",
   "execution_count": null,
   "id": "41cf5380",
   "metadata": {},
   "outputs": [],
   "source": [
    "geff_group_path = \"Fluo-N2DL-HeLa-01_sample.geff\"\n",
    "segmentation_path = \"Fluo-N2DL-HeLa-01_segm_random.zarr/labels\"\n",
    "config_path = 'Fluo-N2DL-HeLa-01_config_geff.yaml'"
   ]
  },
  {
   "cell_type": "code",
   "execution_count": 3,
   "id": "16be17e7",
   "metadata": {},
   "outputs": [
    {
     "name": "stderr",
     "output_type": "stream",
     "text": [
      "\u001b[32m2025-07-25 11:12:21.269\u001b[0m | \u001b[1mINFO    \u001b[0m | \u001b[36mtrack_gardener.converters.validator_seg_id\u001b[0m:\u001b[36mvalidate_geff_seg_ids\u001b[0m:\u001b[36m31\u001b[0m - \u001b[1mOpening GEFF group from: Fluo-N2DL-HeLa-01_sample.geff\u001b[0m\n",
      "\u001b[32m2025-07-25 11:12:21.334\u001b[0m | \u001b[1mINFO    \u001b[0m | \u001b[36mtrack_gardener.converters.validator_seg_id\u001b[0m:\u001b[36mvalidate_geff_seg_ids\u001b[0m:\u001b[36m52\u001b[0m - \u001b[1mBeginning node validation...\u001b[0m\n",
      "\u001b[32m2025-07-25 11:12:22.468\u001b[0m | \u001b[1mINFO    \u001b[0m | \u001b[36mtrack_gardener.converters.validator_seg_id\u001b[0m:\u001b[36mvalidate_geff_seg_ids\u001b[0m:\u001b[36m93\u001b[0m - \u001b[1mChecking for extra segmentations not referenced in GEFF...\u001b[0m\n",
      "\u001b[32m2025-07-25 11:12:22.746\u001b[0m | \u001b[32m\u001b[1mSUCCESS \u001b[0m | \u001b[36mtrack_gardener.converters.validator_seg_id\u001b[0m:\u001b[36mvalidate_geff_seg_ids\u001b[0m:\u001b[36m112\u001b[0m - \u001b[32m\u001b[1mAll validations passed successfully.\u001b[0m\n"
     ]
    },
    {
     "name": "stdout",
     "output_type": "stream",
     "text": [
      "Test passed: True, details: {'node_issues': [], 'extra_segments': {}}.\n"
     ]
    }
   ],
   "source": [
    "p, details = validate_geff_seg_ids(\n",
    "    geff_group_path = geff_group_path,\n",
    "    segmentation_path = segmentation_path,\n",
    "    seg_id_field = \"segm_id\",\n",
    "    check_xy_position = True,\n",
    "    check_extra_segmentations = True)\n",
    "\n",
    "print(f'Test passed: {p}, details: {details}.')"
   ]
  },
  {
   "cell_type": "code",
   "execution_count": 4,
   "id": "a73d1a8d",
   "metadata": {},
   "outputs": [],
   "source": [
    "# read in configuration file\n",
    "with open(config_path) as file:\n",
    "    config = yaml.safe_load(file)\n",
    "\n",
    "# get segmentation array\n",
    "segm_array = da.from_zarr(segmentation_path)"
   ]
  },
  {
   "cell_type": "code",
   "execution_count": 5,
   "id": "1a383b52",
   "metadata": {},
   "outputs": [
    {
     "name": "stderr",
     "output_type": "stream",
     "text": [
      "  0%|          | 0/45 [00:00<?, ?it/s]\u001b[32m2025-07-25 11:12:29.753\u001b[0m | \u001b[1mINFO    \u001b[0m | \u001b[36mtrack_gardener.converters.track_array_2_gardener\u001b[0m:\u001b[36mconvert_labeled_frame_to_cells\u001b[0m:\u001b[36m89\u001b[0m - \u001b[1mFound 2 labeled objects at t=0\u001b[0m\n",
      "\u001b[32m2025-07-25 11:12:29.800\u001b[0m | \u001b[1mINFO    \u001b[0m | \u001b[36mtrack_gardener.converters.track_array_2_gardener\u001b[0m:\u001b[36mconvert_labeled_frame_to_cells\u001b[0m:\u001b[36m89\u001b[0m - \u001b[1mFound 2 labeled objects at t=1\u001b[0m\n",
      "  4%|▍         | 2/45 [00:00<00:02, 19.23it/s]\u001b[32m2025-07-25 11:12:29.871\u001b[0m | \u001b[1mINFO    \u001b[0m | \u001b[36mtrack_gardener.converters.track_array_2_gardener\u001b[0m:\u001b[36mconvert_labeled_frame_to_cells\u001b[0m:\u001b[36m89\u001b[0m - \u001b[1mFound 2 labeled objects at t=2\u001b[0m\n",
      "\u001b[32m2025-07-25 11:12:29.944\u001b[0m | \u001b[1mINFO    \u001b[0m | \u001b[36mtrack_gardener.converters.track_array_2_gardener\u001b[0m:\u001b[36mconvert_labeled_frame_to_cells\u001b[0m:\u001b[36m89\u001b[0m - \u001b[1mFound 3 labeled objects at t=3\u001b[0m\n",
      "  9%|▉         | 4/45 [00:00<00:02, 14.95it/s]\u001b[32m2025-07-25 11:12:30.023\u001b[0m | \u001b[1mINFO    \u001b[0m | \u001b[36mtrack_gardener.converters.track_array_2_gardener\u001b[0m:\u001b[36mconvert_labeled_frame_to_cells\u001b[0m:\u001b[36m89\u001b[0m - \u001b[1mFound 3 labeled objects at t=4\u001b[0m\n",
      "\u001b[32m2025-07-25 11:12:30.108\u001b[0m | \u001b[1mINFO    \u001b[0m | \u001b[36mtrack_gardener.converters.track_array_2_gardener\u001b[0m:\u001b[36mconvert_labeled_frame_to_cells\u001b[0m:\u001b[36m89\u001b[0m - \u001b[1mFound 3 labeled objects at t=5\u001b[0m\n",
      " 13%|█▎        | 6/45 [00:00<00:02, 13.23it/s]\u001b[32m2025-07-25 11:12:30.197\u001b[0m | \u001b[1mINFO    \u001b[0m | \u001b[36mtrack_gardener.converters.track_array_2_gardener\u001b[0m:\u001b[36mconvert_labeled_frame_to_cells\u001b[0m:\u001b[36m89\u001b[0m - \u001b[1mFound 4 labeled objects at t=6\u001b[0m\n",
      "\u001b[32m2025-07-25 11:12:30.289\u001b[0m | \u001b[1mINFO    \u001b[0m | \u001b[36mtrack_gardener.converters.track_array_2_gardener\u001b[0m:\u001b[36mconvert_labeled_frame_to_cells\u001b[0m:\u001b[36m89\u001b[0m - \u001b[1mFound 4 labeled objects at t=7\u001b[0m\n",
      " 18%|█▊        | 8/45 [00:00<00:03, 12.15it/s]\u001b[32m2025-07-25 11:12:30.382\u001b[0m | \u001b[1mINFO    \u001b[0m | \u001b[36mtrack_gardener.converters.track_array_2_gardener\u001b[0m:\u001b[36mconvert_labeled_frame_to_cells\u001b[0m:\u001b[36m89\u001b[0m - \u001b[1mFound 4 labeled objects at t=8\u001b[0m\n",
      "\u001b[32m2025-07-25 11:12:30.481\u001b[0m | \u001b[1mINFO    \u001b[0m | \u001b[36mtrack_gardener.converters.track_array_2_gardener\u001b[0m:\u001b[36mconvert_labeled_frame_to_cells\u001b[0m:\u001b[36m89\u001b[0m - \u001b[1mFound 4 labeled objects at t=9\u001b[0m\n",
      " 22%|██▏       | 10/45 [00:00<00:03, 11.29it/s]\u001b[32m2025-07-25 11:12:30.582\u001b[0m | \u001b[1mINFO    \u001b[0m | \u001b[36mtrack_gardener.converters.track_array_2_gardener\u001b[0m:\u001b[36mconvert_labeled_frame_to_cells\u001b[0m:\u001b[36m89\u001b[0m - \u001b[1mFound 4 labeled objects at t=10\u001b[0m\n",
      "\u001b[32m2025-07-25 11:12:30.771\u001b[0m | \u001b[1mINFO    \u001b[0m | \u001b[36mtrack_gardener.converters.track_array_2_gardener\u001b[0m:\u001b[36mconvert_labeled_frame_to_cells\u001b[0m:\u001b[36m89\u001b[0m - \u001b[1mFound 4 labeled objects at t=11\u001b[0m\n",
      " 27%|██▋       | 12/45 [00:01<00:03,  9.54it/s]\u001b[32m2025-07-25 11:12:30.847\u001b[0m | \u001b[1mINFO    \u001b[0m | \u001b[36mtrack_gardener.converters.track_array_2_gardener\u001b[0m:\u001b[36mconvert_labeled_frame_to_cells\u001b[0m:\u001b[36m89\u001b[0m - \u001b[1mFound 4 labeled objects at t=12\u001b[0m\n",
      "\u001b[32m2025-07-25 11:12:30.942\u001b[0m | \u001b[1mINFO    \u001b[0m | \u001b[36mtrack_gardener.converters.track_array_2_gardener\u001b[0m:\u001b[36mconvert_labeled_frame_to_cells\u001b[0m:\u001b[36m89\u001b[0m - \u001b[1mFound 4 labeled objects at t=13\u001b[0m\n",
      " 31%|███       | 14/45 [00:01<00:03, 10.31it/s]\u001b[32m2025-07-25 11:12:31.009\u001b[0m | \u001b[1mINFO    \u001b[0m | \u001b[36mtrack_gardener.converters.track_array_2_gardener\u001b[0m:\u001b[36mconvert_labeled_frame_to_cells\u001b[0m:\u001b[36m89\u001b[0m - \u001b[1mFound 4 labeled objects at t=14\u001b[0m\n",
      "\u001b[32m2025-07-25 11:12:31.093\u001b[0m | \u001b[1mINFO    \u001b[0m | \u001b[36mtrack_gardener.converters.track_array_2_gardener\u001b[0m:\u001b[36mconvert_labeled_frame_to_cells\u001b[0m:\u001b[36m89\u001b[0m - \u001b[1mFound 4 labeled objects at t=15\u001b[0m\n",
      " 36%|███▌      | 16/45 [00:01<00:02, 10.73it/s]\u001b[32m2025-07-25 11:12:31.179\u001b[0m | \u001b[1mINFO    \u001b[0m | \u001b[36mtrack_gardener.converters.track_array_2_gardener\u001b[0m:\u001b[36mconvert_labeled_frame_to_cells\u001b[0m:\u001b[36m89\u001b[0m - \u001b[1mFound 4 labeled objects at t=16\u001b[0m\n",
      "\u001b[32m2025-07-25 11:12:31.259\u001b[0m | \u001b[1mINFO    \u001b[0m | \u001b[36mtrack_gardener.converters.track_array_2_gardener\u001b[0m:\u001b[36mconvert_labeled_frame_to_cells\u001b[0m:\u001b[36m89\u001b[0m - \u001b[1mFound 4 labeled objects at t=17\u001b[0m\n",
      " 40%|████      | 18/45 [00:01<00:02, 11.60it/s]\u001b[32m2025-07-25 11:12:31.315\u001b[0m | \u001b[1mINFO    \u001b[0m | \u001b[36mtrack_gardener.converters.track_array_2_gardener\u001b[0m:\u001b[36mconvert_labeled_frame_to_cells\u001b[0m:\u001b[36m89\u001b[0m - \u001b[1mFound 4 labeled objects at t=18\u001b[0m\n",
      "\u001b[32m2025-07-25 11:12:31.381\u001b[0m | \u001b[1mINFO    \u001b[0m | \u001b[36mtrack_gardener.converters.track_array_2_gardener\u001b[0m:\u001b[36mconvert_labeled_frame_to_cells\u001b[0m:\u001b[36m89\u001b[0m - \u001b[1mFound 4 labeled objects at t=19\u001b[0m\n",
      " 44%|████▍     | 20/45 [00:01<00:02, 12.04it/s]\u001b[32m2025-07-25 11:12:31.477\u001b[0m | \u001b[1mINFO    \u001b[0m | \u001b[36mtrack_gardener.converters.track_array_2_gardener\u001b[0m:\u001b[36mconvert_labeled_frame_to_cells\u001b[0m:\u001b[36m89\u001b[0m - \u001b[1mFound 4 labeled objects at t=20\u001b[0m\n",
      "\u001b[32m2025-07-25 11:12:31.568\u001b[0m | \u001b[1mINFO    \u001b[0m | \u001b[36mtrack_gardener.converters.track_array_2_gardener\u001b[0m:\u001b[36mconvert_labeled_frame_to_cells\u001b[0m:\u001b[36m89\u001b[0m - \u001b[1mFound 4 labeled objects at t=21\u001b[0m\n",
      " 49%|████▉     | 22/45 [00:01<00:01, 11.52it/s]\u001b[32m2025-07-25 11:12:31.668\u001b[0m | \u001b[1mINFO    \u001b[0m | \u001b[36mtrack_gardener.converters.track_array_2_gardener\u001b[0m:\u001b[36mconvert_labeled_frame_to_cells\u001b[0m:\u001b[36m89\u001b[0m - \u001b[1mFound 4 labeled objects at t=22\u001b[0m\n",
      "\u001b[32m2025-07-25 11:12:31.743\u001b[0m | \u001b[1mINFO    \u001b[0m | \u001b[36mtrack_gardener.converters.track_array_2_gardener\u001b[0m:\u001b[36mconvert_labeled_frame_to_cells\u001b[0m:\u001b[36m89\u001b[0m - \u001b[1mFound 4 labeled objects at t=23\u001b[0m\n",
      " 53%|█████▎    | 24/45 [00:02<00:01, 12.20it/s]\u001b[32m2025-07-25 11:12:31.799\u001b[0m | \u001b[1mINFO    \u001b[0m | \u001b[36mtrack_gardener.converters.track_array_2_gardener\u001b[0m:\u001b[36mconvert_labeled_frame_to_cells\u001b[0m:\u001b[36m89\u001b[0m - \u001b[1mFound 4 labeled objects at t=24\u001b[0m\n",
      "\u001b[32m2025-07-25 11:12:31.847\u001b[0m | \u001b[1mINFO    \u001b[0m | \u001b[36mtrack_gardener.converters.track_array_2_gardener\u001b[0m:\u001b[36mconvert_labeled_frame_to_cells\u001b[0m:\u001b[36m89\u001b[0m - \u001b[1mFound 4 labeled objects at t=25\u001b[0m\n",
      " 58%|█████▊    | 26/45 [00:02<00:01, 13.51it/s]\u001b[32m2025-07-25 11:12:31.921\u001b[0m | \u001b[1mINFO    \u001b[0m | \u001b[36mtrack_gardener.converters.track_array_2_gardener\u001b[0m:\u001b[36mconvert_labeled_frame_to_cells\u001b[0m:\u001b[36m89\u001b[0m - \u001b[1mFound 4 labeled objects at t=26\u001b[0m\n",
      "\u001b[32m2025-07-25 11:12:31.989\u001b[0m | \u001b[1mINFO    \u001b[0m | \u001b[36mtrack_gardener.converters.track_array_2_gardener\u001b[0m:\u001b[36mconvert_labeled_frame_to_cells\u001b[0m:\u001b[36m89\u001b[0m - \u001b[1mFound 4 labeled objects at t=27\u001b[0m\n",
      " 62%|██████▏   | 28/45 [00:02<00:01, 13.39it/s]\u001b[32m2025-07-25 11:12:32.077\u001b[0m | \u001b[1mINFO    \u001b[0m | \u001b[36mtrack_gardener.converters.track_array_2_gardener\u001b[0m:\u001b[36mconvert_labeled_frame_to_cells\u001b[0m:\u001b[36m89\u001b[0m - \u001b[1mFound 4 labeled objects at t=28\u001b[0m\n",
      "\u001b[32m2025-07-25 11:12:32.167\u001b[0m | \u001b[1mINFO    \u001b[0m | \u001b[36mtrack_gardener.converters.track_array_2_gardener\u001b[0m:\u001b[36mconvert_labeled_frame_to_cells\u001b[0m:\u001b[36m89\u001b[0m - \u001b[1mFound 4 labeled objects at t=29\u001b[0m\n",
      " 67%|██████▋   | 30/45 [00:02<00:01, 12.63it/s]\u001b[32m2025-07-25 11:12:32.251\u001b[0m | \u001b[1mINFO    \u001b[0m | \u001b[36mtrack_gardener.converters.track_array_2_gardener\u001b[0m:\u001b[36mconvert_labeled_frame_to_cells\u001b[0m:\u001b[36m89\u001b[0m - \u001b[1mFound 4 labeled objects at t=30\u001b[0m\n",
      "\u001b[32m2025-07-25 11:12:32.313\u001b[0m | \u001b[1mINFO    \u001b[0m | \u001b[36mtrack_gardener.converters.track_array_2_gardener\u001b[0m:\u001b[36mconvert_labeled_frame_to_cells\u001b[0m:\u001b[36m89\u001b[0m - \u001b[1mFound 4 labeled objects at t=31\u001b[0m\n",
      " 71%|███████   | 32/45 [00:02<00:00, 13.46it/s]\u001b[32m2025-07-25 11:12:32.373\u001b[0m | \u001b[1mINFO    \u001b[0m | \u001b[36mtrack_gardener.converters.track_array_2_gardener\u001b[0m:\u001b[36mconvert_labeled_frame_to_cells\u001b[0m:\u001b[36m89\u001b[0m - \u001b[1mFound 5 labeled objects at t=32\u001b[0m\n",
      "\u001b[32m2025-07-25 11:12:32.465\u001b[0m | \u001b[1mINFO    \u001b[0m | \u001b[36mtrack_gardener.converters.track_array_2_gardener\u001b[0m:\u001b[36mconvert_labeled_frame_to_cells\u001b[0m:\u001b[36m89\u001b[0m - \u001b[1mFound 6 labeled objects at t=33\u001b[0m\n",
      " 76%|███████▌  | 34/45 [00:02<00:00, 12.06it/s]\u001b[32m2025-07-25 11:12:32.593\u001b[0m | \u001b[1mINFO    \u001b[0m | \u001b[36mtrack_gardener.converters.track_array_2_gardener\u001b[0m:\u001b[36mconvert_labeled_frame_to_cells\u001b[0m:\u001b[36m89\u001b[0m - \u001b[1mFound 6 labeled objects at t=34\u001b[0m\n",
      "\u001b[32m2025-07-25 11:12:32.705\u001b[0m | \u001b[1mINFO    \u001b[0m | \u001b[36mtrack_gardener.converters.track_array_2_gardener\u001b[0m:\u001b[36mconvert_labeled_frame_to_cells\u001b[0m:\u001b[36m89\u001b[0m - \u001b[1mFound 6 labeled objects at t=35\u001b[0m\n",
      " 80%|████████  | 36/45 [00:03<00:00, 10.77it/s]\u001b[32m2025-07-25 11:12:32.805\u001b[0m | \u001b[1mINFO    \u001b[0m | \u001b[36mtrack_gardener.converters.track_array_2_gardener\u001b[0m:\u001b[36mconvert_labeled_frame_to_cells\u001b[0m:\u001b[36m89\u001b[0m - \u001b[1mFound 6 labeled objects at t=36\u001b[0m\n",
      "\u001b[32m2025-07-25 11:12:32.893\u001b[0m | \u001b[1mINFO    \u001b[0m | \u001b[36mtrack_gardener.converters.track_array_2_gardener\u001b[0m:\u001b[36mconvert_labeled_frame_to_cells\u001b[0m:\u001b[36m89\u001b[0m - \u001b[1mFound 7 labeled objects at t=37\u001b[0m\n",
      " 84%|████████▍ | 38/45 [00:03<00:00, 10.42it/s]\u001b[32m2025-07-25 11:12:33.027\u001b[0m | \u001b[1mINFO    \u001b[0m | \u001b[36mtrack_gardener.converters.track_array_2_gardener\u001b[0m:\u001b[36mconvert_labeled_frame_to_cells\u001b[0m:\u001b[36m89\u001b[0m - \u001b[1mFound 7 labeled objects at t=38\u001b[0m\n",
      "\u001b[32m2025-07-25 11:12:33.156\u001b[0m | \u001b[1mINFO    \u001b[0m | \u001b[36mtrack_gardener.converters.track_array_2_gardener\u001b[0m:\u001b[36mconvert_labeled_frame_to_cells\u001b[0m:\u001b[36m89\u001b[0m - \u001b[1mFound 7 labeled objects at t=39\u001b[0m\n",
      " 89%|████████▉ | 40/45 [00:03<00:00,  9.17it/s]\u001b[32m2025-07-25 11:12:33.308\u001b[0m | \u001b[1mINFO    \u001b[0m | \u001b[36mtrack_gardener.converters.track_array_2_gardener\u001b[0m:\u001b[36mconvert_labeled_frame_to_cells\u001b[0m:\u001b[36m89\u001b[0m - \u001b[1mFound 8 labeled objects at t=40\u001b[0m\n",
      " 91%|█████████ | 41/45 [00:03<00:00,  9.04it/s]\u001b[32m2025-07-25 11:12:33.423\u001b[0m | \u001b[1mINFO    \u001b[0m | \u001b[36mtrack_gardener.converters.track_array_2_gardener\u001b[0m:\u001b[36mconvert_labeled_frame_to_cells\u001b[0m:\u001b[36m89\u001b[0m - \u001b[1mFound 8 labeled objects at t=41\u001b[0m\n",
      " 93%|█████████▎| 42/45 [00:03<00:00,  8.46it/s]\u001b[32m2025-07-25 11:12:33.566\u001b[0m | \u001b[1mINFO    \u001b[0m | \u001b[36mtrack_gardener.converters.track_array_2_gardener\u001b[0m:\u001b[36mconvert_labeled_frame_to_cells\u001b[0m:\u001b[36m89\u001b[0m - \u001b[1mFound 8 labeled objects at t=42\u001b[0m\n",
      " 96%|█████████▌| 43/45 [00:03<00:00,  8.30it/s]\u001b[32m2025-07-25 11:12:33.697\u001b[0m | \u001b[1mINFO    \u001b[0m | \u001b[36mtrack_gardener.converters.track_array_2_gardener\u001b[0m:\u001b[36mconvert_labeled_frame_to_cells\u001b[0m:\u001b[36m89\u001b[0m - \u001b[1mFound 8 labeled objects at t=43\u001b[0m\n",
      " 98%|█████████▊| 44/45 [00:04<00:00,  8.09it/s]\u001b[32m2025-07-25 11:12:33.825\u001b[0m | \u001b[1mINFO    \u001b[0m | \u001b[36mtrack_gardener.converters.track_array_2_gardener\u001b[0m:\u001b[36mconvert_labeled_frame_to_cells\u001b[0m:\u001b[36m89\u001b[0m - \u001b[1mFound 8 labeled objects at t=44\u001b[0m\n",
      "100%|██████████| 45/45 [00:04<00:00, 10.82it/s]\n"
     ]
    }
   ],
   "source": [
    "segm_geff_to_db(segm_array, config, geff_group_path)"
   ]
  },
  {
   "cell_type": "code",
   "execution_count": null,
   "id": "ce5eecc0",
   "metadata": {},
   "outputs": [],
   "source": []
  }
 ],
 "metadata": {
  "kernelspec": {
   "display_name": "gardener-env2",
   "language": "python",
   "name": "python3"
  },
  "language_info": {
   "codemirror_mode": {
    "name": "ipython",
    "version": 3
   },
   "file_extension": ".py",
   "mimetype": "text/x-python",
   "name": "python",
   "nbconvert_exporter": "python",
   "pygments_lexer": "ipython3",
   "version": "3.11.13"
  }
 },
 "nbformat": 4,
 "nbformat_minor": 5
}
