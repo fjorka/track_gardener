{
 "cells": [
  {
   "cell_type": "code",
   "execution_count": 1,
   "id": "ebbb470e",
   "metadata": {},
   "outputs": [],
   "source": [
    "import dask.array as da"
   ]
  },
  {
   "cell_type": "code",
   "execution_count": null,
   "id": "e1e68e62",
   "metadata": {},
   "outputs": [],
   "source": [
    "tiff_dir_path = \"im_stack.tiff\"\n",
    "zarr_path = \"im_stack.zarr\""
   ]
  },
  {
   "cell_type": "code",
   "execution_count": 3,
   "id": "7570f6ad",
   "metadata": {},
   "outputs": [
    {
     "ename": "FileNotFoundError",
     "evalue": "file://tiffs",
     "output_type": "error",
     "traceback": [
      "\u001b[31m---------------------------------------------------------------------------\u001b[39m",
      "\u001b[31mFileNotFoundError\u001b[39m                         Traceback (most recent call last)",
      "\u001b[36mCell\u001b[39m\u001b[36m \u001b[39m\u001b[32mIn[3]\u001b[39m\u001b[32m, line 2\u001b[39m\n\u001b[32m      1\u001b[39m \u001b[38;5;66;03m# load all the tiffs to dask array\u001b[39;00m\n\u001b[32m----> \u001b[39m\u001b[32m2\u001b[39m im_stack = \u001b[43mda\u001b[49m\u001b[43m.\u001b[49m\u001b[43mfrom_zarr\u001b[49m\u001b[43m(\u001b[49m\u001b[43mtiff_dir_path\u001b[49m\u001b[43m)\u001b[49m\n",
      "\u001b[36mFile \u001b[39m\u001b[32mc:\\Users\\KMK280\\AppData\\Local\\miniconda3\\envs\\gardener-env2\\Lib\\site-packages\\dask\\array\\core.py:3796\u001b[39m, in \u001b[36mfrom_zarr\u001b[39m\u001b[34m(url, component, storage_options, chunks, name, inline_array, **kwargs)\u001b[39m\n\u001b[32m   3794\u001b[39m     \u001b[38;5;28;01melse\u001b[39;00m:\n\u001b[32m   3795\u001b[39m         store = url\n\u001b[32m-> \u001b[39m\u001b[32m3796\u001b[39m     z = \u001b[43mzarr\u001b[49m\u001b[43m.\u001b[49m\u001b[43mopen_array\u001b[49m\u001b[43m(\u001b[49m\u001b[43mstore\u001b[49m\u001b[43m=\u001b[49m\u001b[43mstore\u001b[49m\u001b[43m,\u001b[49m\u001b[43m \u001b[49m\u001b[43mpath\u001b[49m\u001b[43m=\u001b[49m\u001b[43mcomponent\u001b[49m\u001b[43m,\u001b[49m\u001b[43m \u001b[49m\u001b[43m*\u001b[49m\u001b[43m*\u001b[49m\u001b[43mkwargs\u001b[49m\u001b[43m)\u001b[49m\n\u001b[32m   3797\u001b[39m \u001b[38;5;28;01melse\u001b[39;00m:\n\u001b[32m   3798\u001b[39m     z = zarr.open_array(store=url, path=component, **kwargs)\n",
      "\u001b[36mFile \u001b[39m\u001b[32mc:\\Users\\KMK280\\AppData\\Local\\miniconda3\\envs\\gardener-env2\\Lib\\site-packages\\zarr\\api\\synchronous.py:1293\u001b[39m, in \u001b[36mopen_array\u001b[39m\u001b[34m(store, zarr_version, path, storage_options, **kwargs)\u001b[39m\n\u001b[32m   1263\u001b[39m \u001b[38;5;28;01mdef\u001b[39;00m\u001b[38;5;250m \u001b[39m\u001b[34mopen_array\u001b[39m(\n\u001b[32m   1264\u001b[39m     store: StoreLike | \u001b[38;5;28;01mNone\u001b[39;00m = \u001b[38;5;28;01mNone\u001b[39;00m,\n\u001b[32m   1265\u001b[39m     *,\n\u001b[32m   (...)\u001b[39m\u001b[32m   1269\u001b[39m     **kwargs: Any,\n\u001b[32m   1270\u001b[39m ) -> Array:\n\u001b[32m   1271\u001b[39m \u001b[38;5;250m    \u001b[39m\u001b[33;03m\"\"\"Open an array using file-mode-like semantics.\u001b[39;00m\n\u001b[32m   1272\u001b[39m \n\u001b[32m   1273\u001b[39m \u001b[33;03m    Parameters\u001b[39;00m\n\u001b[32m   (...)\u001b[39m\u001b[32m   1290\u001b[39m \u001b[33;03m        The opened array.\u001b[39;00m\n\u001b[32m   1291\u001b[39m \u001b[33;03m    \"\"\"\u001b[39;00m\n\u001b[32m   1292\u001b[39m     \u001b[38;5;28;01mreturn\u001b[39;00m Array(\n\u001b[32m-> \u001b[39m\u001b[32m1293\u001b[39m         \u001b[43msync\u001b[49m\u001b[43m(\u001b[49m\n\u001b[32m   1294\u001b[39m \u001b[43m            \u001b[49m\u001b[43masync_api\u001b[49m\u001b[43m.\u001b[49m\u001b[43mopen_array\u001b[49m\u001b[43m(\u001b[49m\n\u001b[32m   1295\u001b[39m \u001b[43m                \u001b[49m\u001b[43mstore\u001b[49m\u001b[43m=\u001b[49m\u001b[43mstore\u001b[49m\u001b[43m,\u001b[49m\n\u001b[32m   1296\u001b[39m \u001b[43m                \u001b[49m\u001b[43mzarr_version\u001b[49m\u001b[43m=\u001b[49m\u001b[43mzarr_version\u001b[49m\u001b[43m,\u001b[49m\n\u001b[32m   1297\u001b[39m \u001b[43m                \u001b[49m\u001b[43mpath\u001b[49m\u001b[43m=\u001b[49m\u001b[43mpath\u001b[49m\u001b[43m,\u001b[49m\n\u001b[32m   1298\u001b[39m \u001b[43m                \u001b[49m\u001b[43mstorage_options\u001b[49m\u001b[43m=\u001b[49m\u001b[43mstorage_options\u001b[49m\u001b[43m,\u001b[49m\n\u001b[32m   1299\u001b[39m \u001b[43m                \u001b[49m\u001b[43m*\u001b[49m\u001b[43m*\u001b[49m\u001b[43mkwargs\u001b[49m\u001b[43m,\u001b[49m\n\u001b[32m   1300\u001b[39m \u001b[43m            \u001b[49m\u001b[43m)\u001b[49m\n\u001b[32m   1301\u001b[39m \u001b[43m        \u001b[49m\u001b[43m)\u001b[49m\n\u001b[32m   1302\u001b[39m     )\n",
      "\u001b[36mFile \u001b[39m\u001b[32mc:\\Users\\KMK280\\AppData\\Local\\miniconda3\\envs\\gardener-env2\\Lib\\site-packages\\zarr\\core\\sync.py:163\u001b[39m, in \u001b[36msync\u001b[39m\u001b[34m(coro, loop, timeout)\u001b[39m\n\u001b[32m    160\u001b[39m return_result = \u001b[38;5;28mnext\u001b[39m(\u001b[38;5;28miter\u001b[39m(finished)).result()\n\u001b[32m    162\u001b[39m \u001b[38;5;28;01mif\u001b[39;00m \u001b[38;5;28misinstance\u001b[39m(return_result, \u001b[38;5;167;01mBaseException\u001b[39;00m):\n\u001b[32m--> \u001b[39m\u001b[32m163\u001b[39m     \u001b[38;5;28;01mraise\u001b[39;00m return_result\n\u001b[32m    164\u001b[39m \u001b[38;5;28;01melse\u001b[39;00m:\n\u001b[32m    165\u001b[39m     \u001b[38;5;28;01mreturn\u001b[39;00m return_result\n",
      "\u001b[36mFile \u001b[39m\u001b[32mc:\\Users\\KMK280\\AppData\\Local\\miniconda3\\envs\\gardener-env2\\Lib\\site-packages\\zarr\\core\\sync.py:119\u001b[39m, in \u001b[36m_runner\u001b[39m\u001b[34m(coro)\u001b[39m\n\u001b[32m    114\u001b[39m \u001b[38;5;250m\u001b[39m\u001b[33;03m\"\"\"\u001b[39;00m\n\u001b[32m    115\u001b[39m \u001b[33;03mAwait a coroutine and return the result of running it. If awaiting the coroutine raises an\u001b[39;00m\n\u001b[32m    116\u001b[39m \u001b[33;03mexception, the exception will be returned.\u001b[39;00m\n\u001b[32m    117\u001b[39m \u001b[33;03m\"\"\"\u001b[39;00m\n\u001b[32m    118\u001b[39m \u001b[38;5;28;01mtry\u001b[39;00m:\n\u001b[32m--> \u001b[39m\u001b[32m119\u001b[39m     \u001b[38;5;28;01mreturn\u001b[39;00m \u001b[38;5;28;01mawait\u001b[39;00m coro\n\u001b[32m    120\u001b[39m \u001b[38;5;28;01mexcept\u001b[39;00m \u001b[38;5;167;01mException\u001b[39;00m \u001b[38;5;28;01mas\u001b[39;00m ex:\n\u001b[32m    121\u001b[39m     \u001b[38;5;28;01mreturn\u001b[39;00m ex\n",
      "\u001b[36mFile \u001b[39m\u001b[32mc:\\Users\\KMK280\\AppData\\Local\\miniconda3\\envs\\gardener-env2\\Lib\\site-packages\\zarr\\api\\asynchronous.py:1267\u001b[39m, in \u001b[36mopen_array\u001b[39m\u001b[34m(store, zarr_version, zarr_format, path, storage_options, **kwargs)\u001b[39m\n\u001b[32m   1264\u001b[39m     _warn_write_empty_chunks_kwarg()\n\u001b[32m   1266\u001b[39m \u001b[38;5;28;01mtry\u001b[39;00m:\n\u001b[32m-> \u001b[39m\u001b[32m1267\u001b[39m     \u001b[38;5;28;01mreturn\u001b[39;00m \u001b[38;5;28;01mawait\u001b[39;00m AsyncArray.open(store_path, zarr_format=zarr_format)\n\u001b[32m   1268\u001b[39m \u001b[38;5;28;01mexcept\u001b[39;00m \u001b[38;5;167;01mFileNotFoundError\u001b[39;00m:\n\u001b[32m   1269\u001b[39m     \u001b[38;5;28;01mif\u001b[39;00m \u001b[38;5;129;01mnot\u001b[39;00m store_path.read_only \u001b[38;5;129;01mand\u001b[39;00m mode \u001b[38;5;129;01min\u001b[39;00m _CREATE_MODES:\n",
      "\u001b[36mFile \u001b[39m\u001b[32mc:\\Users\\KMK280\\AppData\\Local\\miniconda3\\envs\\gardener-env2\\Lib\\site-packages\\zarr\\core\\array.py:962\u001b[39m, in \u001b[36mAsyncArray.open\u001b[39m\u001b[34m(cls, store, zarr_format)\u001b[39m\n\u001b[32m    939\u001b[39m \u001b[38;5;250m\u001b[39m\u001b[33;03m\"\"\"\u001b[39;00m\n\u001b[32m    940\u001b[39m \u001b[33;03mAsync method to open an existing Zarr array from a given store.\u001b[39;00m\n\u001b[32m    941\u001b[39m \n\u001b[32m   (...)\u001b[39m\u001b[32m    959\u001b[39m \u001b[33;03m<AsyncArray memory://... shape=(100, 100) dtype=int32>\u001b[39;00m\n\u001b[32m    960\u001b[39m \u001b[33;03m\"\"\"\u001b[39;00m\n\u001b[32m    961\u001b[39m store_path = \u001b[38;5;28;01mawait\u001b[39;00m make_store_path(store)\n\u001b[32m--> \u001b[39m\u001b[32m962\u001b[39m metadata_dict = \u001b[38;5;28;01mawait\u001b[39;00m get_array_metadata(store_path, zarr_format=zarr_format)\n\u001b[32m    963\u001b[39m \u001b[38;5;66;03m# TODO: remove this cast when we have better type hints\u001b[39;00m\n\u001b[32m    964\u001b[39m _metadata_dict = cast(\u001b[33m\"\u001b[39m\u001b[33mArrayV3MetadataDict\u001b[39m\u001b[33m\"\u001b[39m, metadata_dict)\n",
      "\u001b[36mFile \u001b[39m\u001b[32mc:\\Users\\KMK280\\AppData\\Local\\miniconda3\\envs\\gardener-env2\\Lib\\site-packages\\zarr\\core\\array.py:236\u001b[39m, in \u001b[36mget_array_metadata\u001b[39m\u001b[34m(store_path, zarr_format)\u001b[39m\n\u001b[32m    234\u001b[39m     warnings.warn(msg, stacklevel=\u001b[32m1\u001b[39m)\n\u001b[32m    235\u001b[39m \u001b[38;5;28;01mif\u001b[39;00m zarr_json_bytes \u001b[38;5;129;01mis\u001b[39;00m \u001b[38;5;28;01mNone\u001b[39;00m \u001b[38;5;129;01mand\u001b[39;00m zarray_bytes \u001b[38;5;129;01mis\u001b[39;00m \u001b[38;5;28;01mNone\u001b[39;00m:\n\u001b[32m--> \u001b[39m\u001b[32m236\u001b[39m     \u001b[38;5;28;01mraise\u001b[39;00m \u001b[38;5;167;01mFileNotFoundError\u001b[39;00m(store_path)\n\u001b[32m    237\u001b[39m \u001b[38;5;66;03m# set zarr_format based on which keys were found\u001b[39;00m\n\u001b[32m    238\u001b[39m \u001b[38;5;28;01mif\u001b[39;00m zarr_json_bytes \u001b[38;5;129;01mis\u001b[39;00m \u001b[38;5;129;01mnot\u001b[39;00m \u001b[38;5;28;01mNone\u001b[39;00m:\n",
      "\u001b[31mFileNotFoundError\u001b[39m: file://tiffs"
     ]
    }
   ],
   "source": [
    "# load all the tiffs to dask array\n",
    "im_stack = da.from_zarr(tiff_dir_path)"
   ]
  },
  {
   "cell_type": "code",
   "execution_count": null,
   "id": "3777fbcd",
   "metadata": {},
   "outputs": [],
   "source": []
  }
 ],
 "metadata": {
  "kernelspec": {
   "display_name": "gardener-env2",
   "language": "python",
   "name": "python3"
  },
  "language_info": {
   "codemirror_mode": {
    "name": "ipython",
    "version": 3
   },
   "file_extension": ".py",
   "mimetype": "text/x-python",
   "name": "python",
   "nbconvert_exporter": "python",
   "pygments_lexer": "ipython3",
   "version": "3.11.13"
  }
 },
 "nbformat": 4,
 "nbformat_minor": 5
}
