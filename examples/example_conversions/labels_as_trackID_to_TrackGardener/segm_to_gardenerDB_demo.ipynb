{
 "cells": [
  {
   "cell_type": "markdown",
   "id": "a6fd91cd",
   "metadata": {},
   "source": [
    "## Example: Converting a Segmentation Stack for Use with TrackGardener"
   ]
  },
  {
   "cell_type": "markdown",
   "id": "a07705e9",
   "metadata": {},
   "source": [
    "This notebook provides a practical example of converting a segmentation stack - where each object’s value corresponds to its unique TrackID - to a TrackGardener database using the configuration file `Fluo-N2DL-HeLa-01_config_trackID.yaml`.\n",
    "\n",
    "In this workflow, relationships between parent and offspring tracks are inferred based on their proximity in time and space. This approach is generally error-prone and not recommended for most applications. For more accurate lineage relationships, use an explicit graph structure; see labels_and_geff_to_TrackGardener for details of importing the graph structure from the `geff` format.\n",
    "\n",
    "You can reuse the configuration file demonstrated here with the TrackGardener plugin itself. Just be sure to specify the correct paths to your imaging dataset and the TrackGardener database within the config file. Using absolute (rather than relative as for the purpose of this example) paths is the safest choice to ensure your files are correctly located."
   ]
  },
  {
   "cell_type": "code",
   "execution_count": 1,
   "id": "5133a5f5",
   "metadata": {},
   "outputs": [],
   "source": [
    "import dask.array as da\n",
    "import yaml\n",
    "\n",
    "from track_gardener.converters.track_array_2_gardener import (\n",
    "    assign_tracks_relationships,\n",
    "    convert_array_segmentations_to_db,\n",
    ")"
   ]
  },
  {
   "cell_type": "code",
   "execution_count": 2,
   "id": "bf1a60e6",
   "metadata": {},
   "outputs": [],
   "source": [
    "# pathways to the segmentation stack and configuration file\n",
    "\n",
    "segm_path = './Fluo-N2DL-HeLa-01_segm.zarr/labels'\n",
    "config_path = './Fluo-N2DL-HeLa-01_config_trackID.yaml'"
   ]
  },
  {
   "cell_type": "code",
   "execution_count": 3,
   "id": "ea693ec7",
   "metadata": {},
   "outputs": [],
   "source": [
    "# read segmentation array\n",
    "segm_array = da.from_zarr(segm_path)"
   ]
  },
  {
   "cell_type": "code",
   "execution_count": 4,
   "id": "14aaf9cc",
   "metadata": {},
   "outputs": [],
   "source": [
    "# read in configuration file\n",
    "with open(config_path) as file:\n",
    "    config = yaml.safe_load(file)"
   ]
  },
  {
   "cell_type": "code",
   "execution_count": 5,
   "id": "db7c514d",
   "metadata": {},
   "outputs": [
    {
     "name": "stderr",
     "output_type": "stream",
     "text": [
      "\u001b[32m2025-07-28 09:10:04.485\u001b[0m | \u001b[1mINFO    \u001b[0m | \u001b[36mtrack_gardener.converters.track_array_2_gardener\u001b[0m:\u001b[36mconvert_labeled_frame_to_cells\u001b[0m:\u001b[36m89\u001b[0m - \u001b[1mFound 2 labeled objects at t=0\u001b[0m\n",
      "\u001b[32m2025-07-28 09:10:04.533\u001b[0m | \u001b[1mINFO    \u001b[0m | \u001b[36mtrack_gardener.converters.track_array_2_gardener\u001b[0m:\u001b[36mconvert_labeled_frame_to_cells\u001b[0m:\u001b[36m89\u001b[0m - \u001b[1mFound 2 labeled objects at t=1\u001b[0m\n",
      "\u001b[32m2025-07-28 09:10:04.578\u001b[0m | \u001b[1mINFO    \u001b[0m | \u001b[36mtrack_gardener.converters.track_array_2_gardener\u001b[0m:\u001b[36mconvert_labeled_frame_to_cells\u001b[0m:\u001b[36m89\u001b[0m - \u001b[1mFound 2 labeled objects at t=2\u001b[0m\n",
      "\u001b[32m2025-07-28 09:10:04.622\u001b[0m | \u001b[1mINFO    \u001b[0m | \u001b[36mtrack_gardener.converters.track_array_2_gardener\u001b[0m:\u001b[36mconvert_labeled_frame_to_cells\u001b[0m:\u001b[36m89\u001b[0m - \u001b[1mFound 3 labeled objects at t=3\u001b[0m\n",
      "\u001b[32m2025-07-28 09:10:04.688\u001b[0m | \u001b[1mINFO    \u001b[0m | \u001b[36mtrack_gardener.converters.track_array_2_gardener\u001b[0m:\u001b[36mconvert_labeled_frame_to_cells\u001b[0m:\u001b[36m89\u001b[0m - \u001b[1mFound 3 labeled objects at t=4\u001b[0m\n",
      "\u001b[32m2025-07-28 09:10:04.767\u001b[0m | \u001b[1mINFO    \u001b[0m | \u001b[36mtrack_gardener.converters.track_array_2_gardener\u001b[0m:\u001b[36mconvert_labeled_frame_to_cells\u001b[0m:\u001b[36m89\u001b[0m - \u001b[1mFound 3 labeled objects at t=5\u001b[0m\n",
      "\u001b[32m2025-07-28 09:10:04.847\u001b[0m | \u001b[1mINFO    \u001b[0m | \u001b[36mtrack_gardener.converters.track_array_2_gardener\u001b[0m:\u001b[36mconvert_labeled_frame_to_cells\u001b[0m:\u001b[36m89\u001b[0m - \u001b[1mFound 4 labeled objects at t=6\u001b[0m\n",
      "\u001b[32m2025-07-28 09:10:04.927\u001b[0m | \u001b[1mINFO    \u001b[0m | \u001b[36mtrack_gardener.converters.track_array_2_gardener\u001b[0m:\u001b[36mconvert_labeled_frame_to_cells\u001b[0m:\u001b[36m89\u001b[0m - \u001b[1mFound 4 labeled objects at t=7\u001b[0m\n",
      "\u001b[32m2025-07-28 09:10:04.993\u001b[0m | \u001b[1mINFO    \u001b[0m | \u001b[36mtrack_gardener.converters.track_array_2_gardener\u001b[0m:\u001b[36mconvert_labeled_frame_to_cells\u001b[0m:\u001b[36m89\u001b[0m - \u001b[1mFound 4 labeled objects at t=8\u001b[0m\n",
      "\u001b[32m2025-07-28 09:10:05.048\u001b[0m | \u001b[1mINFO    \u001b[0m | \u001b[36mtrack_gardener.converters.track_array_2_gardener\u001b[0m:\u001b[36mconvert_labeled_frame_to_cells\u001b[0m:\u001b[36m89\u001b[0m - \u001b[1mFound 4 labeled objects at t=9\u001b[0m\n",
      "\u001b[32m2025-07-28 09:10:05.114\u001b[0m | \u001b[1mINFO    \u001b[0m | \u001b[36mtrack_gardener.converters.track_array_2_gardener\u001b[0m:\u001b[36mconvert_labeled_frame_to_cells\u001b[0m:\u001b[36m89\u001b[0m - \u001b[1mFound 4 labeled objects at t=10\u001b[0m\n",
      "\u001b[32m2025-07-28 09:10:05.180\u001b[0m | \u001b[1mINFO    \u001b[0m | \u001b[36mtrack_gardener.converters.track_array_2_gardener\u001b[0m:\u001b[36mconvert_labeled_frame_to_cells\u001b[0m:\u001b[36m89\u001b[0m - \u001b[1mFound 4 labeled objects at t=11\u001b[0m\n",
      "\u001b[32m2025-07-28 09:10:05.247\u001b[0m | \u001b[1mINFO    \u001b[0m | \u001b[36mtrack_gardener.converters.track_array_2_gardener\u001b[0m:\u001b[36mconvert_labeled_frame_to_cells\u001b[0m:\u001b[36m89\u001b[0m - \u001b[1mFound 4 labeled objects at t=12\u001b[0m\n",
      "\u001b[32m2025-07-28 09:10:05.287\u001b[0m | \u001b[1mINFO    \u001b[0m | \u001b[36mtrack_gardener.converters.track_array_2_gardener\u001b[0m:\u001b[36mconvert_labeled_frame_to_cells\u001b[0m:\u001b[36m89\u001b[0m - \u001b[1mFound 4 labeled objects at t=13\u001b[0m\n",
      "\u001b[32m2025-07-28 09:10:05.342\u001b[0m | \u001b[1mINFO    \u001b[0m | \u001b[36mtrack_gardener.converters.track_array_2_gardener\u001b[0m:\u001b[36mconvert_labeled_frame_to_cells\u001b[0m:\u001b[36m89\u001b[0m - \u001b[1mFound 4 labeled objects at t=14\u001b[0m\n",
      "\u001b[32m2025-07-28 09:10:05.416\u001b[0m | \u001b[1mINFO    \u001b[0m | \u001b[36mtrack_gardener.converters.track_array_2_gardener\u001b[0m:\u001b[36mconvert_labeled_frame_to_cells\u001b[0m:\u001b[36m89\u001b[0m - \u001b[1mFound 4 labeled objects at t=15\u001b[0m\n",
      "\u001b[32m2025-07-28 09:10:05.496\u001b[0m | \u001b[1mINFO    \u001b[0m | \u001b[36mtrack_gardener.converters.track_array_2_gardener\u001b[0m:\u001b[36mconvert_labeled_frame_to_cells\u001b[0m:\u001b[36m89\u001b[0m - \u001b[1mFound 4 labeled objects at t=16\u001b[0m\n",
      "\u001b[32m2025-07-28 09:10:05.559\u001b[0m | \u001b[1mINFO    \u001b[0m | \u001b[36mtrack_gardener.converters.track_array_2_gardener\u001b[0m:\u001b[36mconvert_labeled_frame_to_cells\u001b[0m:\u001b[36m89\u001b[0m - \u001b[1mFound 4 labeled objects at t=17\u001b[0m\n",
      "\u001b[32m2025-07-28 09:10:05.642\u001b[0m | \u001b[1mINFO    \u001b[0m | \u001b[36mtrack_gardener.converters.track_array_2_gardener\u001b[0m:\u001b[36mconvert_labeled_frame_to_cells\u001b[0m:\u001b[36m89\u001b[0m - \u001b[1mFound 4 labeled objects at t=18\u001b[0m\n",
      "\u001b[32m2025-07-28 09:10:05.727\u001b[0m | \u001b[1mINFO    \u001b[0m | \u001b[36mtrack_gardener.converters.track_array_2_gardener\u001b[0m:\u001b[36mconvert_labeled_frame_to_cells\u001b[0m:\u001b[36m89\u001b[0m - \u001b[1mFound 4 labeled objects at t=19\u001b[0m\n",
      "\u001b[32m2025-07-28 09:10:05.816\u001b[0m | \u001b[1mINFO    \u001b[0m | \u001b[36mtrack_gardener.converters.track_array_2_gardener\u001b[0m:\u001b[36mconvert_labeled_frame_to_cells\u001b[0m:\u001b[36m89\u001b[0m - \u001b[1mFound 4 labeled objects at t=20\u001b[0m\n",
      "\u001b[32m2025-07-28 09:10:05.887\u001b[0m | \u001b[1mINFO    \u001b[0m | \u001b[36mtrack_gardener.converters.track_array_2_gardener\u001b[0m:\u001b[36mconvert_labeled_frame_to_cells\u001b[0m:\u001b[36m89\u001b[0m - \u001b[1mFound 4 labeled objects at t=21\u001b[0m\n",
      "\u001b[32m2025-07-28 09:10:05.954\u001b[0m | \u001b[1mINFO    \u001b[0m | \u001b[36mtrack_gardener.converters.track_array_2_gardener\u001b[0m:\u001b[36mconvert_labeled_frame_to_cells\u001b[0m:\u001b[36m89\u001b[0m - \u001b[1mFound 4 labeled objects at t=22\u001b[0m\n",
      "\u001b[32m2025-07-28 09:10:06.008\u001b[0m | \u001b[1mINFO    \u001b[0m | \u001b[36mtrack_gardener.converters.track_array_2_gardener\u001b[0m:\u001b[36mconvert_labeled_frame_to_cells\u001b[0m:\u001b[36m89\u001b[0m - \u001b[1mFound 4 labeled objects at t=23\u001b[0m\n",
      "\u001b[32m2025-07-28 09:10:06.062\u001b[0m | \u001b[1mINFO    \u001b[0m | \u001b[36mtrack_gardener.converters.track_array_2_gardener\u001b[0m:\u001b[36mconvert_labeled_frame_to_cells\u001b[0m:\u001b[36m89\u001b[0m - \u001b[1mFound 4 labeled objects at t=24\u001b[0m\n",
      "\u001b[32m2025-07-28 09:10:06.145\u001b[0m | \u001b[1mINFO    \u001b[0m | \u001b[36mtrack_gardener.converters.track_array_2_gardener\u001b[0m:\u001b[36mconvert_labeled_frame_to_cells\u001b[0m:\u001b[36m89\u001b[0m - \u001b[1mFound 4 labeled objects at t=25\u001b[0m\n",
      "\u001b[32m2025-07-28 09:10:06.233\u001b[0m | \u001b[1mINFO    \u001b[0m | \u001b[36mtrack_gardener.converters.track_array_2_gardener\u001b[0m:\u001b[36mconvert_labeled_frame_to_cells\u001b[0m:\u001b[36m89\u001b[0m - \u001b[1mFound 4 labeled objects at t=26\u001b[0m\n",
      "\u001b[32m2025-07-28 09:10:06.315\u001b[0m | \u001b[1mINFO    \u001b[0m | \u001b[36mtrack_gardener.converters.track_array_2_gardener\u001b[0m:\u001b[36mconvert_labeled_frame_to_cells\u001b[0m:\u001b[36m89\u001b[0m - \u001b[1mFound 4 labeled objects at t=27\u001b[0m\n",
      "\u001b[32m2025-07-28 09:10:06.403\u001b[0m | \u001b[1mINFO    \u001b[0m | \u001b[36mtrack_gardener.converters.track_array_2_gardener\u001b[0m:\u001b[36mconvert_labeled_frame_to_cells\u001b[0m:\u001b[36m89\u001b[0m - \u001b[1mFound 4 labeled objects at t=28\u001b[0m\n",
      "\u001b[32m2025-07-28 09:10:06.483\u001b[0m | \u001b[1mINFO    \u001b[0m | \u001b[36mtrack_gardener.converters.track_array_2_gardener\u001b[0m:\u001b[36mconvert_labeled_frame_to_cells\u001b[0m:\u001b[36m89\u001b[0m - \u001b[1mFound 4 labeled objects at t=29\u001b[0m\n",
      "\u001b[32m2025-07-28 09:10:06.529\u001b[0m | \u001b[1mINFO    \u001b[0m | \u001b[36mtrack_gardener.converters.track_array_2_gardener\u001b[0m:\u001b[36mconvert_labeled_frame_to_cells\u001b[0m:\u001b[36m89\u001b[0m - \u001b[1mFound 4 labeled objects at t=30\u001b[0m\n",
      "\u001b[32m2025-07-28 09:10:06.596\u001b[0m | \u001b[1mINFO    \u001b[0m | \u001b[36mtrack_gardener.converters.track_array_2_gardener\u001b[0m:\u001b[36mconvert_labeled_frame_to_cells\u001b[0m:\u001b[36m89\u001b[0m - \u001b[1mFound 4 labeled objects at t=31\u001b[0m\n",
      "\u001b[32m2025-07-28 09:10:06.670\u001b[0m | \u001b[1mINFO    \u001b[0m | \u001b[36mtrack_gardener.converters.track_array_2_gardener\u001b[0m:\u001b[36mconvert_labeled_frame_to_cells\u001b[0m:\u001b[36m89\u001b[0m - \u001b[1mFound 5 labeled objects at t=32\u001b[0m\n",
      "\u001b[32m2025-07-28 09:10:06.750\u001b[0m | \u001b[1mINFO    \u001b[0m | \u001b[36mtrack_gardener.converters.track_array_2_gardener\u001b[0m:\u001b[36mconvert_labeled_frame_to_cells\u001b[0m:\u001b[36m89\u001b[0m - \u001b[1mFound 6 labeled objects at t=33\u001b[0m\n",
      "\u001b[32m2025-07-28 09:10:06.827\u001b[0m | \u001b[1mINFO    \u001b[0m | \u001b[36mtrack_gardener.converters.track_array_2_gardener\u001b[0m:\u001b[36mconvert_labeled_frame_to_cells\u001b[0m:\u001b[36m89\u001b[0m - \u001b[1mFound 6 labeled objects at t=34\u001b[0m\n",
      "\u001b[32m2025-07-28 09:10:06.932\u001b[0m | \u001b[1mINFO    \u001b[0m | \u001b[36mtrack_gardener.converters.track_array_2_gardener\u001b[0m:\u001b[36mconvert_labeled_frame_to_cells\u001b[0m:\u001b[36m89\u001b[0m - \u001b[1mFound 6 labeled objects at t=35\u001b[0m\n",
      "\u001b[32m2025-07-28 09:10:07.028\u001b[0m | \u001b[1mINFO    \u001b[0m | \u001b[36mtrack_gardener.converters.track_array_2_gardener\u001b[0m:\u001b[36mconvert_labeled_frame_to_cells\u001b[0m:\u001b[36m89\u001b[0m - \u001b[1mFound 6 labeled objects at t=36\u001b[0m\n",
      "\u001b[32m2025-07-28 09:10:07.117\u001b[0m | \u001b[1mINFO    \u001b[0m | \u001b[36mtrack_gardener.converters.track_array_2_gardener\u001b[0m:\u001b[36mconvert_labeled_frame_to_cells\u001b[0m:\u001b[36m89\u001b[0m - \u001b[1mFound 7 labeled objects at t=37\u001b[0m\n",
      "\u001b[32m2025-07-28 09:10:07.236\u001b[0m | \u001b[1mINFO    \u001b[0m | \u001b[36mtrack_gardener.converters.track_array_2_gardener\u001b[0m:\u001b[36mconvert_labeled_frame_to_cells\u001b[0m:\u001b[36m89\u001b[0m - \u001b[1mFound 7 labeled objects at t=38\u001b[0m\n",
      "\u001b[32m2025-07-28 09:10:07.446\u001b[0m | \u001b[1mINFO    \u001b[0m | \u001b[36mtrack_gardener.converters.track_array_2_gardener\u001b[0m:\u001b[36mconvert_labeled_frame_to_cells\u001b[0m:\u001b[36m89\u001b[0m - \u001b[1mFound 7 labeled objects at t=39\u001b[0m\n",
      "\u001b[32m2025-07-28 09:10:07.556\u001b[0m | \u001b[1mINFO    \u001b[0m | \u001b[36mtrack_gardener.converters.track_array_2_gardener\u001b[0m:\u001b[36mconvert_labeled_frame_to_cells\u001b[0m:\u001b[36m89\u001b[0m - \u001b[1mFound 8 labeled objects at t=40\u001b[0m\n",
      "\u001b[32m2025-07-28 09:10:07.653\u001b[0m | \u001b[1mINFO    \u001b[0m | \u001b[36mtrack_gardener.converters.track_array_2_gardener\u001b[0m:\u001b[36mconvert_labeled_frame_to_cells\u001b[0m:\u001b[36m89\u001b[0m - \u001b[1mFound 8 labeled objects at t=41\u001b[0m\n",
      "\u001b[32m2025-07-28 09:10:07.768\u001b[0m | \u001b[1mINFO    \u001b[0m | \u001b[36mtrack_gardener.converters.track_array_2_gardener\u001b[0m:\u001b[36mconvert_labeled_frame_to_cells\u001b[0m:\u001b[36m89\u001b[0m - \u001b[1mFound 8 labeled objects at t=42\u001b[0m\n",
      "\u001b[32m2025-07-28 09:10:07.917\u001b[0m | \u001b[1mINFO    \u001b[0m | \u001b[36mtrack_gardener.converters.track_array_2_gardener\u001b[0m:\u001b[36mconvert_labeled_frame_to_cells\u001b[0m:\u001b[36m89\u001b[0m - \u001b[1mFound 8 labeled objects at t=43\u001b[0m\n",
      "\u001b[32m2025-07-28 09:10:08.045\u001b[0m | \u001b[1mINFO    \u001b[0m | \u001b[36mtrack_gardener.converters.track_array_2_gardener\u001b[0m:\u001b[36mconvert_labeled_frame_to_cells\u001b[0m:\u001b[36m89\u001b[0m - \u001b[1mFound 8 labeled objects at t=44\u001b[0m\n"
     ]
    }
   ],
   "source": [
    "# convert and save to Track Gardener database\n",
    "convert_array_segmentations_to_db(segm_array, config)"
   ]
  },
  {
   "cell_type": "code",
   "execution_count": 7,
   "id": "89fc243b",
   "metadata": {},
   "outputs": [],
   "source": [
    "# guess parent-offspring relationships by space-time proximity\n",
    "db_path = config['database']['path']\n",
    "assign_tracks_relationships(db_path=db_path, parent_radius=100)"
   ]
  },
  {
   "cell_type": "markdown",
   "id": "be0049f2",
   "metadata": {},
   "source": [
    "### Validate the resulting database"
   ]
  },
  {
   "cell_type": "code",
   "execution_count": 13,
   "id": "b8d2f524",
   "metadata": {},
   "outputs": [],
   "source": [
    "from sqlalchemy import create_engine\n",
    "from sqlalchemy.orm import sessionmaker\n",
    "\n",
    "from track_gardener.db.db_validate import run_tracking_db_checks"
   ]
  },
  {
   "cell_type": "code",
   "execution_count": 10,
   "id": "3b34ec6d",
   "metadata": {},
   "outputs": [],
   "source": [
    "engine = create_engine(f'sqlite:///{db_path}')\n",
    "session = sessionmaker(bind=engine)()"
   ]
  },
  {
   "cell_type": "code",
   "execution_count": 14,
   "id": "183af43e",
   "metadata": {},
   "outputs": [
    {
     "data": {
      "text/plain": [
       "['Component {204, 207, 208, 211, 212, 220, 221} has multiple root values: {204, 207, 208, 211, 212, 220, 221}',\n",
       " 'Component {225, 227, 228, 230, 231, 233, 234} has multiple root values: {225, 227, 228, 230, 231, 233, 234}',\n",
       " 'Track 207 has root 207 but parent 204 has root 204',\n",
       " 'Track 208 has root 208 but parent 207 has root 207',\n",
       " 'Track 208 has root 208 but parent 204 has root 204',\n",
       " 'Track 211 has root 211 but parent 220 has root 220',\n",
       " 'Track 211 has root 211 but parent 204 has root 204',\n",
       " 'Track 220 has root 220 but parent 204 has root 204',\n",
       " 'Track 212 has root 212 but parent 220 has root 220',\n",
       " 'Track 212 has root 212 but parent 204 has root 204',\n",
       " 'Track 221 has root 221 but parent 207 has root 207',\n",
       " 'Track 221 has root 221 but parent 204 has root 204',\n",
       " 'Track 227 has root 227 but parent 225 has root 225',\n",
       " 'Track 228 has root 228 but parent 225 has root 225',\n",
       " 'Track 230 has root 230 but parent 228 has root 228',\n",
       " 'Track 230 has root 230 but parent 225 has root 225',\n",
       " 'Track 231 has root 231 but parent 228 has root 228',\n",
       " 'Track 231 has root 231 but parent 225 has root 225',\n",
       " 'Track 233 has root 233 but parent 227 has root 227',\n",
       " 'Track 233 has root 233 but parent 225 has root 225',\n",
       " 'Track 234 has root 234 but parent 227 has root 227',\n",
       " 'Track 234 has root 234 but parent 225 has root 225']"
      ]
     },
     "execution_count": 14,
     "metadata": {},
     "output_type": "execute_result"
    }
   ],
   "source": [
    "run_tracking_db_checks(session)"
   ]
  },
  {
   "cell_type": "markdown",
   "id": "5e5b81ac",
   "metadata": {},
   "source": []
  }
 ],
 "metadata": {
  "kernelspec": {
   "display_name": "gardener-env3",
   "language": "python",
   "name": "python3"
  },
  "language_info": {
   "codemirror_mode": {
    "name": "ipython",
    "version": 3
   },
   "file_extension": ".py",
   "mimetype": "text/x-python",
   "name": "python",
   "nbconvert_exporter": "python",
   "pygments_lexer": "ipython3",
   "version": "3.11.13"
  }
 },
 "nbformat": 4,
 "nbformat_minor": 5
}
