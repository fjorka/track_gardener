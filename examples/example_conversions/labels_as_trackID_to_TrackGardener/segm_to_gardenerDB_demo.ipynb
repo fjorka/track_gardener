{
 "cells": [
  {
   "cell_type": "markdown",
   "id": "a6fd91cd",
   "metadata": {},
   "source": [
    "## Example: Converting a Segmentation Stack for Use with TrackGardener"
   ]
  },
  {
   "cell_type": "markdown",
   "id": "a07705e9",
   "metadata": {},
   "source": [
    "This notebook provides a practical example of converting a segmentation stack - where each object’s value corresponds to its unique TrackID - to a TrackGardener database using the configuration file `Fluo-N2DL-HeLa-01_config_trackID.yaml`.\n",
    "\n",
    "In this workflow, relationships between parent and offspring tracks are inferred based on their proximity in time and space. This approach is generally error-prone and not recommended for most applications. For more accurate lineage relationships, use an explicit graph structure; see labels_and_geff_to_TrackGardener for details of importing the graph structure from the `geff` format.\n",
    "\n",
    "You can reuse the configuration file demonstrated here with the TrackGardener plugin itself. Just be sure to specify the correct paths to your imaging dataset and the TrackGardener database within the config file. Using absolute (rather than relative as for the purpose of this example) paths is the safest choice to ensure your files are correctly located."
   ]
  },
  {
   "cell_type": "code",
   "execution_count": 1,
   "id": "5133a5f5",
   "metadata": {},
   "outputs": [],
   "source": [
    "import dask.array as da\n",
    "import yaml\n",
    "\n",
    "from track_gardener.converters.track_array_2_gardener import (\n",
    "    assign_parent_offspring_relationships,\n",
    "    convert_array_segmentations_to_db,\n",
    ")"
   ]
  },
  {
   "cell_type": "code",
   "execution_count": null,
   "id": "bf1a60e6",
   "metadata": {},
   "outputs": [],
   "source": [
    "# pathways to the segmentation stack and configuration file\n",
    "\n",
    "segm_path = './Fluo-N2DL-HeLa-01_segm.zarr/labels'\n",
    "config_path = './Fluo-N2DL-HeLa-01_config_trackID.yaml'"
   ]
  },
  {
   "cell_type": "code",
   "execution_count": 3,
   "id": "ea693ec7",
   "metadata": {},
   "outputs": [],
   "source": [
    "# read segmentation array\n",
    "segm_array = da.from_zarr(segm_path)"
   ]
  },
  {
   "cell_type": "code",
   "execution_count": 6,
   "id": "14aaf9cc",
   "metadata": {},
   "outputs": [],
   "source": [
    "# read in configuration file\n",
    "with open(config_path) as file:\n",
    "    config = yaml.safe_load(file)"
   ]
  },
  {
   "cell_type": "code",
   "execution_count": 7,
   "id": "db7c514d",
   "metadata": {},
   "outputs": [
    {
     "name": "stderr",
     "output_type": "stream",
     "text": [
      "\u001b[32m2025-07-25 10:13:48.195\u001b[0m | \u001b[1mINFO    \u001b[0m | \u001b[36mtrack_gardener.converters.track_array_2_gardener\u001b[0m:\u001b[36mconvert_labeled_frame_to_cells\u001b[0m:\u001b[36m89\u001b[0m - \u001b[1mFound 2 labeled objects at t=0\u001b[0m\n",
      "\u001b[32m2025-07-25 10:13:48.267\u001b[0m | \u001b[1mINFO    \u001b[0m | \u001b[36mtrack_gardener.converters.track_array_2_gardener\u001b[0m:\u001b[36mconvert_labeled_frame_to_cells\u001b[0m:\u001b[36m89\u001b[0m - \u001b[1mFound 2 labeled objects at t=1\u001b[0m\n",
      "\u001b[32m2025-07-25 10:13:48.322\u001b[0m | \u001b[1mINFO    \u001b[0m | \u001b[36mtrack_gardener.converters.track_array_2_gardener\u001b[0m:\u001b[36mconvert_labeled_frame_to_cells\u001b[0m:\u001b[36m89\u001b[0m - \u001b[1mFound 2 labeled objects at t=2\u001b[0m\n",
      "\u001b[32m2025-07-25 10:13:48.357\u001b[0m | \u001b[1mINFO    \u001b[0m | \u001b[36mtrack_gardener.converters.track_array_2_gardener\u001b[0m:\u001b[36mconvert_labeled_frame_to_cells\u001b[0m:\u001b[36m89\u001b[0m - \u001b[1mFound 3 labeled objects at t=3\u001b[0m\n",
      "\u001b[32m2025-07-25 10:13:48.425\u001b[0m | \u001b[1mINFO    \u001b[0m | \u001b[36mtrack_gardener.converters.track_array_2_gardener\u001b[0m:\u001b[36mconvert_labeled_frame_to_cells\u001b[0m:\u001b[36m89\u001b[0m - \u001b[1mFound 3 labeled objects at t=4\u001b[0m\n",
      "\u001b[32m2025-07-25 10:13:48.504\u001b[0m | \u001b[1mINFO    \u001b[0m | \u001b[36mtrack_gardener.converters.track_array_2_gardener\u001b[0m:\u001b[36mconvert_labeled_frame_to_cells\u001b[0m:\u001b[36m89\u001b[0m - \u001b[1mFound 3 labeled objects at t=5\u001b[0m\n",
      "\u001b[32m2025-07-25 10:13:48.590\u001b[0m | \u001b[1mINFO    \u001b[0m | \u001b[36mtrack_gardener.converters.track_array_2_gardener\u001b[0m:\u001b[36mconvert_labeled_frame_to_cells\u001b[0m:\u001b[36m89\u001b[0m - \u001b[1mFound 4 labeled objects at t=6\u001b[0m\n",
      "\u001b[32m2025-07-25 10:13:48.685\u001b[0m | \u001b[1mINFO    \u001b[0m | \u001b[36mtrack_gardener.converters.track_array_2_gardener\u001b[0m:\u001b[36mconvert_labeled_frame_to_cells\u001b[0m:\u001b[36m89\u001b[0m - \u001b[1mFound 4 labeled objects at t=7\u001b[0m\n",
      "\u001b[32m2025-07-25 10:13:48.780\u001b[0m | \u001b[1mINFO    \u001b[0m | \u001b[36mtrack_gardener.converters.track_array_2_gardener\u001b[0m:\u001b[36mconvert_labeled_frame_to_cells\u001b[0m:\u001b[36m89\u001b[0m - \u001b[1mFound 4 labeled objects at t=8\u001b[0m\n",
      "\u001b[32m2025-07-25 10:13:48.859\u001b[0m | \u001b[1mINFO    \u001b[0m | \u001b[36mtrack_gardener.converters.track_array_2_gardener\u001b[0m:\u001b[36mconvert_labeled_frame_to_cells\u001b[0m:\u001b[36m89\u001b[0m - \u001b[1mFound 4 labeled objects at t=9\u001b[0m\n",
      "\u001b[32m2025-07-25 10:13:48.927\u001b[0m | \u001b[1mINFO    \u001b[0m | \u001b[36mtrack_gardener.converters.track_array_2_gardener\u001b[0m:\u001b[36mconvert_labeled_frame_to_cells\u001b[0m:\u001b[36m89\u001b[0m - \u001b[1mFound 4 labeled objects at t=10\u001b[0m\n",
      "\u001b[32m2025-07-25 10:13:49.020\u001b[0m | \u001b[1mINFO    \u001b[0m | \u001b[36mtrack_gardener.converters.track_array_2_gardener\u001b[0m:\u001b[36mconvert_labeled_frame_to_cells\u001b[0m:\u001b[36m89\u001b[0m - \u001b[1mFound 4 labeled objects at t=11\u001b[0m\n",
      "\u001b[32m2025-07-25 10:13:49.134\u001b[0m | \u001b[1mINFO    \u001b[0m | \u001b[36mtrack_gardener.converters.track_array_2_gardener\u001b[0m:\u001b[36mconvert_labeled_frame_to_cells\u001b[0m:\u001b[36m89\u001b[0m - \u001b[1mFound 4 labeled objects at t=12\u001b[0m\n",
      "\u001b[32m2025-07-25 10:13:49.230\u001b[0m | \u001b[1mINFO    \u001b[0m | \u001b[36mtrack_gardener.converters.track_array_2_gardener\u001b[0m:\u001b[36mconvert_labeled_frame_to_cells\u001b[0m:\u001b[36m89\u001b[0m - \u001b[1mFound 4 labeled objects at t=13\u001b[0m\n",
      "\u001b[32m2025-07-25 10:13:49.326\u001b[0m | \u001b[1mINFO    \u001b[0m | \u001b[36mtrack_gardener.converters.track_array_2_gardener\u001b[0m:\u001b[36mconvert_labeled_frame_to_cells\u001b[0m:\u001b[36m89\u001b[0m - \u001b[1mFound 4 labeled objects at t=14\u001b[0m\n",
      "\u001b[32m2025-07-25 10:13:49.395\u001b[0m | \u001b[1mINFO    \u001b[0m | \u001b[36mtrack_gardener.converters.track_array_2_gardener\u001b[0m:\u001b[36mconvert_labeled_frame_to_cells\u001b[0m:\u001b[36m89\u001b[0m - \u001b[1mFound 4 labeled objects at t=15\u001b[0m\n",
      "\u001b[32m2025-07-25 10:13:49.469\u001b[0m | \u001b[1mINFO    \u001b[0m | \u001b[36mtrack_gardener.converters.track_array_2_gardener\u001b[0m:\u001b[36mconvert_labeled_frame_to_cells\u001b[0m:\u001b[36m89\u001b[0m - \u001b[1mFound 4 labeled objects at t=16\u001b[0m\n",
      "\u001b[32m2025-07-25 10:13:49.539\u001b[0m | \u001b[1mINFO    \u001b[0m | \u001b[36mtrack_gardener.converters.track_array_2_gardener\u001b[0m:\u001b[36mconvert_labeled_frame_to_cells\u001b[0m:\u001b[36m89\u001b[0m - \u001b[1mFound 4 labeled objects at t=17\u001b[0m\n",
      "\u001b[32m2025-07-25 10:13:49.630\u001b[0m | \u001b[1mINFO    \u001b[0m | \u001b[36mtrack_gardener.converters.track_array_2_gardener\u001b[0m:\u001b[36mconvert_labeled_frame_to_cells\u001b[0m:\u001b[36m89\u001b[0m - \u001b[1mFound 4 labeled objects at t=18\u001b[0m\n",
      "\u001b[32m2025-07-25 10:13:49.716\u001b[0m | \u001b[1mINFO    \u001b[0m | \u001b[36mtrack_gardener.converters.track_array_2_gardener\u001b[0m:\u001b[36mconvert_labeled_frame_to_cells\u001b[0m:\u001b[36m89\u001b[0m - \u001b[1mFound 4 labeled objects at t=19\u001b[0m\n",
      "\u001b[32m2025-07-25 10:13:49.799\u001b[0m | \u001b[1mINFO    \u001b[0m | \u001b[36mtrack_gardener.converters.track_array_2_gardener\u001b[0m:\u001b[36mconvert_labeled_frame_to_cells\u001b[0m:\u001b[36m89\u001b[0m - \u001b[1mFound 4 labeled objects at t=20\u001b[0m\n",
      "\u001b[32m2025-07-25 10:13:49.945\u001b[0m | \u001b[1mINFO    \u001b[0m | \u001b[36mtrack_gardener.converters.track_array_2_gardener\u001b[0m:\u001b[36mconvert_labeled_frame_to_cells\u001b[0m:\u001b[36m89\u001b[0m - \u001b[1mFound 4 labeled objects at t=21\u001b[0m\n",
      "\u001b[32m2025-07-25 10:13:50.035\u001b[0m | \u001b[1mINFO    \u001b[0m | \u001b[36mtrack_gardener.converters.track_array_2_gardener\u001b[0m:\u001b[36mconvert_labeled_frame_to_cells\u001b[0m:\u001b[36m89\u001b[0m - \u001b[1mFound 4 labeled objects at t=22\u001b[0m\n",
      "\u001b[32m2025-07-25 10:13:50.130\u001b[0m | \u001b[1mINFO    \u001b[0m | \u001b[36mtrack_gardener.converters.track_array_2_gardener\u001b[0m:\u001b[36mconvert_labeled_frame_to_cells\u001b[0m:\u001b[36m89\u001b[0m - \u001b[1mFound 4 labeled objects at t=23\u001b[0m\n",
      "\u001b[32m2025-07-25 10:13:50.255\u001b[0m | \u001b[1mINFO    \u001b[0m | \u001b[36mtrack_gardener.converters.track_array_2_gardener\u001b[0m:\u001b[36mconvert_labeled_frame_to_cells\u001b[0m:\u001b[36m89\u001b[0m - \u001b[1mFound 4 labeled objects at t=24\u001b[0m\n",
      "\u001b[32m2025-07-25 10:13:50.344\u001b[0m | \u001b[1mINFO    \u001b[0m | \u001b[36mtrack_gardener.converters.track_array_2_gardener\u001b[0m:\u001b[36mconvert_labeled_frame_to_cells\u001b[0m:\u001b[36m89\u001b[0m - \u001b[1mFound 4 labeled objects at t=25\u001b[0m\n",
      "\u001b[32m2025-07-25 10:13:50.401\u001b[0m | \u001b[1mINFO    \u001b[0m | \u001b[36mtrack_gardener.converters.track_array_2_gardener\u001b[0m:\u001b[36mconvert_labeled_frame_to_cells\u001b[0m:\u001b[36m89\u001b[0m - \u001b[1mFound 4 labeled objects at t=26\u001b[0m\n",
      "\u001b[32m2025-07-25 10:13:50.466\u001b[0m | \u001b[1mINFO    \u001b[0m | \u001b[36mtrack_gardener.converters.track_array_2_gardener\u001b[0m:\u001b[36mconvert_labeled_frame_to_cells\u001b[0m:\u001b[36m89\u001b[0m - \u001b[1mFound 4 labeled objects at t=27\u001b[0m\n",
      "\u001b[32m2025-07-25 10:13:50.530\u001b[0m | \u001b[1mINFO    \u001b[0m | \u001b[36mtrack_gardener.converters.track_array_2_gardener\u001b[0m:\u001b[36mconvert_labeled_frame_to_cells\u001b[0m:\u001b[36m89\u001b[0m - \u001b[1mFound 4 labeled objects at t=28\u001b[0m\n",
      "\u001b[32m2025-07-25 10:13:50.625\u001b[0m | \u001b[1mINFO    \u001b[0m | \u001b[36mtrack_gardener.converters.track_array_2_gardener\u001b[0m:\u001b[36mconvert_labeled_frame_to_cells\u001b[0m:\u001b[36m89\u001b[0m - \u001b[1mFound 4 labeled objects at t=29\u001b[0m\n",
      "\u001b[32m2025-07-25 10:13:50.714\u001b[0m | \u001b[1mINFO    \u001b[0m | \u001b[36mtrack_gardener.converters.track_array_2_gardener\u001b[0m:\u001b[36mconvert_labeled_frame_to_cells\u001b[0m:\u001b[36m89\u001b[0m - \u001b[1mFound 4 labeled objects at t=30\u001b[0m\n",
      "\u001b[32m2025-07-25 10:13:50.796\u001b[0m | \u001b[1mINFO    \u001b[0m | \u001b[36mtrack_gardener.converters.track_array_2_gardener\u001b[0m:\u001b[36mconvert_labeled_frame_to_cells\u001b[0m:\u001b[36m89\u001b[0m - \u001b[1mFound 4 labeled objects at t=31\u001b[0m\n",
      "\u001b[32m2025-07-25 10:13:50.872\u001b[0m | \u001b[1mINFO    \u001b[0m | \u001b[36mtrack_gardener.converters.track_array_2_gardener\u001b[0m:\u001b[36mconvert_labeled_frame_to_cells\u001b[0m:\u001b[36m89\u001b[0m - \u001b[1mFound 5 labeled objects at t=32\u001b[0m\n",
      "\u001b[32m2025-07-25 10:13:50.943\u001b[0m | \u001b[1mINFO    \u001b[0m | \u001b[36mtrack_gardener.converters.track_array_2_gardener\u001b[0m:\u001b[36mconvert_labeled_frame_to_cells\u001b[0m:\u001b[36m89\u001b[0m - \u001b[1mFound 6 labeled objects at t=33\u001b[0m\n",
      "\u001b[32m2025-07-25 10:13:51.035\u001b[0m | \u001b[1mINFO    \u001b[0m | \u001b[36mtrack_gardener.converters.track_array_2_gardener\u001b[0m:\u001b[36mconvert_labeled_frame_to_cells\u001b[0m:\u001b[36m89\u001b[0m - \u001b[1mFound 6 labeled objects at t=34\u001b[0m\n",
      "\u001b[32m2025-07-25 10:13:51.124\u001b[0m | \u001b[1mINFO    \u001b[0m | \u001b[36mtrack_gardener.converters.track_array_2_gardener\u001b[0m:\u001b[36mconvert_labeled_frame_to_cells\u001b[0m:\u001b[36m89\u001b[0m - \u001b[1mFound 6 labeled objects at t=35\u001b[0m\n",
      "\u001b[32m2025-07-25 10:13:51.257\u001b[0m | \u001b[1mINFO    \u001b[0m | \u001b[36mtrack_gardener.converters.track_array_2_gardener\u001b[0m:\u001b[36mconvert_labeled_frame_to_cells\u001b[0m:\u001b[36m89\u001b[0m - \u001b[1mFound 6 labeled objects at t=36\u001b[0m\n",
      "\u001b[32m2025-07-25 10:13:51.373\u001b[0m | \u001b[1mINFO    \u001b[0m | \u001b[36mtrack_gardener.converters.track_array_2_gardener\u001b[0m:\u001b[36mconvert_labeled_frame_to_cells\u001b[0m:\u001b[36m89\u001b[0m - \u001b[1mFound 7 labeled objects at t=37\u001b[0m\n",
      "\u001b[32m2025-07-25 10:13:51.482\u001b[0m | \u001b[1mINFO    \u001b[0m | \u001b[36mtrack_gardener.converters.track_array_2_gardener\u001b[0m:\u001b[36mconvert_labeled_frame_to_cells\u001b[0m:\u001b[36m89\u001b[0m - \u001b[1mFound 7 labeled objects at t=38\u001b[0m\n",
      "\u001b[32m2025-07-25 10:13:51.588\u001b[0m | \u001b[1mINFO    \u001b[0m | \u001b[36mtrack_gardener.converters.track_array_2_gardener\u001b[0m:\u001b[36mconvert_labeled_frame_to_cells\u001b[0m:\u001b[36m89\u001b[0m - \u001b[1mFound 7 labeled objects at t=39\u001b[0m\n",
      "\u001b[32m2025-07-25 10:13:51.660\u001b[0m | \u001b[1mINFO    \u001b[0m | \u001b[36mtrack_gardener.converters.track_array_2_gardener\u001b[0m:\u001b[36mconvert_labeled_frame_to_cells\u001b[0m:\u001b[36m89\u001b[0m - \u001b[1mFound 8 labeled objects at t=40\u001b[0m\n",
      "\u001b[32m2025-07-25 10:13:51.763\u001b[0m | \u001b[1mINFO    \u001b[0m | \u001b[36mtrack_gardener.converters.track_array_2_gardener\u001b[0m:\u001b[36mconvert_labeled_frame_to_cells\u001b[0m:\u001b[36m89\u001b[0m - \u001b[1mFound 8 labeled objects at t=41\u001b[0m\n",
      "\u001b[32m2025-07-25 10:13:51.884\u001b[0m | \u001b[1mINFO    \u001b[0m | \u001b[36mtrack_gardener.converters.track_array_2_gardener\u001b[0m:\u001b[36mconvert_labeled_frame_to_cells\u001b[0m:\u001b[36m89\u001b[0m - \u001b[1mFound 8 labeled objects at t=42\u001b[0m\n",
      "\u001b[32m2025-07-25 10:13:51.989\u001b[0m | \u001b[1mINFO    \u001b[0m | \u001b[36mtrack_gardener.converters.track_array_2_gardener\u001b[0m:\u001b[36mconvert_labeled_frame_to_cells\u001b[0m:\u001b[36m89\u001b[0m - \u001b[1mFound 8 labeled objects at t=43\u001b[0m\n",
      "\u001b[32m2025-07-25 10:13:52.143\u001b[0m | \u001b[1mINFO    \u001b[0m | \u001b[36mtrack_gardener.converters.track_array_2_gardener\u001b[0m:\u001b[36mconvert_labeled_frame_to_cells\u001b[0m:\u001b[36m89\u001b[0m - \u001b[1mFound 8 labeled objects at t=44\u001b[0m\n"
     ]
    }
   ],
   "source": [
    "# convert and save to Track Gardener database\n",
    "convert_array_segmentations_to_db(segm_array, config)"
   ]
  },
  {
   "cell_type": "code",
   "execution_count": 8,
   "id": "89fc243b",
   "metadata": {},
   "outputs": [
    {
     "name": "stderr",
     "output_type": "stream",
     "text": [
      "\u001b[32m2025-07-25 10:14:03.618\u001b[0m | \u001b[1mINFO    \u001b[0m | \u001b[36mtrack_gardener.converters.track_array_2_gardener\u001b[0m:\u001b[36massign_parent_offspring_relationships\u001b[0m:\u001b[36m172\u001b[0m - \u001b[1mConnecting to database at Fluo-N2DL-HeLa-01_conversion_result.db\u001b[0m\n",
      "\u001b[32m2025-07-25 10:14:03.629\u001b[0m | \u001b[1mINFO    \u001b[0m | \u001b[36mtrack_gardener.converters.track_array_2_gardener\u001b[0m:\u001b[36massign_parent_offspring_relationships\u001b[0m:\u001b[36m182\u001b[0m - \u001b[1mFound 12 candidate offspring tracks\u001b[0m\n",
      "\u001b[32m2025-07-25 10:14:03.644\u001b[0m | \u001b[34m\u001b[1mDEBUG   \u001b[0m | \u001b[36mtrack_gardener.converters.track_array_2_gardener\u001b[0m:\u001b[36massign_parent_offspring_relationships\u001b[0m:\u001b[36m235\u001b[0m - \u001b[34m\u001b[1mAssigned parent 204 to child 207 (dist=10.00)\u001b[0m\n",
      "\u001b[32m2025-07-25 10:14:03.655\u001b[0m | \u001b[34m\u001b[1mDEBUG   \u001b[0m | \u001b[36mtrack_gardener.converters.track_array_2_gardener\u001b[0m:\u001b[36massign_parent_offspring_relationships\u001b[0m:\u001b[36m235\u001b[0m - \u001b[34m\u001b[1mAssigned parent 207 to child 208 (dist=20.40)\u001b[0m\n",
      "\u001b[32m2025-07-25 10:14:03.660\u001b[0m | \u001b[34m\u001b[1mDEBUG   \u001b[0m | \u001b[36mtrack_gardener.converters.track_array_2_gardener\u001b[0m:\u001b[36massign_parent_offspring_relationships\u001b[0m:\u001b[36m235\u001b[0m - \u001b[34m\u001b[1mAssigned parent 220 to child 211 (dist=25.00)\u001b[0m\n",
      "\u001b[32m2025-07-25 10:14:03.664\u001b[0m | \u001b[34m\u001b[1mDEBUG   \u001b[0m | \u001b[36mtrack_gardener.converters.track_array_2_gardener\u001b[0m:\u001b[36massign_parent_offspring_relationships\u001b[0m:\u001b[36m235\u001b[0m - \u001b[34m\u001b[1mAssigned parent 220 to child 212 (dist=13.00)\u001b[0m\n",
      "\u001b[32m2025-07-25 10:14:03.668\u001b[0m | \u001b[34m\u001b[1mDEBUG   \u001b[0m | \u001b[36mtrack_gardener.converters.track_array_2_gardener\u001b[0m:\u001b[36massign_parent_offspring_relationships\u001b[0m:\u001b[36m235\u001b[0m - \u001b[34m\u001b[1mAssigned parent 204 to child 220 (dist=23.09)\u001b[0m\n",
      "\u001b[32m2025-07-25 10:14:03.671\u001b[0m | \u001b[34m\u001b[1mDEBUG   \u001b[0m | \u001b[36mtrack_gardener.converters.track_array_2_gardener\u001b[0m:\u001b[36massign_parent_offspring_relationships\u001b[0m:\u001b[36m235\u001b[0m - \u001b[34m\u001b[1mAssigned parent 207 to child 221 (dist=17.12)\u001b[0m\n",
      "\u001b[32m2025-07-25 10:14:03.674\u001b[0m | \u001b[34m\u001b[1mDEBUG   \u001b[0m | \u001b[36mtrack_gardener.converters.track_array_2_gardener\u001b[0m:\u001b[36massign_parent_offspring_relationships\u001b[0m:\u001b[36m235\u001b[0m - \u001b[34m\u001b[1mAssigned parent 225 to child 227 (dist=20.62)\u001b[0m\n",
      "\u001b[32m2025-07-25 10:14:03.679\u001b[0m | \u001b[34m\u001b[1mDEBUG   \u001b[0m | \u001b[36mtrack_gardener.converters.track_array_2_gardener\u001b[0m:\u001b[36massign_parent_offspring_relationships\u001b[0m:\u001b[36m235\u001b[0m - \u001b[34m\u001b[1mAssigned parent 225 to child 228 (dist=15.81)\u001b[0m\n",
      "\u001b[32m2025-07-25 10:14:03.682\u001b[0m | \u001b[34m\u001b[1mDEBUG   \u001b[0m | \u001b[36mtrack_gardener.converters.track_array_2_gardener\u001b[0m:\u001b[36massign_parent_offspring_relationships\u001b[0m:\u001b[36m235\u001b[0m - \u001b[34m\u001b[1mAssigned parent 228 to child 230 (dist=23.02)\u001b[0m\n",
      "\u001b[32m2025-07-25 10:14:03.686\u001b[0m | \u001b[34m\u001b[1mDEBUG   \u001b[0m | \u001b[36mtrack_gardener.converters.track_array_2_gardener\u001b[0m:\u001b[36massign_parent_offspring_relationships\u001b[0m:\u001b[36m235\u001b[0m - \u001b[34m\u001b[1mAssigned parent 228 to child 231 (dist=21.47)\u001b[0m\n",
      "\u001b[32m2025-07-25 10:14:03.689\u001b[0m | \u001b[34m\u001b[1mDEBUG   \u001b[0m | \u001b[36mtrack_gardener.converters.track_array_2_gardener\u001b[0m:\u001b[36massign_parent_offspring_relationships\u001b[0m:\u001b[36m235\u001b[0m - \u001b[34m\u001b[1mAssigned parent 227 to child 233 (dist=21.10)\u001b[0m\n",
      "\u001b[32m2025-07-25 10:14:03.693\u001b[0m | \u001b[34m\u001b[1mDEBUG   \u001b[0m | \u001b[36mtrack_gardener.converters.track_array_2_gardener\u001b[0m:\u001b[36massign_parent_offspring_relationships\u001b[0m:\u001b[36m235\u001b[0m - \u001b[34m\u001b[1mAssigned parent 227 to child 234 (dist=17.46)\u001b[0m\n",
      "\u001b[32m2025-07-25 10:14:03.708\u001b[0m | \u001b[32m\u001b[1mSUCCESS \u001b[0m | \u001b[36mtrack_gardener.converters.track_array_2_gardener\u001b[0m:\u001b[36massign_parent_offspring_relationships\u001b[0m:\u001b[36m249\u001b[0m - \u001b[32m\u001b[1mParent-offspring assignment complete.\u001b[0m\n"
     ]
    }
   ],
   "source": [
    "# guess parent-offspring relationships by space-time proximity\n",
    "assign_parent_offspring_relationships(db_path=config['database']['path'], parent_radius=100)"
   ]
  },
  {
   "cell_type": "markdown",
   "id": "5e5b81ac",
   "metadata": {},
   "source": []
  }
 ],
 "metadata": {
  "kernelspec": {
   "display_name": "gardener-env2",
   "language": "python",
   "name": "python3"
  },
  "language_info": {
   "codemirror_mode": {
    "name": "ipython",
    "version": 3
   },
   "file_extension": ".py",
   "mimetype": "text/x-python",
   "name": "python",
   "nbconvert_exporter": "python",
   "pygments_lexer": "ipython3",
   "version": "3.11.13"
  }
 },
 "nbformat": 4,
 "nbformat_minor": 5
}
