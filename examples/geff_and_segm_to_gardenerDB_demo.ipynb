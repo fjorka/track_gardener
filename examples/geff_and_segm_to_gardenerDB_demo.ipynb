{
 "cells": [
  {
   "cell_type": "code",
   "execution_count": 1,
   "id": "0fed07f9",
   "metadata": {},
   "outputs": [],
   "source": [
    "import dask.array as da\n",
    "import yaml\n",
    "\n",
    "from track_gardener.converters.geff_2_gardener import segm_geff_to_db\n",
    "from track_gardener.converters.validator_seg_id import validate_geff_seg_ids"
   ]
  },
  {
   "cell_type": "code",
   "execution_count": 4,
   "id": "41cf5380",
   "metadata": {},
   "outputs": [],
   "source": [
    "geff_group_path = r\"D:\\test_data\\Fluo-N2DL-HeLa-01.zarr\\tracks_corr\"\n",
    "segmentation_path = r\"D:\\test_data\\Fluo-N2DL-HeLa-01.zarr\\seg-ST\"\n",
    "\n",
    "config_path = r'D:\\test_data\\Fluo-N2DL-HeLa-01_config.yaml'"
   ]
  },
  {
   "cell_type": "code",
   "execution_count": 5,
   "id": "e3ebb633",
   "metadata": {},
   "outputs": [
    {
     "name": "stderr",
     "output_type": "stream",
     "text": [
      "\u001b[32m2025-07-23 15:51:29.624\u001b[0m | \u001b[1mINFO    \u001b[0m | \u001b[36mtrack_gardener.converters.validator_seg_id\u001b[0m:\u001b[36mvalidate_geff_seg_ids\u001b[0m:\u001b[36m31\u001b[0m - \u001b[1mOpening GEFF group from: D:\\test_data\\Fluo-N2DL-HeLa-01.zarr\\tracks_corr\u001b[0m\n",
      "\u001b[32m2025-07-23 15:51:29.677\u001b[0m | \u001b[1mINFO    \u001b[0m | \u001b[36mtrack_gardener.converters.validator_seg_id\u001b[0m:\u001b[36mvalidate_geff_seg_ids\u001b[0m:\u001b[36m52\u001b[0m - \u001b[1mBeginning node validation...\u001b[0m\n",
      "\u001b[32m2025-07-23 15:52:35.065\u001b[0m | \u001b[32m\u001b[1mSUCCESS \u001b[0m | \u001b[36mtrack_gardener.converters.validator_seg_id\u001b[0m:\u001b[36mvalidate_geff_seg_ids\u001b[0m:\u001b[36m110\u001b[0m - \u001b[32m\u001b[1mAll validations passed successfully.\u001b[0m\n"
     ]
    },
    {
     "name": "stdout",
     "output_type": "stream",
     "text": [
      "Test passed: True, details: {'node_issues': [], 'extra_segments': None}.\n"
     ]
    }
   ],
   "source": [
    "p, details = validate_geff_seg_ids(\n",
    "    geff_group_path = geff_group_path,\n",
    "    segmentation_path = segmentation_path,\n",
    "    seg_id_field = \"segm_id\",\n",
    "    check_xy_position = False,\n",
    "    check_extra_segmentations = False)\n",
    "\n",
    "print(f'Test passed: {p}, details: {details}.')"
   ]
  },
  {
   "cell_type": "code",
   "execution_count": 6,
   "id": "16be17e7",
   "metadata": {},
   "outputs": [
    {
     "name": "stderr",
     "output_type": "stream",
     "text": [
      "\u001b[32m2025-07-23 15:52:35.087\u001b[0m | \u001b[1mINFO    \u001b[0m | \u001b[36mtrack_gardener.converters.validator_seg_id\u001b[0m:\u001b[36mvalidate_geff_seg_ids\u001b[0m:\u001b[36m31\u001b[0m - \u001b[1mOpening GEFF group from: D:\\test_data\\Fluo-N2DL-HeLa-01.zarr\\tracks_corr\u001b[0m\n",
      "\u001b[32m2025-07-23 15:52:35.182\u001b[0m | \u001b[1mINFO    \u001b[0m | \u001b[36mtrack_gardener.converters.validator_seg_id\u001b[0m:\u001b[36mvalidate_geff_seg_ids\u001b[0m:\u001b[36m52\u001b[0m - \u001b[1mBeginning node validation...\u001b[0m\n",
      "\u001b[32m2025-07-23 15:53:14.839\u001b[0m | \u001b[33m\u001b[1mWARNING \u001b[0m | \u001b[36mtrack_gardener.converters.validator_seg_id\u001b[0m:\u001b[36mvalidate_geff_seg_ids\u001b[0m:\u001b[36m83\u001b[0m - \u001b[33m\u001b[1mXY mismatch for index 188 at frame 14: expected position: (171,495)\u001b[0m\n",
      "\u001b[32m2025-07-23 15:53:34.584\u001b[0m | \u001b[33m\u001b[1mWARNING \u001b[0m | \u001b[36mtrack_gardener.converters.validator_seg_id\u001b[0m:\u001b[36mvalidate_geff_seg_ids\u001b[0m:\u001b[36m83\u001b[0m - \u001b[33m\u001b[1mXY mismatch for index 324 at frame 83: expected position: (773,323)\u001b[0m\n",
      "\u001b[32m2025-07-23 15:53:42.765\u001b[0m | \u001b[1mINFO    \u001b[0m | \u001b[36mtrack_gardener.converters.validator_seg_id\u001b[0m:\u001b[36mvalidate_geff_seg_ids\u001b[0m:\u001b[36m91\u001b[0m - \u001b[1mChecking for extra segmentations not referenced in GEFF...\u001b[0m\n",
      "\u001b[32m2025-07-23 15:53:44.358\u001b[0m | \u001b[33m\u001b[1mWARNING \u001b[0m | \u001b[36mtrack_gardener.converters.validator_seg_id\u001b[0m:\u001b[36mvalidate_geff_seg_ids\u001b[0m:\u001b[36m112\u001b[0m - \u001b[33m\u001b[1mValidation failed for one or more nodes.\u001b[0m\n"
     ]
    },
    {
     "name": "stdout",
     "output_type": "stream",
     "text": [
      "Test passed: False, details: {'node_issues': [(4982, 'xy_mismatch'), (7556, 'xy_mismatch')], 'extra_segments': {}}.\n"
     ]
    }
   ],
   "source": [
    "p, details = validate_geff_seg_ids(\n",
    "    geff_group_path = geff_group_path,\n",
    "    segmentation_path = segmentation_path,\n",
    "    seg_id_field = \"segm_id\",\n",
    "    check_xy_position = True,\n",
    "    check_extra_segmentations = True)\n",
    "\n",
    "print(f'Test passed: {p}, details: {details}.')"
   ]
  },
  {
   "cell_type": "code",
   "execution_count": 7,
   "id": "a73d1a8d",
   "metadata": {},
   "outputs": [],
   "source": [
    "# read in configuration file\n",
    "with open(config_path) as file:\n",
    "    config = yaml.safe_load(file)\n",
    "\n",
    "# get segmentation array\n",
    "segm_array = da.from_zarr(segmentation_path)"
   ]
  },
  {
   "cell_type": "code",
   "execution_count": 8,
   "id": "1a383b52",
   "metadata": {},
   "outputs": [
    {
     "name": "stderr",
     "output_type": "stream",
     "text": [
      "  0%|          | 0/92 [00:00<?, ?it/s]\u001b[32m2025-07-23 15:53:44.569\u001b[0m | \u001b[1mINFO    \u001b[0m | \u001b[36mtrack_gardener.converters.track_array_2_gardener\u001b[0m:\u001b[36mconvert_labeled_frame_to_cells\u001b[0m:\u001b[36m88\u001b[0m - \u001b[1mFound 43 labeled objects at t=0\u001b[0m\n",
      "  1%|          | 1/92 [00:00<00:49,  1.85it/s]\u001b[32m2025-07-23 15:53:45.099\u001b[0m | \u001b[1mINFO    \u001b[0m | \u001b[36mtrack_gardener.converters.track_array_2_gardener\u001b[0m:\u001b[36mconvert_labeled_frame_to_cells\u001b[0m:\u001b[36m88\u001b[0m - \u001b[1mFound 43 labeled objects at t=1\u001b[0m\n",
      "  2%|▏         | 2/92 [00:01<00:44,  2.02it/s]\u001b[32m2025-07-23 15:53:45.560\u001b[0m | \u001b[1mINFO    \u001b[0m | \u001b[36mtrack_gardener.converters.track_array_2_gardener\u001b[0m:\u001b[36mconvert_labeled_frame_to_cells\u001b[0m:\u001b[36m88\u001b[0m - \u001b[1mFound 43 labeled objects at t=2\u001b[0m\n",
      "  3%|▎         | 3/92 [00:01<00:44,  2.02it/s]\u001b[32m2025-07-23 15:53:46.058\u001b[0m | \u001b[1mINFO    \u001b[0m | \u001b[36mtrack_gardener.converters.track_array_2_gardener\u001b[0m:\u001b[36mconvert_labeled_frame_to_cells\u001b[0m:\u001b[36m88\u001b[0m - \u001b[1mFound 46 labeled objects at t=3\u001b[0m\n",
      "  4%|▍         | 4/92 [00:01<00:43,  2.02it/s]\u001b[32m2025-07-23 15:53:46.558\u001b[0m | \u001b[1mINFO    \u001b[0m | \u001b[36mtrack_gardener.converters.track_array_2_gardener\u001b[0m:\u001b[36mconvert_labeled_frame_to_cells\u001b[0m:\u001b[36m88\u001b[0m - \u001b[1mFound 47 labeled objects at t=4\u001b[0m\n",
      "  5%|▌         | 5/92 [00:02<00:44,  1.98it/s]\u001b[32m2025-07-23 15:53:47.078\u001b[0m | \u001b[1mINFO    \u001b[0m | \u001b[36mtrack_gardener.converters.track_array_2_gardener\u001b[0m:\u001b[36mconvert_labeled_frame_to_cells\u001b[0m:\u001b[36m88\u001b[0m - \u001b[1mFound 47 labeled objects at t=5\u001b[0m\n",
      "  7%|▋         | 6/92 [00:03<00:44,  1.95it/s]\u001b[32m2025-07-23 15:53:47.603\u001b[0m | \u001b[1mINFO    \u001b[0m | \u001b[36mtrack_gardener.converters.track_array_2_gardener\u001b[0m:\u001b[36mconvert_labeled_frame_to_cells\u001b[0m:\u001b[36m88\u001b[0m - \u001b[1mFound 48 labeled objects at t=6\u001b[0m\n",
      "  8%|▊         | 7/92 [00:03<00:43,  1.95it/s]\u001b[32m2025-07-23 15:53:48.118\u001b[0m | \u001b[1mINFO    \u001b[0m | \u001b[36mtrack_gardener.converters.track_array_2_gardener\u001b[0m:\u001b[36mconvert_labeled_frame_to_cells\u001b[0m:\u001b[36m88\u001b[0m - \u001b[1mFound 49 labeled objects at t=7\u001b[0m\n",
      "  9%|▊         | 8/92 [00:04<00:44,  1.90it/s]\u001b[32m2025-07-23 15:53:48.676\u001b[0m | \u001b[1mINFO    \u001b[0m | \u001b[36mtrack_gardener.converters.track_array_2_gardener\u001b[0m:\u001b[36mconvert_labeled_frame_to_cells\u001b[0m:\u001b[36m88\u001b[0m - \u001b[1mFound 51 labeled objects at t=8\u001b[0m\n",
      " 10%|▉         | 9/92 [00:04<00:44,  1.85it/s]\u001b[32m2025-07-23 15:53:49.244\u001b[0m | \u001b[1mINFO    \u001b[0m | \u001b[36mtrack_gardener.converters.track_array_2_gardener\u001b[0m:\u001b[36mconvert_labeled_frame_to_cells\u001b[0m:\u001b[36m88\u001b[0m - \u001b[1mFound 51 labeled objects at t=9\u001b[0m\n",
      " 11%|█         | 10/92 [00:05<00:43,  1.90it/s]\u001b[32m2025-07-23 15:53:49.739\u001b[0m | \u001b[1mINFO    \u001b[0m | \u001b[36mtrack_gardener.converters.track_array_2_gardener\u001b[0m:\u001b[36mconvert_labeled_frame_to_cells\u001b[0m:\u001b[36m88\u001b[0m - \u001b[1mFound 54 labeled objects at t=10\u001b[0m\n",
      " 12%|█▏        | 11/92 [00:05<00:43,  1.85it/s]\u001b[32m2025-07-23 15:53:50.314\u001b[0m | \u001b[1mINFO    \u001b[0m | \u001b[36mtrack_gardener.converters.track_array_2_gardener\u001b[0m:\u001b[36mconvert_labeled_frame_to_cells\u001b[0m:\u001b[36m88\u001b[0m - \u001b[1mFound 56 labeled objects at t=11\u001b[0m\n",
      " 13%|█▎        | 12/92 [00:06<00:43,  1.85it/s]\u001b[32m2025-07-23 15:53:50.849\u001b[0m | \u001b[1mINFO    \u001b[0m | \u001b[36mtrack_gardener.converters.track_array_2_gardener\u001b[0m:\u001b[36mconvert_labeled_frame_to_cells\u001b[0m:\u001b[36m88\u001b[0m - \u001b[1mFound 56 labeled objects at t=12\u001b[0m\n",
      " 14%|█▍        | 13/92 [00:06<00:43,  1.81it/s]\u001b[32m2025-07-23 15:53:51.431\u001b[0m | \u001b[1mINFO    \u001b[0m | \u001b[36mtrack_gardener.converters.track_array_2_gardener\u001b[0m:\u001b[36mconvert_labeled_frame_to_cells\u001b[0m:\u001b[36m88\u001b[0m - \u001b[1mFound 59 labeled objects at t=13\u001b[0m\n",
      " 15%|█▌        | 14/92 [00:07<00:48,  1.62it/s]\u001b[32m2025-07-23 15:53:52.206\u001b[0m | \u001b[1mINFO    \u001b[0m | \u001b[36mtrack_gardener.converters.track_array_2_gardener\u001b[0m:\u001b[36mconvert_labeled_frame_to_cells\u001b[0m:\u001b[36m88\u001b[0m - \u001b[1mFound 61 labeled objects at t=14\u001b[0m\n",
      " 16%|█▋        | 15/92 [00:08<00:47,  1.61it/s]\u001b[32m2025-07-23 15:53:52.834\u001b[0m | \u001b[1mINFO    \u001b[0m | \u001b[36mtrack_gardener.converters.track_array_2_gardener\u001b[0m:\u001b[36mconvert_labeled_frame_to_cells\u001b[0m:\u001b[36m88\u001b[0m - \u001b[1mFound 61 labeled objects at t=15\u001b[0m\n",
      " 17%|█▋        | 16/92 [00:08<00:45,  1.67it/s]\u001b[32m2025-07-23 15:53:53.374\u001b[0m | \u001b[1mINFO    \u001b[0m | \u001b[36mtrack_gardener.converters.track_array_2_gardener\u001b[0m:\u001b[36mconvert_labeled_frame_to_cells\u001b[0m:\u001b[36m88\u001b[0m - \u001b[1mFound 62 labeled objects at t=16\u001b[0m\n",
      " 18%|█▊        | 17/92 [00:09<00:50,  1.49it/s]\u001b[32m2025-07-23 15:53:54.228\u001b[0m | \u001b[1mINFO    \u001b[0m | \u001b[36mtrack_gardener.converters.track_array_2_gardener\u001b[0m:\u001b[36mconvert_labeled_frame_to_cells\u001b[0m:\u001b[36m88\u001b[0m - \u001b[1mFound 64 labeled objects at t=17\u001b[0m\n",
      " 20%|█▉        | 18/92 [00:10<00:49,  1.50it/s]\u001b[32m2025-07-23 15:53:54.878\u001b[0m | \u001b[1mINFO    \u001b[0m | \u001b[36mtrack_gardener.converters.track_array_2_gardener\u001b[0m:\u001b[36mconvert_labeled_frame_to_cells\u001b[0m:\u001b[36m88\u001b[0m - \u001b[1mFound 64 labeled objects at t=18\u001b[0m\n",
      " 21%|██        | 19/92 [00:10<00:47,  1.52it/s]\u001b[32m2025-07-23 15:53:55.511\u001b[0m | \u001b[1mINFO    \u001b[0m | \u001b[36mtrack_gardener.converters.track_array_2_gardener\u001b[0m:\u001b[36mconvert_labeled_frame_to_cells\u001b[0m:\u001b[36m88\u001b[0m - \u001b[1mFound 64 labeled objects at t=19\u001b[0m\n",
      " 22%|██▏       | 20/92 [00:11<00:50,  1.44it/s]\u001b[32m2025-07-23 15:53:56.294\u001b[0m | \u001b[1mINFO    \u001b[0m | \u001b[36mtrack_gardener.converters.track_array_2_gardener\u001b[0m:\u001b[36mconvert_labeled_frame_to_cells\u001b[0m:\u001b[36m88\u001b[0m - \u001b[1mFound 64 labeled objects at t=20\u001b[0m\n",
      " 23%|██▎       | 21/92 [00:12<00:47,  1.49it/s]\u001b[32m2025-07-23 15:53:56.907\u001b[0m | \u001b[1mINFO    \u001b[0m | \u001b[36mtrack_gardener.converters.track_array_2_gardener\u001b[0m:\u001b[36mconvert_labeled_frame_to_cells\u001b[0m:\u001b[36m88\u001b[0m - \u001b[1mFound 66 labeled objects at t=21\u001b[0m\n",
      " 24%|██▍       | 22/92 [00:12<00:46,  1.51it/s]\u001b[32m2025-07-23 15:53:57.562\u001b[0m | \u001b[1mINFO    \u001b[0m | \u001b[36mtrack_gardener.converters.track_array_2_gardener\u001b[0m:\u001b[36mconvert_labeled_frame_to_cells\u001b[0m:\u001b[36m88\u001b[0m - \u001b[1mFound 67 labeled objects at t=22\u001b[0m\n",
      " 25%|██▌       | 23/92 [00:13<00:51,  1.34it/s]\u001b[32m2025-07-23 15:53:58.491\u001b[0m | \u001b[1mINFO    \u001b[0m | \u001b[36mtrack_gardener.converters.track_array_2_gardener\u001b[0m:\u001b[36mconvert_labeled_frame_to_cells\u001b[0m:\u001b[36m88\u001b[0m - \u001b[1mFound 70 labeled objects at t=23\u001b[0m\n",
      " 26%|██▌       | 24/92 [00:14<00:54,  1.25it/s]\u001b[32m2025-07-23 15:53:59.411\u001b[0m | \u001b[1mINFO    \u001b[0m | \u001b[36mtrack_gardener.converters.track_array_2_gardener\u001b[0m:\u001b[36mconvert_labeled_frame_to_cells\u001b[0m:\u001b[36m88\u001b[0m - \u001b[1mFound 70 labeled objects at t=24\u001b[0m\n",
      " 27%|██▋       | 25/92 [00:15<00:55,  1.21it/s]\u001b[32m2025-07-23 15:54:00.318\u001b[0m | \u001b[1mINFO    \u001b[0m | \u001b[36mtrack_gardener.converters.track_array_2_gardener\u001b[0m:\u001b[36mconvert_labeled_frame_to_cells\u001b[0m:\u001b[36m88\u001b[0m - \u001b[1mFound 69 labeled objects at t=25\u001b[0m\n",
      " 28%|██▊       | 26/92 [00:16<00:51,  1.27it/s]\u001b[32m2025-07-23 15:54:00.993\u001b[0m | \u001b[1mINFO    \u001b[0m | \u001b[36mtrack_gardener.converters.track_array_2_gardener\u001b[0m:\u001b[36mconvert_labeled_frame_to_cells\u001b[0m:\u001b[36m88\u001b[0m - \u001b[1mFound 70 labeled objects at t=26\u001b[0m\n",
      " 29%|██▉       | 27/92 [00:17<00:47,  1.37it/s]\u001b[32m2025-07-23 15:54:01.601\u001b[0m | \u001b[1mINFO    \u001b[0m | \u001b[36mtrack_gardener.converters.track_array_2_gardener\u001b[0m:\u001b[36mconvert_labeled_frame_to_cells\u001b[0m:\u001b[36m88\u001b[0m - \u001b[1mFound 71 labeled objects at t=27\u001b[0m\n",
      " 30%|███       | 28/92 [00:17<00:47,  1.35it/s]\u001b[32m2025-07-23 15:54:02.364\u001b[0m | \u001b[1mINFO    \u001b[0m | \u001b[36mtrack_gardener.converters.track_array_2_gardener\u001b[0m:\u001b[36mconvert_labeled_frame_to_cells\u001b[0m:\u001b[36m88\u001b[0m - \u001b[1mFound 71 labeled objects at t=28\u001b[0m\n",
      " 32%|███▏      | 29/92 [00:18<00:45,  1.38it/s]\u001b[32m2025-07-23 15:54:03.055\u001b[0m | \u001b[1mINFO    \u001b[0m | \u001b[36mtrack_gardener.converters.track_array_2_gardener\u001b[0m:\u001b[36mconvert_labeled_frame_to_cells\u001b[0m:\u001b[36m88\u001b[0m - \u001b[1mFound 72 labeled objects at t=29\u001b[0m\n",
      " 33%|███▎      | 30/92 [00:19<00:49,  1.26it/s]\u001b[32m2025-07-23 15:54:04.011\u001b[0m | \u001b[1mINFO    \u001b[0m | \u001b[36mtrack_gardener.converters.track_array_2_gardener\u001b[0m:\u001b[36mconvert_labeled_frame_to_cells\u001b[0m:\u001b[36m88\u001b[0m - \u001b[1mFound 71 labeled objects at t=30\u001b[0m\n",
      " 34%|███▎      | 31/92 [00:20<00:50,  1.20it/s]\u001b[32m2025-07-23 15:54:04.922\u001b[0m | \u001b[1mINFO    \u001b[0m | \u001b[36mtrack_gardener.converters.track_array_2_gardener\u001b[0m:\u001b[36mconvert_labeled_frame_to_cells\u001b[0m:\u001b[36m88\u001b[0m - \u001b[1mFound 73 labeled objects at t=31\u001b[0m\n",
      " 35%|███▍      | 32/92 [00:21<00:49,  1.22it/s]\u001b[32m2025-07-23 15:54:05.741\u001b[0m | \u001b[1mINFO    \u001b[0m | \u001b[36mtrack_gardener.converters.track_array_2_gardener\u001b[0m:\u001b[36mconvert_labeled_frame_to_cells\u001b[0m:\u001b[36m88\u001b[0m - \u001b[1mFound 73 labeled objects at t=32\u001b[0m\n",
      " 36%|███▌      | 33/92 [00:22<00:50,  1.17it/s]\u001b[32m2025-07-23 15:54:06.660\u001b[0m | \u001b[1mINFO    \u001b[0m | \u001b[36mtrack_gardener.converters.track_array_2_gardener\u001b[0m:\u001b[36mconvert_labeled_frame_to_cells\u001b[0m:\u001b[36m88\u001b[0m - \u001b[1mFound 74 labeled objects at t=33\u001b[0m\n",
      " 37%|███▋      | 34/92 [00:23<00:51,  1.12it/s]\u001b[32m2025-07-23 15:54:07.634\u001b[0m | \u001b[1mINFO    \u001b[0m | \u001b[36mtrack_gardener.converters.track_array_2_gardener\u001b[0m:\u001b[36mconvert_labeled_frame_to_cells\u001b[0m:\u001b[36m88\u001b[0m - \u001b[1mFound 76 labeled objects at t=34\u001b[0m\n",
      " 38%|███▊      | 35/92 [00:24<00:51,  1.10it/s]\u001b[32m2025-07-23 15:54:08.582\u001b[0m | \u001b[1mINFO    \u001b[0m | \u001b[36mtrack_gardener.converters.track_array_2_gardener\u001b[0m:\u001b[36mconvert_labeled_frame_to_cells\u001b[0m:\u001b[36m88\u001b[0m - \u001b[1mFound 76 labeled objects at t=35\u001b[0m\n",
      " 39%|███▉      | 36/92 [00:24<00:49,  1.14it/s]\u001b[32m2025-07-23 15:54:09.400\u001b[0m | \u001b[1mINFO    \u001b[0m | \u001b[36mtrack_gardener.converters.track_array_2_gardener\u001b[0m:\u001b[36mconvert_labeled_frame_to_cells\u001b[0m:\u001b[36m88\u001b[0m - \u001b[1mFound 78 labeled objects at t=36\u001b[0m\n",
      " 40%|████      | 37/92 [00:25<00:46,  1.18it/s]\u001b[32m2025-07-23 15:54:10.170\u001b[0m | \u001b[1mINFO    \u001b[0m | \u001b[36mtrack_gardener.converters.track_array_2_gardener\u001b[0m:\u001b[36mconvert_labeled_frame_to_cells\u001b[0m:\u001b[36m88\u001b[0m - \u001b[1mFound 75 labeled objects at t=37\u001b[0m\n",
      " 41%|████▏     | 38/92 [00:26<00:47,  1.13it/s]\u001b[32m2025-07-23 15:54:11.148\u001b[0m | \u001b[1mINFO    \u001b[0m | \u001b[36mtrack_gardener.converters.track_array_2_gardener\u001b[0m:\u001b[36mconvert_labeled_frame_to_cells\u001b[0m:\u001b[36m88\u001b[0m - \u001b[1mFound 82 labeled objects at t=38\u001b[0m\n",
      " 42%|████▏     | 39/92 [00:27<00:49,  1.08it/s]\u001b[32m2025-07-23 15:54:12.174\u001b[0m | \u001b[1mINFO    \u001b[0m | \u001b[36mtrack_gardener.converters.track_array_2_gardener\u001b[0m:\u001b[36mconvert_labeled_frame_to_cells\u001b[0m:\u001b[36m88\u001b[0m - \u001b[1mFound 82 labeled objects at t=39\u001b[0m\n",
      " 43%|████▎     | 40/92 [00:28<00:49,  1.04it/s]\u001b[32m2025-07-23 15:54:13.207\u001b[0m | \u001b[1mINFO    \u001b[0m | \u001b[36mtrack_gardener.converters.track_array_2_gardener\u001b[0m:\u001b[36mconvert_labeled_frame_to_cells\u001b[0m:\u001b[36m88\u001b[0m - \u001b[1mFound 85 labeled objects at t=40\u001b[0m\n",
      " 45%|████▍     | 41/92 [00:29<00:48,  1.05it/s]\u001b[32m2025-07-23 15:54:14.153\u001b[0m | \u001b[1mINFO    \u001b[0m | \u001b[36mtrack_gardener.converters.track_array_2_gardener\u001b[0m:\u001b[36mconvert_labeled_frame_to_cells\u001b[0m:\u001b[36m88\u001b[0m - \u001b[1mFound 87 labeled objects at t=41\u001b[0m\n",
      " 46%|████▌     | 42/92 [00:30<00:49,  1.01it/s]\u001b[32m2025-07-23 15:54:15.221\u001b[0m | \u001b[1mINFO    \u001b[0m | \u001b[36mtrack_gardener.converters.track_array_2_gardener\u001b[0m:\u001b[36mconvert_labeled_frame_to_cells\u001b[0m:\u001b[36m88\u001b[0m - \u001b[1mFound 91 labeled objects at t=42\u001b[0m\n",
      " 47%|████▋     | 43/92 [00:31<00:50,  1.04s/it]\u001b[32m2025-07-23 15:54:16.377\u001b[0m | \u001b[1mINFO    \u001b[0m | \u001b[36mtrack_gardener.converters.track_array_2_gardener\u001b[0m:\u001b[36mconvert_labeled_frame_to_cells\u001b[0m:\u001b[36m88\u001b[0m - \u001b[1mFound 95 labeled objects at t=43\u001b[0m\n",
      " 48%|████▊     | 44/92 [00:33<00:52,  1.08s/it]\u001b[32m2025-07-23 15:54:17.573\u001b[0m | \u001b[1mINFO    \u001b[0m | \u001b[36mtrack_gardener.converters.track_array_2_gardener\u001b[0m:\u001b[36mconvert_labeled_frame_to_cells\u001b[0m:\u001b[36m88\u001b[0m - \u001b[1mFound 96 labeled objects at t=44\u001b[0m\n",
      " 49%|████▉     | 45/92 [00:34<00:56,  1.19s/it]\u001b[32m2025-07-23 15:54:19.013\u001b[0m | \u001b[1mINFO    \u001b[0m | \u001b[36mtrack_gardener.converters.track_array_2_gardener\u001b[0m:\u001b[36mconvert_labeled_frame_to_cells\u001b[0m:\u001b[36m88\u001b[0m - \u001b[1mFound 98 labeled objects at t=45\u001b[0m\n",
      " 50%|█████     | 46/92 [00:35<00:51,  1.13s/it]\u001b[32m2025-07-23 15:54:19.995\u001b[0m | \u001b[1mINFO    \u001b[0m | \u001b[36mtrack_gardener.converters.track_array_2_gardener\u001b[0m:\u001b[36mconvert_labeled_frame_to_cells\u001b[0m:\u001b[36m88\u001b[0m - \u001b[1mFound 99 labeled objects at t=46\u001b[0m\n",
      " 51%|█████     | 47/92 [00:36<00:53,  1.20s/it]\u001b[32m2025-07-23 15:54:21.366\u001b[0m | \u001b[1mINFO    \u001b[0m | \u001b[36mtrack_gardener.converters.track_array_2_gardener\u001b[0m:\u001b[36mconvert_labeled_frame_to_cells\u001b[0m:\u001b[36m88\u001b[0m - \u001b[1mFound 100 labeled objects at t=47\u001b[0m\n",
      " 52%|█████▏    | 48/92 [00:37<00:52,  1.20s/it]\u001b[32m2025-07-23 15:54:22.565\u001b[0m | \u001b[1mINFO    \u001b[0m | \u001b[36mtrack_gardener.converters.track_array_2_gardener\u001b[0m:\u001b[36mconvert_labeled_frame_to_cells\u001b[0m:\u001b[36m88\u001b[0m - \u001b[1mFound 102 labeled objects at t=48\u001b[0m\n",
      " 53%|█████▎    | 49/92 [00:39<00:50,  1.18s/it]\u001b[32m2025-07-23 15:54:23.673\u001b[0m | \u001b[1mINFO    \u001b[0m | \u001b[36mtrack_gardener.converters.track_array_2_gardener\u001b[0m:\u001b[36mconvert_labeled_frame_to_cells\u001b[0m:\u001b[36m88\u001b[0m - \u001b[1mFound 106 labeled objects at t=49\u001b[0m\n",
      " 54%|█████▍    | 50/92 [00:40<00:49,  1.18s/it]\u001b[32m2025-07-23 15:54:24.892\u001b[0m | \u001b[1mINFO    \u001b[0m | \u001b[36mtrack_gardener.converters.track_array_2_gardener\u001b[0m:\u001b[36mconvert_labeled_frame_to_cells\u001b[0m:\u001b[36m88\u001b[0m - \u001b[1mFound 109 labeled objects at t=50\u001b[0m\n",
      " 55%|█████▌    | 51/92 [00:41<00:47,  1.16s/it]\u001b[32m2025-07-23 15:54:25.970\u001b[0m | \u001b[1mINFO    \u001b[0m | \u001b[36mtrack_gardener.converters.track_array_2_gardener\u001b[0m:\u001b[36mconvert_labeled_frame_to_cells\u001b[0m:\u001b[36m88\u001b[0m - \u001b[1mFound 109 labeled objects at t=51\u001b[0m\n",
      " 57%|█████▋    | 52/92 [00:42<00:50,  1.25s/it]\u001b[32m2025-07-23 15:54:27.451\u001b[0m | \u001b[1mINFO    \u001b[0m | \u001b[36mtrack_gardener.converters.track_array_2_gardener\u001b[0m:\u001b[36mconvert_labeled_frame_to_cells\u001b[0m:\u001b[36m88\u001b[0m - \u001b[1mFound 113 labeled objects at t=52\u001b[0m\n",
      " 58%|█████▊    | 53/92 [00:44<00:47,  1.22s/it]\u001b[32m2025-07-23 15:54:28.580\u001b[0m | \u001b[1mINFO    \u001b[0m | \u001b[36mtrack_gardener.converters.track_array_2_gardener\u001b[0m:\u001b[36mconvert_labeled_frame_to_cells\u001b[0m:\u001b[36m88\u001b[0m - \u001b[1mFound 111 labeled objects at t=53\u001b[0m\n",
      " 59%|█████▊    | 54/92 [00:45<00:47,  1.25s/it]\u001b[32m2025-07-23 15:54:29.902\u001b[0m | \u001b[1mINFO    \u001b[0m | \u001b[36mtrack_gardener.converters.track_array_2_gardener\u001b[0m:\u001b[36mconvert_labeled_frame_to_cells\u001b[0m:\u001b[36m88\u001b[0m - \u001b[1mFound 112 labeled objects at t=54\u001b[0m\n",
      " 60%|█████▉    | 55/92 [00:46<00:45,  1.24s/it]\u001b[32m2025-07-23 15:54:31.125\u001b[0m | \u001b[1mINFO    \u001b[0m | \u001b[36mtrack_gardener.converters.track_array_2_gardener\u001b[0m:\u001b[36mconvert_labeled_frame_to_cells\u001b[0m:\u001b[36m88\u001b[0m - \u001b[1mFound 111 labeled objects at t=55\u001b[0m\n",
      " 61%|██████    | 56/92 [00:47<00:45,  1.25s/it]\u001b[32m2025-07-23 15:54:32.406\u001b[0m | \u001b[1mINFO    \u001b[0m | \u001b[36mtrack_gardener.converters.track_array_2_gardener\u001b[0m:\u001b[36mconvert_labeled_frame_to_cells\u001b[0m:\u001b[36m88\u001b[0m - \u001b[1mFound 113 labeled objects at t=56\u001b[0m\n",
      " 62%|██████▏   | 57/92 [00:49<00:45,  1.30s/it]\u001b[32m2025-07-23 15:54:33.837\u001b[0m | \u001b[1mINFO    \u001b[0m | \u001b[36mtrack_gardener.converters.track_array_2_gardener\u001b[0m:\u001b[36mconvert_labeled_frame_to_cells\u001b[0m:\u001b[36m88\u001b[0m - \u001b[1mFound 115 labeled objects at t=57\u001b[0m\n",
      " 63%|██████▎   | 58/92 [00:50<00:43,  1.28s/it]\u001b[32m2025-07-23 15:54:35.062\u001b[0m | \u001b[1mINFO    \u001b[0m | \u001b[36mtrack_gardener.converters.track_array_2_gardener\u001b[0m:\u001b[36mconvert_labeled_frame_to_cells\u001b[0m:\u001b[36m88\u001b[0m - \u001b[1mFound 116 labeled objects at t=58\u001b[0m\n",
      " 64%|██████▍   | 59/92 [00:51<00:44,  1.34s/it]\u001b[32m2025-07-23 15:54:36.525\u001b[0m | \u001b[1mINFO    \u001b[0m | \u001b[36mtrack_gardener.converters.track_array_2_gardener\u001b[0m:\u001b[36mconvert_labeled_frame_to_cells\u001b[0m:\u001b[36m88\u001b[0m - \u001b[1mFound 116 labeled objects at t=59\u001b[0m\n",
      " 65%|██████▌   | 60/92 [00:53<00:41,  1.29s/it]\u001b[32m2025-07-23 15:54:37.717\u001b[0m | \u001b[1mINFO    \u001b[0m | \u001b[36mtrack_gardener.converters.track_array_2_gardener\u001b[0m:\u001b[36mconvert_labeled_frame_to_cells\u001b[0m:\u001b[36m88\u001b[0m - \u001b[1mFound 115 labeled objects at t=60\u001b[0m\n",
      " 66%|██████▋   | 61/92 [00:54<00:39,  1.28s/it]\u001b[32m2025-07-23 15:54:38.970\u001b[0m | \u001b[1mINFO    \u001b[0m | \u001b[36mtrack_gardener.converters.track_array_2_gardener\u001b[0m:\u001b[36mconvert_labeled_frame_to_cells\u001b[0m:\u001b[36m88\u001b[0m - \u001b[1mFound 116 labeled objects at t=61\u001b[0m\n",
      " 67%|██████▋   | 62/92 [00:55<00:36,  1.23s/it]\u001b[32m2025-07-23 15:54:40.079\u001b[0m | \u001b[1mINFO    \u001b[0m | \u001b[36mtrack_gardener.converters.track_array_2_gardener\u001b[0m:\u001b[36mconvert_labeled_frame_to_cells\u001b[0m:\u001b[36m88\u001b[0m - \u001b[1mFound 116 labeled objects at t=62\u001b[0m\n",
      " 68%|██████▊   | 63/92 [00:56<00:36,  1.26s/it]\u001b[32m2025-07-23 15:54:41.408\u001b[0m | \u001b[1mINFO    \u001b[0m | \u001b[36mtrack_gardener.converters.track_array_2_gardener\u001b[0m:\u001b[36mconvert_labeled_frame_to_cells\u001b[0m:\u001b[36m88\u001b[0m - \u001b[1mFound 117 labeled objects at t=63\u001b[0m\n",
      " 70%|██████▉   | 64/92 [00:58<00:36,  1.31s/it]\u001b[32m2025-07-23 15:54:42.842\u001b[0m | \u001b[1mINFO    \u001b[0m | \u001b[36mtrack_gardener.converters.track_array_2_gardener\u001b[0m:\u001b[36mconvert_labeled_frame_to_cells\u001b[0m:\u001b[36m88\u001b[0m - \u001b[1mFound 118 labeled objects at t=64\u001b[0m\n",
      " 71%|███████   | 65/92 [00:59<00:36,  1.34s/it]\u001b[32m2025-07-23 15:54:44.261\u001b[0m | \u001b[1mINFO    \u001b[0m | \u001b[36mtrack_gardener.converters.track_array_2_gardener\u001b[0m:\u001b[36mconvert_labeled_frame_to_cells\u001b[0m:\u001b[36m88\u001b[0m - \u001b[1mFound 120 labeled objects at t=65\u001b[0m\n",
      " 72%|███████▏  | 66/92 [01:01<00:34,  1.34s/it]\u001b[32m2025-07-23 15:54:45.578\u001b[0m | \u001b[1mINFO    \u001b[0m | \u001b[36mtrack_gardener.converters.track_array_2_gardener\u001b[0m:\u001b[36mconvert_labeled_frame_to_cells\u001b[0m:\u001b[36m88\u001b[0m - \u001b[1mFound 120 labeled objects at t=66\u001b[0m\n",
      " 73%|███████▎  | 67/92 [01:02<00:32,  1.30s/it]\u001b[32m2025-07-23 15:54:46.795\u001b[0m | \u001b[1mINFO    \u001b[0m | \u001b[36mtrack_gardener.converters.track_array_2_gardener\u001b[0m:\u001b[36mconvert_labeled_frame_to_cells\u001b[0m:\u001b[36m88\u001b[0m - \u001b[1mFound 121 labeled objects at t=67\u001b[0m\n",
      " 74%|███████▍  | 68/92 [01:03<00:32,  1.35s/it]\u001b[32m2025-07-23 15:54:48.252\u001b[0m | \u001b[1mINFO    \u001b[0m | \u001b[36mtrack_gardener.converters.track_array_2_gardener\u001b[0m:\u001b[36mconvert_labeled_frame_to_cells\u001b[0m:\u001b[36m88\u001b[0m - \u001b[1mFound 121 labeled objects at t=68\u001b[0m\n",
      " 75%|███████▌  | 69/92 [01:05<00:31,  1.37s/it]\u001b[32m2025-07-23 15:54:49.683\u001b[0m | \u001b[1mINFO    \u001b[0m | \u001b[36mtrack_gardener.converters.track_array_2_gardener\u001b[0m:\u001b[36mconvert_labeled_frame_to_cells\u001b[0m:\u001b[36m88\u001b[0m - \u001b[1mFound 121 labeled objects at t=69\u001b[0m\n",
      " 76%|███████▌  | 70/92 [01:06<00:29,  1.34s/it]\u001b[32m2025-07-23 15:54:50.951\u001b[0m | \u001b[1mINFO    \u001b[0m | \u001b[36mtrack_gardener.converters.track_array_2_gardener\u001b[0m:\u001b[36mconvert_labeled_frame_to_cells\u001b[0m:\u001b[36m88\u001b[0m - \u001b[1mFound 122 labeled objects at t=70\u001b[0m\n",
      " 77%|███████▋  | 71/92 [01:07<00:29,  1.40s/it]\u001b[32m2025-07-23 15:54:52.476\u001b[0m | \u001b[1mINFO    \u001b[0m | \u001b[36mtrack_gardener.converters.track_array_2_gardener\u001b[0m:\u001b[36mconvert_labeled_frame_to_cells\u001b[0m:\u001b[36m88\u001b[0m - \u001b[1mFound 122 labeled objects at t=71\u001b[0m\n",
      " 78%|███████▊  | 72/92 [01:09<00:26,  1.35s/it]\u001b[32m2025-07-23 15:54:53.717\u001b[0m | \u001b[1mINFO    \u001b[0m | \u001b[36mtrack_gardener.converters.track_array_2_gardener\u001b[0m:\u001b[36mconvert_labeled_frame_to_cells\u001b[0m:\u001b[36m88\u001b[0m - \u001b[1mFound 122 labeled objects at t=72\u001b[0m\n",
      " 79%|███████▉  | 73/92 [01:10<00:26,  1.38s/it]\u001b[32m2025-07-23 15:54:55.186\u001b[0m | \u001b[1mINFO    \u001b[0m | \u001b[36mtrack_gardener.converters.track_array_2_gardener\u001b[0m:\u001b[36mconvert_labeled_frame_to_cells\u001b[0m:\u001b[36m88\u001b[0m - \u001b[1mFound 122 labeled objects at t=73\u001b[0m\n",
      " 80%|████████  | 74/92 [01:11<00:24,  1.36s/it]\u001b[32m2025-07-23 15:54:56.486\u001b[0m | \u001b[1mINFO    \u001b[0m | \u001b[36mtrack_gardener.converters.track_array_2_gardener\u001b[0m:\u001b[36mconvert_labeled_frame_to_cells\u001b[0m:\u001b[36m88\u001b[0m - \u001b[1mFound 122 labeled objects at t=74\u001b[0m\n",
      " 82%|████████▏ | 75/92 [01:13<00:23,  1.38s/it]\u001b[32m2025-07-23 15:54:57.890\u001b[0m | \u001b[1mINFO    \u001b[0m | \u001b[36mtrack_gardener.converters.track_array_2_gardener\u001b[0m:\u001b[36mconvert_labeled_frame_to_cells\u001b[0m:\u001b[36m88\u001b[0m - \u001b[1mFound 123 labeled objects at t=75\u001b[0m\n",
      " 83%|████████▎ | 76/92 [01:14<00:21,  1.37s/it]\u001b[32m2025-07-23 15:54:59.245\u001b[0m | \u001b[1mINFO    \u001b[0m | \u001b[36mtrack_gardener.converters.track_array_2_gardener\u001b[0m:\u001b[36mconvert_labeled_frame_to_cells\u001b[0m:\u001b[36m88\u001b[0m - \u001b[1mFound 125 labeled objects at t=76\u001b[0m\n",
      " 84%|████████▎ | 77/92 [01:16<00:21,  1.41s/it]\u001b[32m2025-07-23 15:55:00.749\u001b[0m | \u001b[1mINFO    \u001b[0m | \u001b[36mtrack_gardener.converters.track_array_2_gardener\u001b[0m:\u001b[36mconvert_labeled_frame_to_cells\u001b[0m:\u001b[36m88\u001b[0m - \u001b[1mFound 124 labeled objects at t=77\u001b[0m\n",
      " 85%|████████▍ | 78/92 [01:17<00:19,  1.38s/it]\u001b[32m2025-07-23 15:55:02.067\u001b[0m | \u001b[1mINFO    \u001b[0m | \u001b[36mtrack_gardener.converters.track_array_2_gardener\u001b[0m:\u001b[36mconvert_labeled_frame_to_cells\u001b[0m:\u001b[36m88\u001b[0m - \u001b[1mFound 126 labeled objects at t=78\u001b[0m\n",
      " 86%|████████▌ | 79/92 [01:19<00:18,  1.42s/it]\u001b[32m2025-07-23 15:55:03.590\u001b[0m | \u001b[1mINFO    \u001b[0m | \u001b[36mtrack_gardener.converters.track_array_2_gardener\u001b[0m:\u001b[36mconvert_labeled_frame_to_cells\u001b[0m:\u001b[36m88\u001b[0m - \u001b[1mFound 126 labeled objects at t=79\u001b[0m\n",
      " 87%|████████▋ | 80/92 [01:20<00:17,  1.47s/it]\u001b[32m2025-07-23 15:55:05.190\u001b[0m | \u001b[1mINFO    \u001b[0m | \u001b[36mtrack_gardener.converters.track_array_2_gardener\u001b[0m:\u001b[36mconvert_labeled_frame_to_cells\u001b[0m:\u001b[36m88\u001b[0m - \u001b[1mFound 128 labeled objects at t=80\u001b[0m\n",
      " 88%|████████▊ | 81/92 [01:22<00:16,  1.47s/it]\u001b[32m2025-07-23 15:55:06.638\u001b[0m | \u001b[1mINFO    \u001b[0m | \u001b[36mtrack_gardener.converters.track_array_2_gardener\u001b[0m:\u001b[36mconvert_labeled_frame_to_cells\u001b[0m:\u001b[36m88\u001b[0m - \u001b[1mFound 127 labeled objects at t=81\u001b[0m\n",
      " 89%|████████▉ | 82/92 [01:23<00:14,  1.43s/it]\u001b[32m2025-07-23 15:55:07.974\u001b[0m | \u001b[1mINFO    \u001b[0m | \u001b[36mtrack_gardener.converters.track_array_2_gardener\u001b[0m:\u001b[36mconvert_labeled_frame_to_cells\u001b[0m:\u001b[36m88\u001b[0m - \u001b[1mFound 129 labeled objects at t=82\u001b[0m\n",
      " 90%|█████████ | 83/92 [01:24<00:13,  1.48s/it]\u001b[32m2025-07-23 15:55:09.564\u001b[0m | \u001b[1mINFO    \u001b[0m | \u001b[36mtrack_gardener.converters.track_array_2_gardener\u001b[0m:\u001b[36mconvert_labeled_frame_to_cells\u001b[0m:\u001b[36m88\u001b[0m - \u001b[1mFound 130 labeled objects at t=83\u001b[0m\n",
      " 91%|█████████▏| 84/92 [01:26<00:11,  1.46s/it]\u001b[32m2025-07-23 15:55:10.968\u001b[0m | \u001b[1mINFO    \u001b[0m | \u001b[36mtrack_gardener.converters.track_array_2_gardener\u001b[0m:\u001b[36mconvert_labeled_frame_to_cells\u001b[0m:\u001b[36m88\u001b[0m - \u001b[1mFound 130 labeled objects at t=84\u001b[0m\n",
      " 92%|█████████▏| 85/92 [01:28<00:10,  1.52s/it]\u001b[32m2025-07-23 15:55:12.617\u001b[0m | \u001b[1mINFO    \u001b[0m | \u001b[36mtrack_gardener.converters.track_array_2_gardener\u001b[0m:\u001b[36mconvert_labeled_frame_to_cells\u001b[0m:\u001b[36m88\u001b[0m - \u001b[1mFound 132 labeled objects at t=85\u001b[0m\n",
      " 93%|█████████▎| 86/92 [01:29<00:08,  1.46s/it]\u001b[32m2025-07-23 15:55:13.973\u001b[0m | \u001b[1mINFO    \u001b[0m | \u001b[36mtrack_gardener.converters.track_array_2_gardener\u001b[0m:\u001b[36mconvert_labeled_frame_to_cells\u001b[0m:\u001b[36m88\u001b[0m - \u001b[1mFound 134 labeled objects at t=86\u001b[0m\n",
      " 95%|█████████▍| 87/92 [01:31<00:07,  1.54s/it]\u001b[32m2025-07-23 15:55:15.682\u001b[0m | \u001b[1mINFO    \u001b[0m | \u001b[36mtrack_gardener.converters.track_array_2_gardener\u001b[0m:\u001b[36mconvert_labeled_frame_to_cells\u001b[0m:\u001b[36m88\u001b[0m - \u001b[1mFound 134 labeled objects at t=87\u001b[0m\n",
      " 96%|█████████▌| 88/92 [01:32<00:06,  1.57s/it]\u001b[32m2025-07-23 15:55:17.338\u001b[0m | \u001b[1mINFO    \u001b[0m | \u001b[36mtrack_gardener.converters.track_array_2_gardener\u001b[0m:\u001b[36mconvert_labeled_frame_to_cells\u001b[0m:\u001b[36m88\u001b[0m - \u001b[1mFound 134 labeled objects at t=88\u001b[0m\n",
      " 97%|█████████▋| 89/92 [01:34<00:04,  1.60s/it]\u001b[32m2025-07-23 15:55:18.980\u001b[0m | \u001b[1mINFO    \u001b[0m | \u001b[36mtrack_gardener.converters.track_array_2_gardener\u001b[0m:\u001b[36mconvert_labeled_frame_to_cells\u001b[0m:\u001b[36m88\u001b[0m - \u001b[1mFound 133 labeled objects at t=89\u001b[0m\n",
      " 98%|█████████▊| 90/92 [01:36<00:03,  1.59s/it]\u001b[32m2025-07-23 15:55:20.572\u001b[0m | \u001b[1mINFO    \u001b[0m | \u001b[36mtrack_gardener.converters.track_array_2_gardener\u001b[0m:\u001b[36mconvert_labeled_frame_to_cells\u001b[0m:\u001b[36m88\u001b[0m - \u001b[1mFound 133 labeled objects at t=90\u001b[0m\n",
      " 99%|█████████▉| 91/92 [01:37<00:01,  1.59s/it]\u001b[32m2025-07-23 15:55:22.150\u001b[0m | \u001b[1mINFO    \u001b[0m | \u001b[36mtrack_gardener.converters.track_array_2_gardener\u001b[0m:\u001b[36mconvert_labeled_frame_to_cells\u001b[0m:\u001b[36m88\u001b[0m - \u001b[1mFound 136 labeled objects at t=91\u001b[0m\n",
      "100%|██████████| 92/92 [01:39<00:00,  1.08s/it]\n"
     ]
    }
   ],
   "source": [
    "segm_geff_to_db(segm_array, config, geff_group_path)"
   ]
  },
  {
   "cell_type": "code",
   "execution_count": null,
   "id": "00a87d52",
   "metadata": {},
   "outputs": [],
   "source": []
  }
 ],
 "metadata": {
  "kernelspec": {
   "display_name": "gardener-env2",
   "language": "python",
   "name": "python3"
  },
  "language_info": {
   "codemirror_mode": {
    "name": "ipython",
    "version": 3
   },
   "file_extension": ".py",
   "mimetype": "text/x-python",
   "name": "python",
   "nbconvert_exporter": "python",
   "pygments_lexer": "ipython3",
   "version": "3.11.13"
  }
 },
 "nbformat": 4,
 "nbformat_minor": 5
}
