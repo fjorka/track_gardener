{
 "cells": [
  {
   "cell_type": "code",
   "execution_count": null,
   "id": "0e8a8c70",
   "metadata": {},
   "outputs": [],
   "source": [
    "from track_gardener.converters.gardener_2_geff import TGdb_to_geff"
   ]
  },
  {
   "cell_type": "code",
   "execution_count": 2,
   "id": "7a25c842",
   "metadata": {},
   "outputs": [],
   "source": [
    "db_path = 'Fluo-N2DL-HeLa-01_sample.db'\n",
    "geff_path = r'Fluo-N2DL-HeLa-01_sample.geff'"
   ]
  },
  {
   "cell_type": "code",
   "execution_count": null,
   "id": "979ca162",
   "metadata": {},
   "outputs": [],
   "source": [
    "TGdb_to_geff(db_path, geff_path)"
   ]
  }
 ],
 "metadata": {
  "kernelspec": {
   "display_name": "gardener-env3",
   "language": "python",
   "name": "python3"
  },
  "language_info": {
   "codemirror_mode": {
    "name": "ipython",
    "version": 3
   },
   "file_extension": ".py",
   "mimetype": "text/x-python",
   "name": "python",
   "nbconvert_exporter": "python",
   "pygments_lexer": "ipython3",
   "version": "3.11.13"
  }
 },
 "nbformat": 4,
 "nbformat_minor": 5
}
