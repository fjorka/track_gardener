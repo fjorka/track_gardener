{
 "cells": [
  {
   "cell_type": "code",
   "execution_count": 3,
   "metadata": {},
   "outputs": [
    {
     "name": "stdout",
     "output_type": "stream",
     "text": [
      "The autoreload extension is already loaded. To reload it, use:\n",
      "  %reload_ext autoreload\n"
     ]
    }
   ],
   "source": [
    "%load_ext autoreload\n",
    "%autoreload 2\n",
    "\n",
    "import os\n",
    "import sys\n",
    "\n",
    "import napari\n",
    "\n",
    "sys.path.append('../src')\n",
    "\n",
    "from track_gardener.widget.widget_main import TrackGardener"
   ]
  },
  {
   "cell_type": "code",
   "execution_count": 4,
   "metadata": {},
   "outputs": [
    {
     "data": {
      "text/plain": [
       "False"
      ]
     },
     "execution_count": 4,
     "metadata": {},
     "output_type": "execute_result"
    }
   ],
   "source": [
    "os.environ['NAPARI_PERFMON'] = '0'\n",
    "\n",
    "from napari.settings import get_settings\n",
    "\n",
    "settings = get_settings()\n",
    "settings.experimental.async_\n",
    "#settings.experimental.async_=True"
   ]
  },
  {
   "cell_type": "code",
   "execution_count": null,
   "metadata": {},
   "outputs": [
    {
     "data": {
      "text/plain": [
       "<napari._qt.widgets.qt_viewer_dock_widget.QtViewerDockWidget at 0x1e7e78e4550>"
      ]
     },
     "execution_count": 5,
     "metadata": {},
     "output_type": "execute_result"
    },
    {
     "name": "stderr",
     "output_type": "stream",
     "text": [
      "c:\\Users\\KMK280\\AppData\\Local\\anaconda3\\envs\\gardener-env\\lib\\site-packages\\zarr\\creation.py:614: UserWarning: ignoring keyword argument 'read_only'\n",
      "  compressor, fill_value = _kwargs_compat(compressor, fill_value, kwargs)\n",
      "c:\\Users\\KMK280\\AppData\\Local\\anaconda3\\envs\\gardener-env\\lib\\site-packages\\zarr\\creation.py:614: UserWarning: ignoring keyword argument 'read_only'\n",
      "  compressor, fill_value = _kwargs_compat(compressor, fill_value, kwargs)\n"
     ]
    }
   ],
   "source": [
    "viewer = napari.Viewer()\n",
    "track_gardener = TrackGardener(viewer)\n",
    "viewer.window.add_dock_widget(track_gardener,area='right',name='Track Gardener')"
   ]
  },
  {
   "cell_type": "code",
   "execution_count": 8,
   "metadata": {},
   "outputs": [
    {
     "data": {
      "text/plain": [
       "track_gardener.widget.signal_graph_widget.CellGraphWidget"
      ]
     },
     "execution_count": 8,
     "metadata": {},
     "output_type": "execute_result"
    }
   ],
   "source": [
    "type(track_gardener.settings_window.added_widgets[1])"
   ]
  },
  {
   "cell_type": "code",
   "execution_count": 9,
   "metadata": {},
   "outputs": [],
   "source": [
    "track_gardener.viewer.window.remove_dock_widget(track_gardener.settings_window.added_widgets[1])"
   ]
  },
  {
   "cell_type": "code",
   "execution_count": 3,
   "metadata": {},
   "outputs": [],
   "source": [
    "from sqlalchemy import create_engine\n",
    "from sqlalchemy.orm import sessionmaker\n",
    "\n",
    "from track_gardener.db.db_model import CellDB\n"
   ]
  },
  {
   "cell_type": "code",
   "execution_count": 7,
   "metadata": {},
   "outputs": [
    {
     "name": "stdout",
     "output_type": "stream",
     "text": [
      "True\n",
      "False Requested signal \"mean_intensity_ch1\" not present in the database.\n"
     ]
    }
   ],
   "source": [
    "database_path = r'D:\\track-gardener\\src\\track_gardener\\_tests\\fixtures\\db_2tables_test.db'\n",
    "\n",
    "engine = create_engine(f\"sqlite:///{database_path}\")\n",
    "session = sessionmaker(bind=engine)()\n",
    "example_cell = session.query(CellDB).first()\n",
    "signal_list = list(example_cell.signals.keys())\n",
    "for x in ['area','mean_intensity_ch1']:\n",
    "    if x not in signal_list:\n",
    "        print(\n",
    "            False,\n",
    "            f'Requested signal \"{x}\" not present in the database.',\n",
    "        )\n",
    "    else:\n",
    "        print(True)"
   ]
  },
  {
   "cell_type": "code",
   "execution_count": 8,
   "metadata": {},
   "outputs": [
    {
     "data": {
      "text/plain": [
       "['area', 'ch0_nuc', 'ch0_cyto', 'ch1_nuc', 'ch1_cyto']"
      ]
     },
     "execution_count": 8,
     "metadata": {},
     "output_type": "execute_result"
    }
   ],
   "source": [
    "signal_list"
   ]
  },
  {
   "cell_type": "code",
   "execution_count": 45,
   "metadata": {},
   "outputs": [],
   "source": [
    "import napari\n",
    "\n",
    "from track_gardener.db.db_model import CellDB\n",
    "from track_gardener.widget.signal_graph_widget import CellGraphWidget"
   ]
  },
  {
   "cell_type": "code",
   "execution_count": null,
   "metadata": {},
   "outputs": [],
   "source": [
    "database_path = r'D:\\track-gardener\\src\\track_gardener\\_tests\\fixtures\\db_2tables_test.db'\n",
    "\n",
    "engine = create_engine(f\"sqlite:///{database_path}\")\n",
    "session = sessionmaker(bind=engine)()\n",
    "\n"
   ]
  },
  {
   "cell_type": "code",
   "execution_count": 37,
   "metadata": {},
   "outputs": [],
   "source": [
    "t =session.query(CellDB).filter_by(track_id=37401).all()"
   ]
  },
  {
   "cell_type": "code",
   "execution_count": 46,
   "metadata": {},
   "outputs": [],
   "source": [
    "viewer = napari.Viewer()"
   ]
  },
  {
   "cell_type": "code",
   "execution_count": 60,
   "metadata": {},
   "outputs": [],
   "source": [
    "signal_graph = CellGraphWidget(napari_viewer=viewer, sql_session=session,signal_list=['area','mean_intensity_ch1'],signal_sel_list=['area'],color_sel_list = ['white'])"
   ]
  },
  {
   "cell_type": "code",
   "execution_count": null,
   "metadata": {},
   "outputs": [],
   "source": [
    "signal_graph.layout().itemAt()"
   ]
  },
  {
   "cell_type": "code",
   "execution_count": 72,
   "metadata": {},
   "outputs": [
    {
     "data": {
      "text/plain": [
       "True"
      ]
     },
     "execution_count": 72,
     "metadata": {},
     "output_type": "execute_result"
    }
   ],
   "source": [
    "signal_graph.layout().itemAt(1).layout().itemAt(3).widget().isEnabled()"
   ]
  },
  {
   "cell_type": "code",
   "execution_count": 63,
   "metadata": {},
   "outputs": [
    {
     "data": {
      "text/plain": [
       "[]"
      ]
     },
     "execution_count": 63,
     "metadata": {},
     "output_type": "execute_result"
    }
   ],
   "source": [
    "signal_graph.layout().children()[0].children()"
   ]
  },
  {
   "cell_type": "code",
   "execution_count": 53,
   "metadata": {},
   "outputs": [
    {
     "data": {
      "text/plain": [
       "['BottomToTop',\n",
       " 'Direction',\n",
       " 'Down',\n",
       " 'LeftToRight',\n",
       " 'RightToLeft',\n",
       " 'SetDefaultConstraint',\n",
       " 'SetFixedSize',\n",
       " 'SetMaximumSize',\n",
       " 'SetMinAndMaxSize',\n",
       " 'SetMinimumSize',\n",
       " 'SetNoConstraint',\n",
       " 'SizeConstraint',\n",
       " 'TopToBottom',\n",
       " 'Up',\n",
       " '__class__',\n",
       " '__delattr__',\n",
       " '__dict__',\n",
       " '__dir__',\n",
       " '__doc__',\n",
       " '__eq__',\n",
       " '__format__',\n",
       " '__ge__',\n",
       " '__getattr__',\n",
       " '__getattribute__',\n",
       " '__gt__',\n",
       " '__hash__',\n",
       " '__init__',\n",
       " '__init_subclass__',\n",
       " '__le__',\n",
       " '__len__',\n",
       " '__lt__',\n",
       " '__module__',\n",
       " '__ne__',\n",
       " '__new__',\n",
       " '__reduce__',\n",
       " '__reduce_ex__',\n",
       " '__repr__',\n",
       " '__setattr__',\n",
       " '__sizeof__',\n",
       " '__str__',\n",
       " '__subclasshook__',\n",
       " '__weakref__',\n",
       " 'activate',\n",
       " 'addChildLayout',\n",
       " 'addChildWidget',\n",
       " 'addItem',\n",
       " 'addLayout',\n",
       " 'addSpacerItem',\n",
       " 'addSpacing',\n",
       " 'addStretch',\n",
       " 'addStrut',\n",
       " 'addWidget',\n",
       " 'alignment',\n",
       " 'alignmentRect',\n",
       " 'blockSignals',\n",
       " 'childEvent',\n",
       " 'children',\n",
       " 'closestAcceptableSize',\n",
       " 'connectNotify',\n",
       " 'contentsMargins',\n",
       " 'contentsRect',\n",
       " 'controlTypes',\n",
       " 'count',\n",
       " 'customEvent',\n",
       " 'deleteLater',\n",
       " 'destroyed',\n",
       " 'direction',\n",
       " 'disconnect',\n",
       " 'disconnectNotify',\n",
       " 'dumpObjectInfo',\n",
       " 'dumpObjectTree',\n",
       " 'dynamicPropertyNames',\n",
       " 'event',\n",
       " 'eventFilter',\n",
       " 'expandingDirections',\n",
       " 'findChild',\n",
       " 'findChildren',\n",
       " 'geometry',\n",
       " 'getContentsMargins',\n",
       " 'hasHeightForWidth',\n",
       " 'heightForWidth',\n",
       " 'indexOf',\n",
       " 'inherits',\n",
       " 'insertItem',\n",
       " 'insertLayout',\n",
       " 'insertSpacerItem',\n",
       " 'insertSpacing',\n",
       " 'insertStretch',\n",
       " 'insertWidget',\n",
       " 'installEventFilter',\n",
       " 'invalidate',\n",
       " 'isEmpty',\n",
       " 'isEnabled',\n",
       " 'isSignalConnected',\n",
       " 'isWidgetType',\n",
       " 'isWindowType',\n",
       " 'itemAt',\n",
       " 'killTimer',\n",
       " 'layout',\n",
       " 'maximumSize',\n",
       " 'menuBar',\n",
       " 'metaObject',\n",
       " 'minimumHeightForWidth',\n",
       " 'minimumSize',\n",
       " 'moveToThread',\n",
       " 'objectName',\n",
       " 'objectNameChanged',\n",
       " 'parent',\n",
       " 'parentWidget',\n",
       " 'property',\n",
       " 'pyqtConfigure',\n",
       " 'receivers',\n",
       " 'removeEventFilter',\n",
       " 'removeItem',\n",
       " 'removeWidget',\n",
       " 'replaceWidget',\n",
       " 'sender',\n",
       " 'senderSignalIndex',\n",
       " 'setAlignment',\n",
       " 'setContentsMargins',\n",
       " 'setDirection',\n",
       " 'setEnabled',\n",
       " 'setGeometry',\n",
       " 'setMenuBar',\n",
       " 'setObjectName',\n",
       " 'setParent',\n",
       " 'setProperty',\n",
       " 'setSizeConstraint',\n",
       " 'setSpacing',\n",
       " 'setStretch',\n",
       " 'setStretchFactor',\n",
       " 'signalsBlocked',\n",
       " 'sizeConstraint',\n",
       " 'sizeHint',\n",
       " 'spacerItem',\n",
       " 'spacing',\n",
       " 'startTimer',\n",
       " 'staticMetaObject',\n",
       " 'stretch',\n",
       " 'takeAt',\n",
       " 'thread',\n",
       " 'timerEvent',\n",
       " 'totalHeightForWidth',\n",
       " 'totalMaximumSize',\n",
       " 'totalMinimumSize',\n",
       " 'totalSizeHint',\n",
       " 'tr',\n",
       " 'update',\n",
       " 'widget',\n",
       " 'widgetEvent']"
      ]
     },
     "execution_count": 53,
     "metadata": {},
     "output_type": "execute_result"
    }
   ],
   "source": [
    "dir(signal_graph.layout())"
   ]
  },
  {
   "cell_type": "code",
   "execution_count": 25,
   "metadata": {},
   "outputs": [
    {
     "data": {
      "text/plain": [
       "0.5"
      ]
     },
     "execution_count": 25,
     "metadata": {},
     "output_type": "execute_result"
    }
   ],
   "source": [
    "t.nodes[37401]['y']"
   ]
  },
  {
   "cell_type": "code",
   "execution_count": null,
   "metadata": {},
   "outputs": [],
   "source": []
  }
 ],
 "metadata": {
  "kernelspec": {
   "display_name": "gardener-env",
   "language": "python",
   "name": "python3"
  },
  "language_info": {
   "codemirror_mode": {
    "name": "ipython",
    "version": 3
   },
   "file_extension": ".py",
   "mimetype": "text/x-python",
   "name": "python",
   "nbconvert_exporter": "python",
   "pygments_lexer": "ipython3",
   "version": "3.10.15"
  }
 },
 "nbformat": 4,
 "nbformat_minor": 2
}
